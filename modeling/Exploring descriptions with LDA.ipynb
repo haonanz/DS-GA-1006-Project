{
 "cells": [
  {
   "cell_type": "markdown",
   "metadata": {},
   "source": [
    "# Learning optimal K for LDA\n",
    "\n",
    "In this notebook, we learn an optimal topic representation from the unit descriptions for each recorded sale. Specifically, we use the following approach:\n",
    "- We split the training data into a subtraining/validation set (80/20 split).\n",
    "- We vectorize each document in the subtraining set using a simple count vectorizer\n",
    "- For each candidate number of topics K, we:\n",
    "    - Learn an LDA model on the subtraining counts\n",
    "    - Featurize the subtraining and validation sets using this model (i.e the documents feature representation are its topic weights).\n",
    "    - Use gradient boosting to learn a regression model to predict log(price)\n",
    "    - Evaluate this model's performance using MSE on the validation set"
   ]
  },
  {
   "cell_type": "code",
   "execution_count": 78,
   "metadata": {
    "collapsed": true
   },
   "outputs": [],
   "source": [
    "import pandas as pd\n",
    "import numpy as np"
   ]
  },
  {
   "cell_type": "code",
   "execution_count": 99,
   "metadata": {
    "collapsed": false
   },
   "outputs": [],
   "source": [
    "#Read in all data\n",
    "df = pd.read_csv('./../processed_data/sales_listings.1.csv', header=0, usecols=['saleid', 'price','description'])\n",
    "for i in range(2,5):\n",
    "    df = df.append(pd.read_csv('./../processed_data/sales_listings.{}.csv'.format(i), header=0, usecols=['saleid', 'price','description']))"
   ]
  },
  {
   "cell_type": "code",
   "execution_count": 100,
   "metadata": {
    "collapsed": false
   },
   "outputs": [
    {
     "name": "stdout",
     "output_type": "stream",
     "text": [
      "Shape with null descriptions (372699, 3)\n",
      "Shape without null vals (364099, 3)\n",
      "Shape without null vals or <1000 price (364078, 3)\n"
     ]
    }
   ],
   "source": [
    "print 'Shape with null descriptions', df.shape\n",
    "df = df.dropna(axis=0, how='any')\n",
    "print 'Shape without null vals', df.shape\n",
    "df = df.loc[df['price'] > 1000, :]\n",
    "print 'Shape without null vals or <1000 price', df.shape"
   ]
  },
  {
   "cell_type": "code",
   "execution_count": 101,
   "metadata": {
    "collapsed": false,
    "scrolled": true
   },
   "outputs": [],
   "source": [
    "from sklearn.model_selection import train_test_split\n",
    "\n",
    "train, test = train_test_split(df, test_size=0.2, random_state=42)"
   ]
  },
  {
   "cell_type": "code",
   "execution_count": 102,
   "metadata": {
    "collapsed": true
   },
   "outputs": [],
   "source": [
    "Train_docs, Test_docs, Train_price, Test_price = train_test_split(train['description'], train['price'], test_size=0.2, random_state=42)"
   ]
  },
  {
   "cell_type": "code",
   "execution_count": 103,
   "metadata": {
    "collapsed": false
   },
   "outputs": [
    {
     "data": {
      "image/png": "[encoded data removed]",
      "text/plain": [
       "<matplotlib.figure.Figure at 0x1080b4450>"
      ]
     },
     "metadata": {},
     "output_type": "display_data"
    }
   ],
   "source": [
    "import matplotlib.pyplot as plt\n",
    "import seaborn as sns\n",
    "%matplotlib inline\n",
    "\n",
    "plt.figure(figsize=(8,6))\n",
    "plt.hist(Train_price.values, bins=100)\n",
    "plt.title('Histogram for untransformed prices')\n",
    "plt.xlabel('price')\n",
    "plt.ylabel('Frequency')\n",
    "plt.show()"
   ]
  },
  {
   "cell_type": "code",
   "execution_count": 104,
   "metadata": {
    "collapsed": false
   },
   "outputs": [
    {
     "data": {
      "text/plain": [
       "<matplotlib.text.Text at 0x122b81750>"
      ]
     },
     "execution_count": 104,
     "metadata": {},
     "output_type": "execute_result"
    },
    {
     "data": {
      "image/png": "[encoded data removed]",
      "text/plain": [
       "<matplotlib.figure.Figure at 0x117e4dc10>"
      ]
     },
     "metadata": {},
     "output_type": "display_data"
    }
   ],
   "source": [
    "plt.figure(figsize=(8,6))\n",
    "plt.hist(np.log10(Train_price.values), bins=100)\n",
    "plt.title('Histogram for log transformed prices')\n",
    "plt.xlabel('log(price)')\n",
    "plt.ylabel('Frequency')"
   ]
  },
  {
   "cell_type": "code",
   "execution_count": 105,
   "metadata": {
    "collapsed": true
   },
   "outputs": [],
   "source": [
    "#Use this log transform\n",
    "Train_price = np.log10(Train_price.values)\n",
    "Test_price = np.log10(Test_price.values)"
   ]
  },
  {
   "cell_type": "code",
   "execution_count": 106,
   "metadata": {
    "collapsed": true
   },
   "outputs": [],
   "source": [
    "#Baseline model: just predict the average log price\n",
    "baseline_pred = np.ones_like(Test_price)*np.mean(Train_price)\n",
    "baseline_mse = mean_squared_error(Test_price, baseline_pred)"
   ]
  },
  {
   "cell_type": "code",
   "execution_count": 107,
   "metadata": {
    "collapsed": true
   },
   "outputs": [],
   "source": [
    "from sklearn.feature_extraction.text import CountVectorizer\n",
    "from sklearn.decomposition import LatentDirichletAllocation\n",
    "\n",
    "#Use GradientBoostingRegressor to learn function from thetas to price\n",
    "from sklearn.ensemble import GradientBoostingRegressor\n",
    "from sklearn.metrics import mean_squared_error\n",
    "\n",
    "#Note introduced hyperparameters: max_df, min_df\n",
    "counter = CountVectorizer(stop_words='english', max_df = 0.9, min_df= 500)\n",
    "train_counts = counter.fit_transform(Train_docs)"
   ]
  },
  {
   "cell_type": "code",
   "execution_count": null,
   "metadata": {
    "collapsed": false
   },
   "outputs": [
    {
     "name": "stdout",
     "output_type": "stream",
     "text": [
      "Running K = 5\n",
      "\n",
      "\tLearning LDA model...\n"
     ]
    }
   ],
   "source": [
    "models = {}\n",
    "num_topics_to_test = range(5,35,5)\n",
    "for n_topics in num_topics_to_test:\n",
    "    print \"Running K = {}\\n\".format(n_topics)\n",
    "    print \"\\tLearning LDA model...\"\n",
    "    #Learn LDA model and get topic weights for training docs\n",
    "    lda = LatentDirichletAllocation(n_topics=n_topics,\n",
    "                                    max_iter=10,\n",
    "                                    learning_method='online',\n",
    "                                    n_jobs = -1, #Uses all cores,\n",
    "                                    random_state=1234)\n",
    "    topic_weights = lda.fit_transform(train_counts)\n",
    "    \n",
    "    #Learn GradientBoostedRegressor model of price ~ topic weights\n",
    "    #Note this model was chosen since it is relatively immune to overfitting\n",
    "    #and is non-linear (which is anticipated to improve performance)\n",
    "    print \"\\tLearning GBR model...\"\n",
    "    gbr = GradientBoostingRegressor()\n",
    "    gbr.fit(topic_weights, Train_price)\n",
    "    \n",
    "    print \"\\tGetting test-set score...\"\n",
    "    #Transform test_docs to topic weight matrix\n",
    "    test_topics = lda.transform(counter.transform(Test_docs))\n",
    "    test_pred = gbr.predict(test_topics)\n",
    "    mse = mean_squared_error(Test_price, test_pred)\n",
    "    \n",
    "    #Save model and score:\n",
    "    print \"\\tSaving model...\\n\"\n",
    "    models[n_topics] = {'lda': lda, 'gbr': gbr, 'test_pred' : test_pred, 'mse': mse}"
   ]
  },
  {
   "cell_type": "code",
   "execution_count": null,
   "metadata": {
    "collapsed": false
   },
   "outputs": [],
   "source": [
    "plt.figure(figsize=(8,6))\n",
    "plt.hist(Test_price - baseline_pred, bins=100, label='Baseline: K = 0', alpha=0.5)\n",
    "for model in models:\n",
    "    #Replace gbr with models[model]['test_pred']\n",
    "    plt.hist(Test_price - models[model]['gbr'].predict(test_topics),\n",
    "             bins=100, label='K = {}'.format(model), alpha=0.5)\n",
    "plt.legend()\n",
    "plt.ylabel('Frequency')\n",
    "plt.title('Comparing the distribution of residuals by K')\n",
    "plt.xlabel('Residual (log(price) - predicted(log(price)))')\n",
    "plt.show()\n",
    "plt.savefig('residual_hist.png')"
   ]
  },
  {
   "cell_type": "code",
   "execution_count": null,
   "metadata": {
    "collapsed": false
   },
   "outputs": [],
   "source": [
    "plt.figure(figsize=(8,6))\n",
    "mses = [(0, baseline_mse)] + [(x, models[x]['mse']) for x in models]\n",
    "plt.plot([x[0] for x in mses], [x[1] for x in mses])\n",
    "plt.xlabel('Number of topics K')\n",
    "plt.ylabel('MSE for log(price) prediction')\n",
    "plt.title('Learning curve: Optimizing K')\n",
    "plt.savefig('learning_curve.png')"
   ]
  },
  {
   "cell_type": "code",
   "execution_count": null,
   "metadata": {
    "collapsed": false,
    "scrolled": true
   },
   "outputs": [],
   "source": [
    "#Use to visualize optimized model\n",
    "\n",
    "#import pyLDAvis\n",
    "#import pyLDAvis.sklearn\n",
    "#pyLDAvis.enable_notebook()\n",
    "#pyLDAvis.sklearn.prepare(lda, train_counts, counter)"
   ]
  }
 ],
 "metadata": {
  "kernelspec": {
   "display_name": "Python 2",
   "language": "python",
   "name": "python2"
  },
  "language_info": {
   "codemirror_mode": {
    "name": "ipython",
    "version": 2
   },
   "file_extension": ".py",
   "mimetype": "text/x-python",
   "name": "python",
   "nbconvert_exporter": "python",
   "pygments_lexer": "ipython2",
   "version": "2.7.10"
  }
 },
 "nbformat": 4,
 "nbformat_minor": 0
}
