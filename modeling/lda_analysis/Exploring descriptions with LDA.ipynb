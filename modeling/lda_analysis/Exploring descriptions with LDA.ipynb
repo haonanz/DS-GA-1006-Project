{
 "cells": [
  {
   "cell_type": "markdown",
   "metadata": {},
   "source": [
    "# Learning optimal K for LDA\n",
    "\n",
    "In this notebook, we learn an optimal topic representation from the unit descriptions for each recorded sale. Specifically, we use the following approach:\n",
    "- We split the training data into a subtraining/validation set (80/20 split).\n",
    "- We vectorize each document in the subtraining set using a simple count vectorizer\n",
    "- For each candidate number of topics K, we:\n",
    "    - Learn an LDA model on the subtraining counts\n",
    "    - Featurize the subtraining and validation sets using this model (i.e the documents feature representation are its topic weights).\n",
    "    - Use gradient boosting to learn a regression model to predict log(price)\n",
    "    - Evaluate this model's performance using MSE on the validation set"
   ]
  },
  {
   "cell_type": "code",
   "execution_count": 2,
   "metadata": {
    "collapsed": true
   },
   "outputs": [],
   "source": [
    "import pandas as pd\n",
    "import numpy as np"
   ]
  },
  {
   "cell_type": "code",
   "execution_count": 3,
   "metadata": {
    "collapsed": false
   },
   "outputs": [],
   "source": [
    "#Read in all data\n",
    "df = pd.read_csv('./../scripts/sales_listings.1.csv.gz', header=0, usecols=['saleid', 'price','description'])\n",
    "for i in range(2,5):\n",
    "    df = df.append(pd.read_csv('./../processed_data/sales_listings.{}.csv'.format(i),\n",
    "                               header=0, usecols=['saleid', 'price','description']), ignore_index=True)"
   ]
  },
  {
   "cell_type": "code",
   "execution_count": 4,
   "metadata": {
    "collapsed": false
   },
   "outputs": [
    {
     "data": {
      "text/html": [
       "<div>\n",
       "<table border=\"1\" class=\"dataframe\">\n",
       "  <thead>\n",
       "    <tr style=\"text-align: right;\">\n",
       "      <th></th>\n",
       "      <th>saleid</th>\n",
       "      <th>price</th>\n",
       "      <th>description</th>\n",
       "    </tr>\n",
       "  </thead>\n",
       "  <tbody>\n",
       "    <tr>\n",
       "      <th>0</th>\n",
       "      <td>building-1-5-avenue-new_york-18a</td>\n",
       "      <td>12230000</td>\n",
       "      <td>located in one of lower fifth avenues most pre...</td>\n",
       "    </tr>\n",
       "    <tr>\n",
       "      <th>1</th>\n",
       "      <td>building-1-dennett-place-brooklyn-house</td>\n",
       "      <td>1995000</td>\n",
       "      <td>in contract the best of the carroll gardens   ...</td>\n",
       "    </tr>\n",
       "    <tr>\n",
       "      <th>2</th>\n",
       "      <td>building-1-east-66th-street-new_york-17ab</td>\n",
       "      <td>13900000</td>\n",
       "      <td>lovely  traditional  three bedroom home on hig...</td>\n",
       "    </tr>\n",
       "    <tr>\n",
       "      <th>3</th>\n",
       "      <td>building-1-east-end-avenue-new_york-12a</td>\n",
       "      <td>5495000</td>\n",
       "      <td>huge price reduction on this spectacular  wate...</td>\n",
       "    </tr>\n",
       "    <tr>\n",
       "      <th>4</th>\n",
       "      <td>building-1-great-jones-alley-2a</td>\n",
       "      <td>4600000</td>\n",
       "      <td>residence 2aa collection of 16 artfully crafte...</td>\n",
       "    </tr>\n",
       "  </tbody>\n",
       "</table>\n",
       "</div>"
      ],
      "text/plain": [
       "                                      saleid     price  \\\n",
       "0           building-1-5-avenue-new_york-18a  12230000   \n",
       "1    building-1-dennett-place-brooklyn-house   1995000   \n",
       "2  building-1-east-66th-street-new_york-17ab  13900000   \n",
       "3    building-1-east-end-avenue-new_york-12a   5495000   \n",
       "4            building-1-great-jones-alley-2a   4600000   \n",
       "\n",
       "                                         description  \n",
       "0  located in one of lower fifth avenues most pre...  \n",
       "1  in contract the best of the carroll gardens   ...  \n",
       "2  lovely  traditional  three bedroom home on hig...  \n",
       "3  huge price reduction on this spectacular  wate...  \n",
       "4  residence 2aa collection of 16 artfully crafte...  "
      ]
     },
     "execution_count": 4,
     "metadata": {},
     "output_type": "execute_result"
    }
   ],
   "source": [
    "df.head()"
   ]
  },
  {
   "cell_type": "code",
   "execution_count": 5,
   "metadata": {
    "collapsed": false
   },
   "outputs": [
    {
     "name": "stdout",
     "output_type": "stream",
     "text": [
      "Shape with null descriptions (377959, 3)\n",
      "Shape without null vals (369266, 3)\n",
      "Shape without null vals or <1000 price (369247, 3)\n"
     ]
    }
   ],
   "source": [
    "print 'Shape with null descriptions', df.shape\n",
    "df = df.dropna(axis=0, how='any')\n",
    "print 'Shape without null vals', df.shape\n",
    "df = df.loc[df['price'] > 1000, :]\n",
    "print 'Shape without null vals or <1000 price', df.shape"
   ]
  },
  {
   "cell_type": "code",
   "execution_count": 6,
   "metadata": {
    "collapsed": false,
    "scrolled": true
   },
   "outputs": [],
   "source": [
    "from sklearn.model_selection import train_test_split\n",
    "\n",
    "train, test = train_test_split(df, test_size=0.2, random_state=42)"
   ]
  },
  {
   "cell_type": "code",
   "execution_count": 7,
   "metadata": {
    "collapsed": true
   },
   "outputs": [],
   "source": [
    "Train_docs, Test_docs, Train_price, Test_price = train_test_split(train['description'], train['price'], test_size=0.2, random_state=42)"
   ]
  },
  {
   "cell_type": "code",
   "execution_count": 8,
   "metadata": {
    "collapsed": false
   },
   "outputs": [
    {
     "data": {
      "image/png": "[encoded data removed]",
      "text/plain": [
       "<matplotlib.figure.Figure at 0x11fc81dd0>"
      ]
     },
     "metadata": {},
     "output_type": "display_data"
    }
   ],
   "source": [
    "import matplotlib.pyplot as plt\n",
    "import seaborn as sns\n",
    "%matplotlib inline\n",
    "\n",
    "plt.figure(figsize=(8,6))\n",
    "plt.hist(Train_price.values, bins=100)\n",
    "plt.title('Histogram for untransformed prices')\n",
    "plt.xlabel('Price')\n",
    "plt.ylabel('Frequency')\n",
    "plt.savefig('figs/untransformed_prices.png')"
   ]
  },
  {
   "cell_type": "code",
   "execution_count": 9,
   "metadata": {
    "collapsed": false
   },
   "outputs": [
    {
     "data": {
      "image/png": "[encoded data removed]",
      "text/plain": [
       "<matplotlib.figure.Figure at 0x121cf4d50>"
      ]
     },
     "metadata": {},
     "output_type": "display_data"
    }
   ],
   "source": [
    "plt.figure(figsize=(8,6))\n",
    "plt.hist(np.log10(Train_price.values), bins=100)\n",
    "plt.title('Histogram for log transformed prices')\n",
    "plt.xlabel('log(Price)')\n",
    "plt.ylabel('Frequency')\n",
    "plt.savefig('figs/log_transformed_prices.png')"
   ]
  },
  {
   "cell_type": "code",
   "execution_count": 10,
   "metadata": {
    "collapsed": true
   },
   "outputs": [],
   "source": [
    "#Use this log transform\n",
    "Train_price = np.log10(Train_price.values)\n",
    "Test_price = np.log10(Test_price.values)"
   ]
  },
  {
   "cell_type": "code",
   "execution_count": 11,
   "metadata": {
    "collapsed": false
   },
   "outputs": [],
   "source": [
    "#Baseline model: just predict the average log price\n",
    "from sklearn.metrics import mean_squared_error\n",
    "\n",
    "baseline_pred = np.ones_like(Test_price)*np.mean(Train_price)\n",
    "baseline_mse = mean_squared_error(Test_price, baseline_pred)"
   ]
  },
  {
   "cell_type": "code",
   "execution_count": 14,
   "metadata": {
    "collapsed": true
   },
   "outputs": [],
   "source": [
    "from sklearn.feature_extraction.text import CountVectorizer\n",
    "from sklearn.decomposition import LatentDirichletAllocation\n",
    "\n",
    "#Use GradientBoostingRegressor to learn function from thetas to price\n",
    "from sklearn.ensemble import GradientBoostingRegressor\n",
    "\n",
    "#Note introduced hyperparameters: max_df, min_df\n",
    "counter = CountVectorizer(stop_words='english', max_df = 0.9, min_df= 500)\n",
    "train_counts = counter.fit_transform(Train_docs)"
   ]
  },
  {
   "cell_type": "code",
   "execution_count": 15,
   "metadata": {
    "collapsed": true
   },
   "outputs": [],
   "source": [
    "#Write vocab to file for use in R (slda)\n",
    "with open('vocab.txt', 'w') as vocab:\n",
    "    for word in counter.vocabulary_.keys():\n",
    "          vocab.write(\"%s\\n\" % word)"
   ]
  },
  {
   "cell_type": "code",
   "execution_count": 16,
   "metadata": {
    "collapsed": false
   },
   "outputs": [],
   "source": [
    "#Write train/test docs and counts to files for R\n",
    "Train_docs.to_csv('train_docs.csv')\n",
    "Test_docs.to_csv('test_docs.csv')\n",
    "with open('train_price.csv', 'w') as vocab:\n",
    "    for price in Train_price:\n",
    "          vocab.write(\"%s\\n\" % price)\n",
    "with open('test_price.csv', 'w') as vocab:\n",
    "    for price in Test_price:\n",
    "          vocab.write(\"%s\\n\" % price)"
   ]
  },
  {
   "cell_type": "code",
   "execution_count": 108,
   "metadata": {
    "collapsed": false
   },
   "outputs": [
    {
     "name": "stdout",
     "output_type": "stream",
     "text": [
      "Running K = 5\n",
      "\n",
      "\tLearning LDA model...\n",
      "\tLearning GBR model...\n",
      "\tGetting test-set score...\n",
      "\tSaving model...\n",
      "\n",
      "Running K = 10\n",
      "\n",
      "\tLearning LDA model...\n",
      "\tLearning GBR model...\n",
      "\tGetting test-set score...\n",
      "\tSaving model...\n",
      "\n",
      "Running K = 15\n",
      "\n",
      "\tLearning LDA model...\n",
      "\tLearning GBR model...\n",
      "\tGetting test-set score...\n",
      "\tSaving model...\n",
      "\n",
      "Running K = 20\n",
      "\n",
      "\tLearning LDA model...\n",
      "\tLearning GBR model...\n",
      "\tGetting test-set score...\n",
      "\tSaving model...\n",
      "\n",
      "Running K = 25\n",
      "\n",
      "\tLearning LDA model...\n",
      "\tLearning GBR model...\n",
      "\tGetting test-set score...\n",
      "\tSaving model...\n",
      "\n",
      "Running K = 30\n",
      "\n",
      "\tLearning LDA model...\n",
      "\tLearning GBR model...\n",
      "\tGetting test-set score...\n",
      "\tSaving model...\n",
      "\n"
     ]
    }
   ],
   "source": [
    "models = {}\n",
    "num_topics_to_test = [4,5] #Use to test code\n",
    "#actual num_topics_to_test = sorted(range(5,35,5) + [4,6,7,8,9])\n",
    "for n_topics in num_topics_to_test:\n",
    "    print \"Running K = {}\\n\".format(n_topics)\n",
    "    print \"\\tLearning LDA model...\"\n",
    "    #Learn LDA model and get topic weights for training docs\n",
    "    lda = LatentDirichletAllocation(n_topics=n_topics,\n",
    "                                    max_iter=10,\n",
    "                                    learning_method='online',\n",
    "                                    n_jobs = -1, #Uses all cores,\n",
    "                                    random_state=1234)\n",
    "    topic_weights = lda.fit_transform(train_counts)\n",
    "    \n",
    "    #Learn GradientBoostedRegressor model of price ~ topic weights\n",
    "    #Note this model was chosen since it is relatively immune to overfitting\n",
    "    #and is non-linear (which is anticipated to improve performance)\n",
    "    print \"\\tLearning GBR model...\"\n",
    "    gbr = GradientBoostingRegressor()\n",
    "    gbr.fit(topic_weights, Train_price)\n",
    "    \n",
    "    print \"\\tGetting test-set GBR score...\"\n",
    "    #Transform test_docs to topic weight matrix\n",
    "    test_topics = lda.transform(counter.transform(Test_docs))\n",
    "    test_pred = gbr.predict(test_topics)\n",
    "    mse = mean_squared_error(Test_price, test_pred)\n",
    "    \n",
    "    print \"\\tLearning linear model...\"\n",
    "    LS = LinearRegression(fit_intercept=False)\n",
    "    LS.fit(topic_weights, Train_price)\n",
    "    \n",
    "    print '\\Getting test-set linear predictions...'\n",
    "    linear_test_pred = LS.predict(test_topics)\n",
    "    mse_LS = mean_squared_error(Test_price, linear_test_pred)\n",
    "    \n",
    "    #Save model and score:\n",
    "    print \"\\tSaving model...\\n\"\n",
    "    models[n_topics] = {'lda': lda,\n",
    "                        'gbr': gbr,\n",
    "                        'ls': LS,\n",
    "                        'mse_GBR': mse,\n",
    "                        'mse_LS': mse_LS,\n",
    "                        'test_pred_GBR': tst_pred,\n",
    "                        'linear_test_pred': linear_test_pred}"
   ]
  },
  {
   "cell_type": "code",
   "execution_count": 13,
   "metadata": {
    "collapsed": false
   },
   "outputs": [
    {
     "ename": "ValueError",
     "evalue": "operands could not be broadcast together with shapes (59080,) (58253,) ",
     "output_type": "error",
     "traceback": [
      "\u001b[0;31m---------------------------------------------------------------------------\u001b[0m",
      "\u001b[0;31mValueError\u001b[0m                                Traceback (most recent call last)",
      "\u001b[0;32m<ipython-input-13-12dc67cbf1e1>\u001b[0m in \u001b[0;36m<module>\u001b[0;34m()\u001b[0m\n\u001b[1;32m      1\u001b[0m \u001b[0mplt\u001b[0m\u001b[0;34m.\u001b[0m\u001b[0mfigure\u001b[0m\u001b[0;34m(\u001b[0m\u001b[0mfigsize\u001b[0m\u001b[0;34m=\u001b[0m\u001b[0;34m(\u001b[0m\u001b[0;36m8\u001b[0m\u001b[0;34m,\u001b[0m\u001b[0;36m6\u001b[0m\u001b[0;34m)\u001b[0m\u001b[0;34m)\u001b[0m\u001b[0;34m\u001b[0m\u001b[0m\n\u001b[1;32m      2\u001b[0m \u001b[0mplt\u001b[0m\u001b[0;34m.\u001b[0m\u001b[0mhist\u001b[0m\u001b[0;34m(\u001b[0m\u001b[0mTest_price\u001b[0m \u001b[0;34m-\u001b[0m \u001b[0mbaseline_pred\u001b[0m\u001b[0;34m,\u001b[0m \u001b[0mbins\u001b[0m\u001b[0;34m=\u001b[0m\u001b[0;36m100\u001b[0m\u001b[0;34m,\u001b[0m \u001b[0mlabel\u001b[0m\u001b[0;34m=\u001b[0m\u001b[0;34m'Baseline: K = 0'\u001b[0m\u001b[0;34m,\u001b[0m \u001b[0malpha\u001b[0m\u001b[0;34m=\u001b[0m\u001b[0;36m0.5\u001b[0m\u001b[0;34m)\u001b[0m\u001b[0;34m\u001b[0m\u001b[0m\n\u001b[0;32m----> 3\u001b[0;31m plt.hist(Test_price -  models[5]['test_pred'],\n\u001b[0m\u001b[1;32m      4\u001b[0m              bins=100, label='K = {}'.format(5), alpha=0.5)\n\u001b[1;32m      5\u001b[0m \u001b[0mplt\u001b[0m\u001b[0;34m.\u001b[0m\u001b[0mlegend\u001b[0m\u001b[0;34m(\u001b[0m\u001b[0;34m)\u001b[0m\u001b[0;34m\u001b[0m\u001b[0m\n",
      "\u001b[0;31mValueError\u001b[0m: operands could not be broadcast together with shapes (59080,) (58253,) "
     ]
    },
    {
     "data": {
      "image/png": "[encoded data removed]",
      "text/plain": [
       "<matplotlib.figure.Figure at 0x121ab0850>"
      ]
     },
     "metadata": {},
     "output_type": "display_data"
    }
   ],
   "source": [
    "#Now make histogram of residuals for best python model\n",
    "\n",
    "plt.figure(figsize=(8,6))\n",
    "plt.hist(Test_price - baseline_pred, bins=100, label='Baseline: K = 0', alpha=0.5, label='Baseline (mean prediction)')\n",
    "plt.hist(Test_price -  models[5]['test_pred_GBR'],\n",
    "             bins=100, label='K = {}'.format(5), alpha=0.5, label='Using GradientBoostedRegression')\n",
    "plt.legend()\n",
    "plt.ylabel('Frequency')\n",
    "plt.title('Comparing the distribution of residuals by K')\n",
    "plt.xlabel('Residual (log(price) - predicted(log(price)))')\n",
    "plt.legend(loc='best')\n",
    "plt.savefig('figs/residuals.png')"
   ]
  },
  {
   "cell_type": "code",
   "execution_count": null,
   "metadata": {
    "collapsed": true
   },
   "outputs": [],
   "source": [
    "#Now run R code\n",
    "import rpy2.robjects as robjects\n",
    "\n",
    "robjects.r.source('sLDA.R')\n",
    "#Note this saves MSEs for sLDA in file sLDA_MSEs.csv\n",
    "\n",
    "sLDA_MSEs = pd.read_csv('sLDA_MSEs.csv', header=None)"
   ]
  },
  {
   "cell_type": "code",
   "execution_count": null,
   "metadata": {
    "collapsed": true
   },
   "outputs": [],
   "source": [
    "plt.plot([0] + models.keys(), [baseline_mse] + [models[K]['mse_GBR'] for K in models], label='Gradient Boosted model for LDA weights')\n",
    "plt.plot([0] + models.keys(), [baseline_mse] + [models[K]['mse_LS'] for K in models], label='Linear model for LDA weights')\n",
    "plt.plot([0] + list(sLDA_MSEs.loc[:,0]), [baseline_mse] + list(sLDA_MSEs.loc[:,1]), label='Lineader model for sLDA weights')\n",
    "plt.xlabel('Number of topics K')\n",
    "plt.ylabel('MSE for log(price) prediction')\n",
    "plt.title('Learning curve: Optimizing K')\n",
    "plt.legend(loc='best')\n",
    "plt.savefig('figs/learning_curve.png')"
   ]
  },
  {
   "cell_type": "code",
   "execution_count": 115,
   "metadata": {
    "collapsed": false,
    "scrolled": true
   },
   "outputs": [],
   "source": [
    "#Use to visualize optimized model\n",
    "\n",
    "import pyLDAvis\n",
    "import pyLDAvis.sklearn\n",
    "pyLDAvis.enable_notebook()\n",
    "vis15 = pyLDAvis.sklearn.prepare(models[5]['lda'], train_counts, counter)\n",
    "pyLDAvis.save_html(vis5, 'LDAvis_5.html')"
   ]
  },
  {
   "cell_type": "code",
   "execution_count": 120,
   "metadata": {
    "collapsed": true
   },
   "outputs": [],
   "source": [
    "import pickle\n",
    "pickle.dump(models, open( \"LDA_models.p\", \"wb\" ))"
   ]
  },
  {
   "cell_type": "markdown",
   "metadata": {},
   "source": [
    "## Testing linear prediction\n",
    "In this section, we test the performance of linear prediction for each value of K. This is being done to provide some comparable result to the sLDA model implemented in R."
   ]
  },
  {
   "cell_type": "code",
   "execution_count": 12,
   "metadata": {
    "collapsed": false
   },
   "outputs": [],
   "source": [
    "import pickle\n",
    "models = pickle.load(open('LDA_models.p','r'))"
   ]
  },
  {
   "cell_type": "code",
   "execution_count": 161,
   "metadata": {
    "collapsed": false,
    "scrolled": true
   },
   "outputs": [
    {
     "name": "stdout",
     "output_type": "stream",
     "text": [
      "4\n",
      "learning linear model\n",
      "making predictions\n"
     ]
    },
    {
     "name": "stderr",
     "output_type": "stream",
     "text": [
      "/Users/benjaminjakubowski/anaconda/lib/python2.7/site-packages/scipy/linalg/basic.py:884: RuntimeWarning: internal gelsd driver lwork query error, required iwork dimension not returned. This is likely the result of LAPACK bug 0038, fixed in LAPACK 3.2.2 (released July 21, 2010). Falling back to 'gelss' driver.\n",
      "  warnings.warn(mesg, RuntimeWarning)\n"
     ]
    },
    {
     "name": "stdout",
     "output_type": "stream",
     "text": [
      "5\n",
      "learning linear model\n",
      "making predictions\n",
      "6\n",
      "learning linear model\n",
      "making predictions\n",
      "7\n",
      "learning linear model\n",
      "making predictions\n",
      "8\n",
      "learning linear model\n",
      "making predictions\n",
      "9\n",
      "learning linear model\n",
      "making predictions\n",
      "10\n",
      "learning linear model\n",
      "making predictions\n",
      "15\n",
      "learning linear model\n",
      "making predictions\n",
      "20\n",
      "learning linear model\n",
      "making predictions\n",
      "25\n",
      "learning linear model\n",
      "making predictions\n",
      "30\n",
      "learning linear model\n",
      "making predictions\n"
     ]
    }
   ],
   "source": [
    "from sklearn.linear_model import LinearRegression\n",
    "\n",
    "MSEs_linear = []\n",
    "\n",
    "for num in models:\n",
    "    print num\n",
    "    lda = models[num]['lda']\n",
    "    topic_weights = lda.transform(train_counts)\n",
    "    \n",
    "    print \"learning linear model\"\n",
    "    LS = LinearRegression(fit_intercept=False)\n",
    "    LS.fit(topic_weights, Train_price)\n",
    "    \n",
    "    print 'making predictions'\n",
    "    test_topics = lda.transform(counter.transform(Test_docs))\n",
    "    test_pred = LS.predict(test_topics)\n",
    "    mse = mean_squared_error(Test_price, test_pred)\n",
    "    \n",
    "    MSEs_linear.append((num, mse))"
   ]
  },
  {
   "cell_type": "code",
   "execution_count": 162,
   "metadata": {
    "collapsed": false
   },
   "outputs": [
    {
     "data": {
      "text/plain": [
       "[(4, 0.12911994761201154),\n",
       " (5, 0.096563016663734819),\n",
       " (6, 0.096178913763022289),\n",
       " (7, 0.097771404630269801),\n",
       " (8, 0.10062912323403821),\n",
       " (9, 0.088590009682886856),\n",
       " (10, 0.094434366749384199),\n",
       " (15, 0.085499675046259771),\n",
       " (20, 0.082613753569054565),\n",
       " (25, 0.085611145823950283),\n",
       " (30, 0.079621098487989858)]"
      ]
     },
     "execution_count": 162,
     "metadata": {},
     "output_type": "execute_result"
    }
   ],
   "source": [
    "MSEs_linear = [(0, baseline_mse)] + MSEs_linear"
   ]
  },
  {
   "cell_type": "code",
   "execution_count": 166,
   "metadata": {
    "collapsed": false
   },
   "outputs": [
    {
     "data": {
      "text/plain": [
       "<matplotlib.legend.Legend at 0x11ebf6390>"
      ]
     },
     "execution_count": 166,
     "metadata": {},
     "output_type": "execute_result"
    },
    {
     "data": {
      "image/png": "[encoded data removed]",
      "text/plain": [
       "<matplotlib.figure.Figure at 0x12ade49d0>"
      ]
     },
     "metadata": {},
     "output_type": "display_data"
    }
   ],
   "source": [
    "plt.figure(figsize=(8,6))\n",
    "mses = [(0, baseline_mse)] + [(x, models[x]['mse']) for x in models]\n",
    "plt.plot([x[0] for x in mses], [x[1] for x in mses], label='Gradient Boosted model')\n",
    "plt.plot([x[0] for x in MSEs_linear], [x[1] for x in MSEs_linear], label='Linear model')\n",
    "plt.xlabel('Number of topics K')\n",
    "plt.ylabel('MSE for log(price) prediction')\n",
    "plt.title('Learning curve: Optimizing K')\n",
    "plt.legend()"
   ]
  }
 ],
 "metadata": {
  "kernelspec": {
   "display_name": "Python 2",
   "language": "python",
   "name": "python2"
  },
  "language_info": {
   "codemirror_mode": {
    "name": "ipython",
    "version": 2
   },
   "file_extension": ".py",
   "mimetype": "text/x-python",
   "name": "python",
   "nbconvert_exporter": "python",
   "pygments_lexer": "ipython2",
   "version": "2.7.10"
  }
 },
 "nbformat": 4,
 "nbformat_minor": 0
}
