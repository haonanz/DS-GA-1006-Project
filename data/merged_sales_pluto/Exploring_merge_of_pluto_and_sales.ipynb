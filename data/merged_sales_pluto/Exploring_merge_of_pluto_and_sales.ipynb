{
 "cells": [
  {
   "cell_type": "markdown",
   "metadata": {},
   "source": [
    "# Exploring merge of pluto and sales data\n",
    "\n",
    "Our goal in this notebook is to merge the pluto and sales data- to do so, we:\n",
    "1. First, we try merging on just BBL.\n",
    "2. Then we assess how this merge performed.\n",
    "3. Given the performance of this merge, we explore other options to merge the two datasets.\n",
    "    - Merge using the complete set of BBLs for a condo building\n",
    "    - Merge using the condo billing BBL\n",
    "4. The final section includes unused code for parsing addresses, which may be useful at a later time."
   ]
  },
  {
   "cell_type": "markdown",
   "metadata": {},
   "source": [
    "## 1. Merging on just BBL\n",
    "\n",
    "First, we naively try merging on just BBL- note we have to construct this feature for the sales data set:"
   ]
  },
  {
   "cell_type": "code",
   "execution_count": 1,
   "metadata": {
    "collapsed": true
   },
   "outputs": [],
   "source": [
    "import pandas as pd\n",
    "import numpy as np"
   ]
  },
  {
   "cell_type": "code",
   "execution_count": 2,
   "metadata": {
    "collapsed": true
   },
   "outputs": [],
   "source": [
    "pluto = pd.read_csv('./../pluto/all_pluto.csv')"
   ]
  },
  {
   "cell_type": "code",
   "execution_count": 3,
   "metadata": {
    "collapsed": true
   },
   "outputs": [],
   "source": [
    "sales = pd.read_csv('./../sales/all_residential_2011_2015.csv')"
   ]
  },
  {
   "cell_type": "code",
   "execution_count": 4,
   "metadata": {
    "collapsed": false
   },
   "outputs": [],
   "source": [
    "bbl_features = ['BOROUGH','BLOCK','LOT']\n",
    "\n",
    "for feature in bbl_features:\n",
    "    sales[feature] = sales[feature].astype(str)"
   ]
  },
  {
   "cell_type": "code",
   "execution_count": 5,
   "metadata": {
    "collapsed": true
   },
   "outputs": [],
   "source": [
    "def make_bbl(row):\n",
    "    bbl = row['BOROUGH'] + row['BLOCK'].zfill(5) + row['LOT'].zfill(4)\n",
    "    return bbl\n",
    "\n",
    "sales['BBL'] = sales.apply(make_bbl, axis=1).astype(float)"
   ]
  },
  {
   "cell_type": "code",
   "execution_count": 6,
   "metadata": {
    "collapsed": false
   },
   "outputs": [
    {
     "name": "stdout",
     "output_type": "stream",
     "text": [
      "<class 'pandas.core.frame.DataFrame'>\n",
      "Int64Index: 369637 entries, 0 to 369636\n",
      "Data columns (total 41 columns):\n",
      "BOROUGH                           369637 non-null object\n",
      "NEIGHBORHOOD                      369637 non-null object\n",
      "BUILDING CLASS CATEGORY           369637 non-null object\n",
      "TAX CLASS AT PRESENT              369637 non-null object\n",
      "BLOCK                             369637 non-null object\n",
      "LOT                               369637 non-null object\n",
      "EASE-MENT                         369637 non-null object\n",
      "BUILDING CLASS AT PRESENT         369637 non-null object\n",
      "ADDRESS                           369637 non-null object\n",
      "APARTMENT NUMBER                  369637 non-null object\n",
      "ZIP CODE                          369637 non-null int64\n",
      "RESIDENTIAL UNITS                 369637 non-null int64\n",
      "COMMERCIAL UNITS                  369637 non-null int64\n",
      "TOTAL UNITS                       369637 non-null int64\n",
      "LAND SQUARE FEET                  369637 non-null int64\n",
      "GROSS SQUARE FEET                 369637 non-null int64\n",
      "YEAR BUILT                        369637 non-null int64\n",
      "TAX CLASS AT TIME OF SALE         369637 non-null int64\n",
      "BUILDING CLASS AT TIME OF SALE    369637 non-null object\n",
      "SALE PRICE                        369637 non-null int64\n",
      "SALE DATE                         369637 non-null object\n",
      "BBL                               369637 non-null float64\n",
      "Borough                           281148 non-null object\n",
      "Block                             281148 non-null float64\n",
      "Lot                               281148 non-null float64\n",
      "CT2010                            280965 non-null float64\n",
      "SchoolDist                        281035 non-null float64\n",
      "ZipCode                           280887 non-null float64\n",
      "PolicePrct                        281045 non-null float64\n",
      "Address                           281148 non-null object\n",
      "LotArea                           281148 non-null float64\n",
      "BldgArea                          281148 non-null float64\n",
      "ResArea                           281148 non-null float64\n",
      "NumBldgs                          281148 non-null float64\n",
      "NumFloors                         281148 non-null float64\n",
      "AssessLand                        281148 non-null float64\n",
      "AssessTot                         281148 non-null float64\n",
      "YearBuilt                         281148 non-null float64\n",
      "YearAlter1                        281148 non-null float64\n",
      "YearAlter2                        281148 non-null float64\n",
      "CondoNo                           281148 non-null float64\n",
      "dtypes: float64(18), int64(9), object(14)\n",
      "memory usage: 118.4+ MB\n"
     ]
    }
   ],
   "source": [
    "merged = pd.merge(sales, pluto, how='left', on=['BBL'])\n",
    "merged.info()"
   ]
  },
  {
   "cell_type": "markdown",
   "metadata": {},
   "source": [
    "## 2. Assessing naive merge performance.\n",
    "\n",
    "First, it is apparent that this merge was not particularly successful, given the ~90000 records in the sales data that did not match a BBL in the Pluto dataset. To explain this, we consider the following information about lot numbers from the Pluto data dictionary:\n",
    "\n",
    "<img src='tax_lot_DD.png' height=600 width=600>\n",
    "\n",
    "Based on this description of the tax lots in the Pluto dataset, we suspect that the missing values correspond to condos- thus we proceed to check this possible explanation."
   ]
  },
  {
   "cell_type": "code",
   "execution_count": 7,
   "metadata": {
    "collapsed": false
   },
   "outputs": [
    {
     "data": {
      "text/plain": [
       "13  CONDOS - ELEVATOR APARTMENTS                63609\n",
       "04  TAX CLASS 1 CONDOS                           6768\n",
       "15  CONDOS - 2-10 UNIT RESIDENTIAL               5673\n",
       "17  CONDO COOPS                                  4240\n",
       "12  CONDOS - WALKUP APARTMENTS                   4153\n",
       "17  CONDOPS                                      2368\n",
       "16  CONDOS - 2-10 UNIT WITH COMMERCIAL UNIT       453\n",
       "05  TAX CLASS 1 VACANT LAND                       317\n",
       "08  RENTALS - ELEVATOR APARTMENTS                 143\n",
       "07  RENTALS - WALKUP APARTMENTS                   121\n",
       "11A CONDO-RENTALS                                 113\n",
       "02  TWO FAMILY HOMES                              109\n",
       "01  ONE FAMILY HOMES                               72\n",
       "02  TWO FAMILY DWELLINGS                           65\n",
       "03  THREE FAMILY HOMES                             52\n",
       "03  THREE FAMILY DWELLINGS                         38\n",
       "01  ONE FAMILY DWELLINGS                           36\n",
       "06  TAX CLASS 1 - OTHER                            33\n",
       "14  RENTALS - 4-10 UNIT                            32\n",
       "44  CONDO PARKING                                  22\n",
       "31  COMMERCIAL VACANT LAND                         21\n",
       "09  COOPS - WALKUP APARTMENTS                      13\n",
       "29  COMMERCIAL GARAGES                             10\n",
       "46  CONDO STORE BUILDINGS                           6\n",
       "28  COMMERCIAL CONDOS                               5\n",
       "10  COOPS - ELEVATOR APARTMENTS                     5\n",
       "22  STORE BUILDINGS                                 4\n",
       "36  OUTDOOR RECREATIONAL FACILITIES                 2\n",
       "                                                    1\n",
       "41  TAX CLASS 4 - OTHER                             1\n",
       "33  EDUCATIONAL FACILITIES                          1\n",
       "30  WAREHOUSES                                      1\n",
       "32  HOSPITAL AND HEALTH FACILITIES                  1\n",
       "43  CONDO OFFICE BUILDINGS                          1\n",
       "Name: BUILDING CLASS CATEGORY, dtype: int64"
      ]
     },
     "execution_count": 7,
     "metadata": {},
     "output_type": "execute_result"
    }
   ],
   "source": [
    "merged.loc[merged['Block'].isnull(),'BUILDING CLASS CATEGORY'].value_counts()"
   ]
  },
  {
   "cell_type": "markdown",
   "metadata": {},
   "source": [
    "Thus, it is apparent the vast majority of these mismatched BBL's correspond to condos. We can confirm this another way, since the lot number is informative of the lot type (again from Pluto Data Dictionary):\n",
    "<img src='meaning_of_lot_no.png' height=400 width=400>\n",
    "We thus present a histogram of the lot numbers for mismatched sale records:"
   ]
  },
  {
   "cell_type": "code",
   "execution_count": 8,
   "metadata": {
    "collapsed": false
   },
   "outputs": [
    {
     "data": {
      "image/png": "[encoded data removed]",
      "text/plain": [
       "<matplotlib.figure.Figure at 0x1134404d0>"
      ]
     },
     "metadata": {},
     "output_type": "display_data"
    }
   ],
   "source": [
    "import matplotlib.pyplot as plt\n",
    "import seaborn as sns\n",
    "%matplotlib inline\n",
    "plt.figure(figsize=(10,6))\n",
    "plt.hist(merged.loc[merged['Borough'].isnull(),'LOT'].astype(int).values, bins=100)\n",
    "plt.ylabel('Count')\n",
    "plt.xlabel('Lot number for sale records that did not match a BBL in Pluto')\n",
    "plt.title('Lot numbers for sales that were not successfully merged')\n",
    "plt.show()"
   ]
  },
  {
   "cell_type": "markdown",
   "metadata": {},
   "source": [
    "## 3. Attempting to correct the mismatch for condos\n",
    "\n",
    "Thus, we now must try to correct this mismatch for condos. We will take a two-step approach, recalling there are two ways condo BBLs are represented in the PLUTO dataset:\n",
    "\n",
    "1. Using the lowest BBL number in the range of BBLs included in the condo;\n",
    "2. Using the Condominium Billing BBL.\n",
    "\n",
    "We will try to correct for these BBL representations as follows:\n",
    "\n",
    "1. First, we will  will be to use the CondoNo/BBL map available from https://github.com/chriswhong/nyc-tax-data-notes/blob/master/condolookup.csv. Using this dataset, we can find all the BBLs corresponding to a condo number, and then use these complete set of BBLs to merge with PLUTO where (in pluto) the BBL is represented using the lowest BBL.\n",
    "2. Second, we will use the map from BBLs to condo billing BBLs available at https://raw.githubusercontent.com/chriswhong/taxMap/master/scripts/NYCCondoPad.csv. This will allow us to merge the sales data with PLUTO where the PLUTO BBL is recorded using the condo billing BBL."
   ]
  },
  {
   "cell_type": "markdown",
   "metadata": {},
   "source": [
    "### Approach 1: Merging over the set of BBLs for a condo building"
   ]
  },
  {
   "cell_type": "code",
   "execution_count": 41,
   "metadata": {
    "collapsed": false
   },
   "outputs": [
    {
     "name": "stdout",
     "output_type": "stream",
     "text": [
      "<class 'pandas.core.frame.DataFrame'>\n",
      "RangeIndex: 239819 entries, 0 to 239818\n",
      "Data columns (total 2 columns):\n",
      "condono    239819 non-null int64\n",
      "bbl        239819 non-null int64\n",
      "dtypes: int64(2)\n",
      "memory usage: 3.7 MB\n"
     ]
    }
   ],
   "source": [
    "condos = pd.read_csv('condolookup.csv', index_col=None)\n",
    "condos.info()"
   ]
  },
  {
   "cell_type": "code",
   "execution_count": 45,
   "metadata": {
    "collapsed": false
   },
   "outputs": [
    {
     "data": {
      "text/html": [
       "<div>\n",
       "<table border=\"1\" class=\"dataframe\">\n",
       "  <thead>\n",
       "    <tr style=\"text-align: right;\">\n",
       "      <th></th>\n",
       "      <th>condono</th>\n",
       "      <th>bbl</th>\n",
       "    </tr>\n",
       "  </thead>\n",
       "  <tbody>\n",
       "    <tr>\n",
       "      <th>0</th>\n",
       "      <td>2288</td>\n",
       "      <td>1001871001</td>\n",
       "    </tr>\n",
       "    <tr>\n",
       "      <th>1</th>\n",
       "      <td>2288</td>\n",
       "      <td>1001871002</td>\n",
       "    </tr>\n",
       "    <tr>\n",
       "      <th>2</th>\n",
       "      <td>2288</td>\n",
       "      <td>1001871003</td>\n",
       "    </tr>\n",
       "    <tr>\n",
       "      <th>3</th>\n",
       "      <td>256</td>\n",
       "      <td>1002461001</td>\n",
       "    </tr>\n",
       "    <tr>\n",
       "      <th>4</th>\n",
       "      <td>256</td>\n",
       "      <td>1002461002</td>\n",
       "    </tr>\n",
       "    <tr>\n",
       "      <th>5</th>\n",
       "      <td>256</td>\n",
       "      <td>1002461003</td>\n",
       "    </tr>\n",
       "    <tr>\n",
       "      <th>6</th>\n",
       "      <td>256</td>\n",
       "      <td>1002461004</td>\n",
       "    </tr>\n",
       "    <tr>\n",
       "      <th>7</th>\n",
       "      <td>256</td>\n",
       "      <td>1002461005</td>\n",
       "    </tr>\n",
       "    <tr>\n",
       "      <th>8</th>\n",
       "      <td>256</td>\n",
       "      <td>1002461006</td>\n",
       "    </tr>\n",
       "    <tr>\n",
       "      <th>9</th>\n",
       "      <td>256</td>\n",
       "      <td>1002461007</td>\n",
       "    </tr>\n",
       "    <tr>\n",
       "      <th>10</th>\n",
       "      <td>256</td>\n",
       "      <td>1002461008</td>\n",
       "    </tr>\n",
       "    <tr>\n",
       "      <th>11</th>\n",
       "      <td>256</td>\n",
       "      <td>1002461009</td>\n",
       "    </tr>\n",
       "    <tr>\n",
       "      <th>12</th>\n",
       "      <td>256</td>\n",
       "      <td>1002461010</td>\n",
       "    </tr>\n",
       "    <tr>\n",
       "      <th>13</th>\n",
       "      <td>256</td>\n",
       "      <td>1002461011</td>\n",
       "    </tr>\n",
       "    <tr>\n",
       "      <th>14</th>\n",
       "      <td>256</td>\n",
       "      <td>1002461012</td>\n",
       "    </tr>\n",
       "    <tr>\n",
       "      <th>15</th>\n",
       "      <td>256</td>\n",
       "      <td>1002461013</td>\n",
       "    </tr>\n",
       "    <tr>\n",
       "      <th>16</th>\n",
       "      <td>256</td>\n",
       "      <td>1002461014</td>\n",
       "    </tr>\n",
       "    <tr>\n",
       "      <th>17</th>\n",
       "      <td>256</td>\n",
       "      <td>1002461015</td>\n",
       "    </tr>\n",
       "    <tr>\n",
       "      <th>18</th>\n",
       "      <td>256</td>\n",
       "      <td>1002461016</td>\n",
       "    </tr>\n",
       "    <tr>\n",
       "      <th>19</th>\n",
       "      <td>256</td>\n",
       "      <td>1002461017</td>\n",
       "    </tr>\n",
       "    <tr>\n",
       "      <th>20</th>\n",
       "      <td>256</td>\n",
       "      <td>1002461018</td>\n",
       "    </tr>\n",
       "    <tr>\n",
       "      <th>21</th>\n",
       "      <td>256</td>\n",
       "      <td>1002461019</td>\n",
       "    </tr>\n",
       "    <tr>\n",
       "      <th>22</th>\n",
       "      <td>256</td>\n",
       "      <td>1002461020</td>\n",
       "    </tr>\n",
       "    <tr>\n",
       "      <th>23</th>\n",
       "      <td>256</td>\n",
       "      <td>1002461021</td>\n",
       "    </tr>\n",
       "    <tr>\n",
       "      <th>24</th>\n",
       "      <td>256</td>\n",
       "      <td>1002461022</td>\n",
       "    </tr>\n",
       "    <tr>\n",
       "      <th>25</th>\n",
       "      <td>256</td>\n",
       "      <td>1002461023</td>\n",
       "    </tr>\n",
       "    <tr>\n",
       "      <th>26</th>\n",
       "      <td>256</td>\n",
       "      <td>1002461024</td>\n",
       "    </tr>\n",
       "    <tr>\n",
       "      <th>27</th>\n",
       "      <td>256</td>\n",
       "      <td>1002461025</td>\n",
       "    </tr>\n",
       "    <tr>\n",
       "      <th>28</th>\n",
       "      <td>256</td>\n",
       "      <td>1002461026</td>\n",
       "    </tr>\n",
       "    <tr>\n",
       "      <th>29</th>\n",
       "      <td>256</td>\n",
       "      <td>1002461027</td>\n",
       "    </tr>\n",
       "    <tr>\n",
       "      <th>...</th>\n",
       "      <td>...</td>\n",
       "      <td>...</td>\n",
       "    </tr>\n",
       "    <tr>\n",
       "      <th>70</th>\n",
       "      <td>948</td>\n",
       "      <td>1005261002</td>\n",
       "    </tr>\n",
       "    <tr>\n",
       "      <th>71</th>\n",
       "      <td>661</td>\n",
       "      <td>1005281201</td>\n",
       "    </tr>\n",
       "    <tr>\n",
       "      <th>72</th>\n",
       "      <td>661</td>\n",
       "      <td>1005281202</td>\n",
       "    </tr>\n",
       "    <tr>\n",
       "      <th>73</th>\n",
       "      <td>1245</td>\n",
       "      <td>1006081501</td>\n",
       "    </tr>\n",
       "    <tr>\n",
       "      <th>74</th>\n",
       "      <td>1245</td>\n",
       "      <td>1006081502</td>\n",
       "    </tr>\n",
       "    <tr>\n",
       "      <th>75</th>\n",
       "      <td>520</td>\n",
       "      <td>1006221001</td>\n",
       "    </tr>\n",
       "    <tr>\n",
       "      <th>76</th>\n",
       "      <td>520</td>\n",
       "      <td>1006221002</td>\n",
       "    </tr>\n",
       "    <tr>\n",
       "      <th>77</th>\n",
       "      <td>2135</td>\n",
       "      <td>1006221101</td>\n",
       "    </tr>\n",
       "    <tr>\n",
       "      <th>78</th>\n",
       "      <td>2135</td>\n",
       "      <td>1006221102</td>\n",
       "    </tr>\n",
       "    <tr>\n",
       "      <th>79</th>\n",
       "      <td>2253</td>\n",
       "      <td>1006231101</td>\n",
       "    </tr>\n",
       "    <tr>\n",
       "      <th>80</th>\n",
       "      <td>2253</td>\n",
       "      <td>1006231102</td>\n",
       "    </tr>\n",
       "    <tr>\n",
       "      <th>81</th>\n",
       "      <td>1316</td>\n",
       "      <td>1006271101</td>\n",
       "    </tr>\n",
       "    <tr>\n",
       "      <th>82</th>\n",
       "      <td>1316</td>\n",
       "      <td>1006271102</td>\n",
       "    </tr>\n",
       "    <tr>\n",
       "      <th>83</th>\n",
       "      <td>1316</td>\n",
       "      <td>1006271103</td>\n",
       "    </tr>\n",
       "    <tr>\n",
       "      <th>84</th>\n",
       "      <td>1522</td>\n",
       "      <td>1006271201</td>\n",
       "    </tr>\n",
       "    <tr>\n",
       "      <th>85</th>\n",
       "      <td>1522</td>\n",
       "      <td>1006271202</td>\n",
       "    </tr>\n",
       "    <tr>\n",
       "      <th>86</th>\n",
       "      <td>1522</td>\n",
       "      <td>1006271203</td>\n",
       "    </tr>\n",
       "    <tr>\n",
       "      <th>87</th>\n",
       "      <td>2383</td>\n",
       "      <td>1006291401</td>\n",
       "    </tr>\n",
       "    <tr>\n",
       "      <th>88</th>\n",
       "      <td>2383</td>\n",
       "      <td>1006291402</td>\n",
       "    </tr>\n",
       "    <tr>\n",
       "      <th>89</th>\n",
       "      <td>2383</td>\n",
       "      <td>1006291403</td>\n",
       "    </tr>\n",
       "    <tr>\n",
       "      <th>90</th>\n",
       "      <td>845</td>\n",
       "      <td>1006321001</td>\n",
       "    </tr>\n",
       "    <tr>\n",
       "      <th>91</th>\n",
       "      <td>845</td>\n",
       "      <td>1006321002</td>\n",
       "    </tr>\n",
       "    <tr>\n",
       "      <th>92</th>\n",
       "      <td>2111</td>\n",
       "      <td>1006351201</td>\n",
       "    </tr>\n",
       "    <tr>\n",
       "      <th>93</th>\n",
       "      <td>2111</td>\n",
       "      <td>1006351202</td>\n",
       "    </tr>\n",
       "    <tr>\n",
       "      <th>94</th>\n",
       "      <td>1748</td>\n",
       "      <td>1007171301</td>\n",
       "    </tr>\n",
       "    <tr>\n",
       "      <th>95</th>\n",
       "      <td>1748</td>\n",
       "      <td>1007171302</td>\n",
       "    </tr>\n",
       "    <tr>\n",
       "      <th>96</th>\n",
       "      <td>1748</td>\n",
       "      <td>1007171303</td>\n",
       "    </tr>\n",
       "    <tr>\n",
       "      <th>97</th>\n",
       "      <td>1110</td>\n",
       "      <td>1007421101</td>\n",
       "    </tr>\n",
       "    <tr>\n",
       "      <th>98</th>\n",
       "      <td>1110</td>\n",
       "      <td>1007421102</td>\n",
       "    </tr>\n",
       "    <tr>\n",
       "      <th>99</th>\n",
       "      <td>809</td>\n",
       "      <td>1007711001</td>\n",
       "    </tr>\n",
       "  </tbody>\n",
       "</table>\n",
       "<p>100 rows × 2 columns</p>\n",
       "</div>"
      ],
      "text/plain": [
       "    condono         bbl\n",
       "0      2288  1001871001\n",
       "1      2288  1001871002\n",
       "2      2288  1001871003\n",
       "3       256  1002461001\n",
       "4       256  1002461002\n",
       "5       256  1002461003\n",
       "6       256  1002461004\n",
       "7       256  1002461005\n",
       "8       256  1002461006\n",
       "9       256  1002461007\n",
       "10      256  1002461008\n",
       "11      256  1002461009\n",
       "12      256  1002461010\n",
       "13      256  1002461011\n",
       "14      256  1002461012\n",
       "15      256  1002461013\n",
       "16      256  1002461014\n",
       "17      256  1002461015\n",
       "18      256  1002461016\n",
       "19      256  1002461017\n",
       "20      256  1002461018\n",
       "21      256  1002461019\n",
       "22      256  1002461020\n",
       "23      256  1002461021\n",
       "24      256  1002461022\n",
       "25      256  1002461023\n",
       "26      256  1002461024\n",
       "27      256  1002461025\n",
       "28      256  1002461026\n",
       "29      256  1002461027\n",
       "..      ...         ...\n",
       "70      948  1005261002\n",
       "71      661  1005281201\n",
       "72      661  1005281202\n",
       "73     1245  1006081501\n",
       "74     1245  1006081502\n",
       "75      520  1006221001\n",
       "76      520  1006221002\n",
       "77     2135  1006221101\n",
       "78     2135  1006221102\n",
       "79     2253  1006231101\n",
       "80     2253  1006231102\n",
       "81     1316  1006271101\n",
       "82     1316  1006271102\n",
       "83     1316  1006271103\n",
       "84     1522  1006271201\n",
       "85     1522  1006271202\n",
       "86     1522  1006271203\n",
       "87     2383  1006291401\n",
       "88     2383  1006291402\n",
       "89     2383  1006291403\n",
       "90      845  1006321001\n",
       "91      845  1006321002\n",
       "92     2111  1006351201\n",
       "93     2111  1006351202\n",
       "94     1748  1007171301\n",
       "95     1748  1007171302\n",
       "96     1748  1007171303\n",
       "97     1110  1007421101\n",
       "98     1110  1007421102\n",
       "99      809  1007711001\n",
       "\n",
       "[100 rows x 2 columns]"
      ]
     },
     "execution_count": 45,
     "metadata": {},
     "output_type": "execute_result"
    }
   ],
   "source": [
    "condos.head(100)"
   ]
  },
  {
   "cell_type": "markdown",
   "metadata": {},
   "source": [
    "Based on this view of the data, we can see that the bbls are sorted in increasing order within each condo number. Unfortunately, the condo numbers are not unique:"
   ]
  },
  {
   "cell_type": "code",
   "execution_count": 46,
   "metadata": {
    "collapsed": false
   },
   "outputs": [
    {
     "data": {
      "text/html": [
       "<div>\n",
       "<table border=\"1\" class=\"dataframe\">\n",
       "  <thead>\n",
       "    <tr style=\"text-align: right;\">\n",
       "      <th></th>\n",
       "      <th>condono</th>\n",
       "      <th>bbl</th>\n",
       "    </tr>\n",
       "  </thead>\n",
       "  <tbody>\n",
       "    <tr>\n",
       "      <th>20916</th>\n",
       "      <td>100</td>\n",
       "      <td>5028291053</td>\n",
       "    </tr>\n",
       "    <tr>\n",
       "      <th>20917</th>\n",
       "      <td>100</td>\n",
       "      <td>5028291054</td>\n",
       "    </tr>\n",
       "    <tr>\n",
       "      <th>20918</th>\n",
       "      <td>100</td>\n",
       "      <td>5028291055</td>\n",
       "    </tr>\n",
       "    <tr>\n",
       "      <th>20919</th>\n",
       "      <td>100</td>\n",
       "      <td>5028291056</td>\n",
       "    </tr>\n",
       "    <tr>\n",
       "      <th>20920</th>\n",
       "      <td>100</td>\n",
       "      <td>5028291057</td>\n",
       "    </tr>\n",
       "    <tr>\n",
       "      <th>20921</th>\n",
       "      <td>100</td>\n",
       "      <td>5028291058</td>\n",
       "    </tr>\n",
       "    <tr>\n",
       "      <th>20922</th>\n",
       "      <td>100</td>\n",
       "      <td>5028291059</td>\n",
       "    </tr>\n",
       "    <tr>\n",
       "      <th>20923</th>\n",
       "      <td>100</td>\n",
       "      <td>5028291060</td>\n",
       "    </tr>\n",
       "    <tr>\n",
       "      <th>114867</th>\n",
       "      <td>100</td>\n",
       "      <td>1015051040</td>\n",
       "    </tr>\n",
       "    <tr>\n",
       "      <th>114868</th>\n",
       "      <td>100</td>\n",
       "      <td>1015051041</td>\n",
       "    </tr>\n",
       "    <tr>\n",
       "      <th>114869</th>\n",
       "      <td>100</td>\n",
       "      <td>1015051042</td>\n",
       "    </tr>\n",
       "    <tr>\n",
       "      <th>114870</th>\n",
       "      <td>100</td>\n",
       "      <td>1015051043</td>\n",
       "    </tr>\n",
       "    <tr>\n",
       "      <th>114871</th>\n",
       "      <td>100</td>\n",
       "      <td>1015051044</td>\n",
       "    </tr>\n",
       "    <tr>\n",
       "      <th>114872</th>\n",
       "      <td>100</td>\n",
       "      <td>1015051045</td>\n",
       "    </tr>\n",
       "    <tr>\n",
       "      <th>114873</th>\n",
       "      <td>100</td>\n",
       "      <td>1015051046</td>\n",
       "    </tr>\n",
       "    <tr>\n",
       "      <th>114874</th>\n",
       "      <td>100</td>\n",
       "      <td>1015051047</td>\n",
       "    </tr>\n",
       "    <tr>\n",
       "      <th>114875</th>\n",
       "      <td>100</td>\n",
       "      <td>1015051048</td>\n",
       "    </tr>\n",
       "    <tr>\n",
       "      <th>114876</th>\n",
       "      <td>100</td>\n",
       "      <td>1015051049</td>\n",
       "    </tr>\n",
       "    <tr>\n",
       "      <th>114877</th>\n",
       "      <td>100</td>\n",
       "      <td>1015051050</td>\n",
       "    </tr>\n",
       "    <tr>\n",
       "      <th>114878</th>\n",
       "      <td>100</td>\n",
       "      <td>1015051051</td>\n",
       "    </tr>\n",
       "    <tr>\n",
       "      <th>114879</th>\n",
       "      <td>100</td>\n",
       "      <td>1015051053</td>\n",
       "    </tr>\n",
       "    <tr>\n",
       "      <th>114880</th>\n",
       "      <td>100</td>\n",
       "      <td>1015051054</td>\n",
       "    </tr>\n",
       "    <tr>\n",
       "      <th>114881</th>\n",
       "      <td>100</td>\n",
       "      <td>1015051055</td>\n",
       "    </tr>\n",
       "    <tr>\n",
       "      <th>114882</th>\n",
       "      <td>100</td>\n",
       "      <td>1015051056</td>\n",
       "    </tr>\n",
       "    <tr>\n",
       "      <th>114883</th>\n",
       "      <td>100</td>\n",
       "      <td>1015051057</td>\n",
       "    </tr>\n",
       "    <tr>\n",
       "      <th>114884</th>\n",
       "      <td>100</td>\n",
       "      <td>1015051058</td>\n",
       "    </tr>\n",
       "    <tr>\n",
       "      <th>114885</th>\n",
       "      <td>100</td>\n",
       "      <td>1015051059</td>\n",
       "    </tr>\n",
       "    <tr>\n",
       "      <th>114886</th>\n",
       "      <td>100</td>\n",
       "      <td>1015051061</td>\n",
       "    </tr>\n",
       "    <tr>\n",
       "      <th>114887</th>\n",
       "      <td>100</td>\n",
       "      <td>1015051062</td>\n",
       "    </tr>\n",
       "    <tr>\n",
       "      <th>114888</th>\n",
       "      <td>100</td>\n",
       "      <td>1015051063</td>\n",
       "    </tr>\n",
       "    <tr>\n",
       "      <th>...</th>\n",
       "      <td>...</td>\n",
       "      <td>...</td>\n",
       "    </tr>\n",
       "    <tr>\n",
       "      <th>238704</th>\n",
       "      <td>100</td>\n",
       "      <td>5028291024</td>\n",
       "    </tr>\n",
       "    <tr>\n",
       "      <th>238705</th>\n",
       "      <td>100</td>\n",
       "      <td>5028291025</td>\n",
       "    </tr>\n",
       "    <tr>\n",
       "      <th>238706</th>\n",
       "      <td>100</td>\n",
       "      <td>5028291026</td>\n",
       "    </tr>\n",
       "    <tr>\n",
       "      <th>238707</th>\n",
       "      <td>100</td>\n",
       "      <td>5028291027</td>\n",
       "    </tr>\n",
       "    <tr>\n",
       "      <th>238708</th>\n",
       "      <td>100</td>\n",
       "      <td>5028291028</td>\n",
       "    </tr>\n",
       "    <tr>\n",
       "      <th>238709</th>\n",
       "      <td>100</td>\n",
       "      <td>5028291029</td>\n",
       "    </tr>\n",
       "    <tr>\n",
       "      <th>238710</th>\n",
       "      <td>100</td>\n",
       "      <td>5028291030</td>\n",
       "    </tr>\n",
       "    <tr>\n",
       "      <th>238711</th>\n",
       "      <td>100</td>\n",
       "      <td>5028291031</td>\n",
       "    </tr>\n",
       "    <tr>\n",
       "      <th>238712</th>\n",
       "      <td>100</td>\n",
       "      <td>5028291032</td>\n",
       "    </tr>\n",
       "    <tr>\n",
       "      <th>238713</th>\n",
       "      <td>100</td>\n",
       "      <td>5028291033</td>\n",
       "    </tr>\n",
       "    <tr>\n",
       "      <th>238714</th>\n",
       "      <td>100</td>\n",
       "      <td>5028291034</td>\n",
       "    </tr>\n",
       "    <tr>\n",
       "      <th>238715</th>\n",
       "      <td>100</td>\n",
       "      <td>5028291035</td>\n",
       "    </tr>\n",
       "    <tr>\n",
       "      <th>238716</th>\n",
       "      <td>100</td>\n",
       "      <td>5028291036</td>\n",
       "    </tr>\n",
       "    <tr>\n",
       "      <th>238717</th>\n",
       "      <td>100</td>\n",
       "      <td>5028291037</td>\n",
       "    </tr>\n",
       "    <tr>\n",
       "      <th>238718</th>\n",
       "      <td>100</td>\n",
       "      <td>5028291038</td>\n",
       "    </tr>\n",
       "    <tr>\n",
       "      <th>238719</th>\n",
       "      <td>100</td>\n",
       "      <td>5028291039</td>\n",
       "    </tr>\n",
       "    <tr>\n",
       "      <th>238720</th>\n",
       "      <td>100</td>\n",
       "      <td>5028291040</td>\n",
       "    </tr>\n",
       "    <tr>\n",
       "      <th>238721</th>\n",
       "      <td>100</td>\n",
       "      <td>5028291041</td>\n",
       "    </tr>\n",
       "    <tr>\n",
       "      <th>238722</th>\n",
       "      <td>100</td>\n",
       "      <td>5028291042</td>\n",
       "    </tr>\n",
       "    <tr>\n",
       "      <th>238723</th>\n",
       "      <td>100</td>\n",
       "      <td>5028291043</td>\n",
       "    </tr>\n",
       "    <tr>\n",
       "      <th>238724</th>\n",
       "      <td>100</td>\n",
       "      <td>5028291044</td>\n",
       "    </tr>\n",
       "    <tr>\n",
       "      <th>238725</th>\n",
       "      <td>100</td>\n",
       "      <td>5028291045</td>\n",
       "    </tr>\n",
       "    <tr>\n",
       "      <th>238726</th>\n",
       "      <td>100</td>\n",
       "      <td>5028291046</td>\n",
       "    </tr>\n",
       "    <tr>\n",
       "      <th>238727</th>\n",
       "      <td>100</td>\n",
       "      <td>5028291047</td>\n",
       "    </tr>\n",
       "    <tr>\n",
       "      <th>238728</th>\n",
       "      <td>100</td>\n",
       "      <td>5028291048</td>\n",
       "    </tr>\n",
       "    <tr>\n",
       "      <th>238729</th>\n",
       "      <td>100</td>\n",
       "      <td>5028291049</td>\n",
       "    </tr>\n",
       "    <tr>\n",
       "      <th>238730</th>\n",
       "      <td>100</td>\n",
       "      <td>5028291050</td>\n",
       "    </tr>\n",
       "    <tr>\n",
       "      <th>238731</th>\n",
       "      <td>100</td>\n",
       "      <td>5028291051</td>\n",
       "    </tr>\n",
       "    <tr>\n",
       "      <th>238732</th>\n",
       "      <td>100</td>\n",
       "      <td>5028291052</td>\n",
       "    </tr>\n",
       "    <tr>\n",
       "      <th>238733</th>\n",
       "      <td>100</td>\n",
       "      <td>5028297501</td>\n",
       "    </tr>\n",
       "  </tbody>\n",
       "</table>\n",
       "<p>1123 rows × 2 columns</p>\n",
       "</div>"
      ],
      "text/plain": [
       "        condono         bbl\n",
       "20916       100  5028291053\n",
       "20917       100  5028291054\n",
       "20918       100  5028291055\n",
       "20919       100  5028291056\n",
       "20920       100  5028291057\n",
       "20921       100  5028291058\n",
       "20922       100  5028291059\n",
       "20923       100  5028291060\n",
       "114867      100  1015051040\n",
       "114868      100  1015051041\n",
       "114869      100  1015051042\n",
       "114870      100  1015051043\n",
       "114871      100  1015051044\n",
       "114872      100  1015051045\n",
       "114873      100  1015051046\n",
       "114874      100  1015051047\n",
       "114875      100  1015051048\n",
       "114876      100  1015051049\n",
       "114877      100  1015051050\n",
       "114878      100  1015051051\n",
       "114879      100  1015051053\n",
       "114880      100  1015051054\n",
       "114881      100  1015051055\n",
       "114882      100  1015051056\n",
       "114883      100  1015051057\n",
       "114884      100  1015051058\n",
       "114885      100  1015051059\n",
       "114886      100  1015051061\n",
       "114887      100  1015051062\n",
       "114888      100  1015051063\n",
       "...         ...         ...\n",
       "238704      100  5028291024\n",
       "238705      100  5028291025\n",
       "238706      100  5028291026\n",
       "238707      100  5028291027\n",
       "238708      100  5028291028\n",
       "238709      100  5028291029\n",
       "238710      100  5028291030\n",
       "238711      100  5028291031\n",
       "238712      100  5028291032\n",
       "238713      100  5028291033\n",
       "238714      100  5028291034\n",
       "238715      100  5028291035\n",
       "238716      100  5028291036\n",
       "238717      100  5028291037\n",
       "238718      100  5028291038\n",
       "238719      100  5028291039\n",
       "238720      100  5028291040\n",
       "238721      100  5028291041\n",
       "238722      100  5028291042\n",
       "238723      100  5028291043\n",
       "238724      100  5028291044\n",
       "238725      100  5028291045\n",
       "238726      100  5028291046\n",
       "238727      100  5028291047\n",
       "238728      100  5028291048\n",
       "238729      100  5028291049\n",
       "238730      100  5028291050\n",
       "238731      100  5028291051\n",
       "238732      100  5028291052\n",
       "238733      100  5028297501\n",
       "\n",
       "[1123 rows x 2 columns]"
      ]
     },
     "execution_count": 46,
     "metadata": {},
     "output_type": "execute_result"
    }
   ],
   "source": [
    "condos[condos['condono']==100]"
   ]
  },
  {
   "cell_type": "markdown",
   "metadata": {},
   "source": [
    "As we can see, the condono 100 is maps to BBLs that span different boroughs (as indicated by the most significant digit in the BBL). Thus our approach will be to parse the csv file as follows:\n",
    "1. Assign new CondoIDs to each adjacent block of records with the same condo number."
   ]
  },
  {
   "cell_type": "code",
   "execution_count": 92,
   "metadata": {
    "collapsed": false
   },
   "outputs": [],
   "source": [
    "condo_id_groups = []\n",
    "CondoID = 1\n",
    "with file('condolookup.csv','r') as f:\n",
    "    header = f.readline().strip().replace('\"',\"\").split(',')\n",
    "    last_condono, bbl = f.readline().strip().split(',')\n",
    "    last_condono = int(last_condono)\n",
    "    bbl = int(bbl)\n",
    "    condo_id_groups.append((CondoID, bbl))\n",
    "    for l in f:\n",
    "        condono, bbl = l.strip().split(',')\n",
    "        condono = int(condono)\n",
    "        bbl = int(bbl)\n",
    "        if condono == last_condono:\n",
    "            condo_id_groups.append((CondoID, bbl))\n",
    "        else:\n",
    "            CondoID += 1\n",
    "            condo_id_groups.append((CondoID, bbl))\n",
    "            last_condono = condono"
   ]
  },
  {
   "cell_type": "code",
   "execution_count": 93,
   "metadata": {
    "collapsed": false
   },
   "outputs": [
    {
     "data": {
      "text/plain": [
       "239819"
      ]
     },
     "execution_count": 93,
     "metadata": {},
     "output_type": "execute_result"
    }
   ],
   "source": [
    "len(condo_id_groups)"
   ]
  },
  {
   "cell_type": "code",
   "execution_count": 94,
   "metadata": {
    "collapsed": false
   },
   "outputs": [],
   "source": [
    "new_condos = pd.DataFrame.from_records(condo_id_groups)"
   ]
  },
  {
   "cell_type": "code",
   "execution_count": 95,
   "metadata": {
    "collapsed": false
   },
   "outputs": [
    {
     "data": {
      "text/html": [
       "<div>\n",
       "<table border=\"1\" class=\"dataframe\">\n",
       "  <thead>\n",
       "    <tr style=\"text-align: right;\">\n",
       "      <th></th>\n",
       "      <th>CondoID</th>\n",
       "      <th>BBL</th>\n",
       "    </tr>\n",
       "  </thead>\n",
       "  <tbody>\n",
       "    <tr>\n",
       "      <th>0</th>\n",
       "      <td>1</td>\n",
       "      <td>1001871001</td>\n",
       "    </tr>\n",
       "    <tr>\n",
       "      <th>1</th>\n",
       "      <td>1</td>\n",
       "      <td>1001871002</td>\n",
       "    </tr>\n",
       "    <tr>\n",
       "      <th>2</th>\n",
       "      <td>1</td>\n",
       "      <td>1001871003</td>\n",
       "    </tr>\n",
       "    <tr>\n",
       "      <th>3</th>\n",
       "      <td>2</td>\n",
       "      <td>1002461001</td>\n",
       "    </tr>\n",
       "    <tr>\n",
       "      <th>4</th>\n",
       "      <td>2</td>\n",
       "      <td>1002461002</td>\n",
       "    </tr>\n",
       "  </tbody>\n",
       "</table>\n",
       "</div>"
      ],
      "text/plain": [
       "   CondoID         BBL\n",
       "0        1  1001871001\n",
       "1        1  1001871002\n",
       "2        1  1001871003\n",
       "3        2  1002461001\n",
       "4        2  1002461002"
      ]
     },
     "execution_count": 95,
     "metadata": {},
     "output_type": "execute_result"
    }
   ],
   "source": [
    "new_condos.columns = ['CondoID','BBL']\n",
    "new_condos.head()"
   ]
  },
  {
   "cell_type": "code",
   "execution_count": 96,
   "metadata": {
    "collapsed": false
   },
   "outputs": [
    {
     "name": "stdout",
     "output_type": "stream",
     "text": [
      "<class 'pandas.core.frame.DataFrame'>\n",
      "Int64Index: 88489 entries, 1 to 369621\n",
      "Data columns (total 1 columns):\n",
      "BBL    88489 non-null float64\n",
      "dtypes: float64(1)\n",
      "memory usage: 1.4 MB\n"
     ]
    }
   ],
   "source": [
    "unmatched = merged.loc[merged['Block'].isnull(), ['BBL']]\n",
    "unmatched.info()"
   ]
  },
  {
   "cell_type": "code",
   "execution_count": 97,
   "metadata": {
    "collapsed": false
   },
   "outputs": [
    {
     "name": "stdout",
     "output_type": "stream",
     "text": [
      "<class 'pandas.core.frame.DataFrame'>\n",
      "Int64Index: 88492 entries, 0 to 88491\n",
      "Data columns (total 2 columns):\n",
      "BBL        88492 non-null float64\n",
      "CondoID    85251 non-null float64\n",
      "dtypes: float64(2)\n",
      "memory usage: 2.0 MB\n"
     ]
    }
   ],
   "source": [
    "merge_unmatched = pd.merge(unmatched, new_condos, how='left', on=['BBL'])\n",
    "merge_unmatched.info()"
   ]
  },
  {
   "cell_type": "code",
   "execution_count": 98,
   "metadata": {
    "collapsed": false
   },
   "outputs": [
    {
     "name": "stdout",
     "output_type": "stream",
     "text": [
      "<class 'pandas.core.frame.DataFrame'>\n",
      "Int64Index: 20200013 entries, 0 to 20200012\n",
      "Data columns (total 3 columns):\n",
      "BBL_x      float64\n",
      "CondoID    float64\n",
      "BBL_y      float64\n",
      "dtypes: float64(3)\n",
      "memory usage: 616.5 MB\n"
     ]
    }
   ],
   "source": [
    "merge_unmatched = pd.merge(merge_unmatched, new_condos, how='left', on='CondoID')\n",
    "merge_unmatched.info()"
   ]
  },
  {
   "cell_type": "code",
   "execution_count": 100,
   "metadata": {
    "collapsed": false
   },
   "outputs": [],
   "source": [
    "w_pluto = pd.merge(merge_unmatched, pluto[['BBL']], how='right', left_on=['BBL_y'], right_on=['BBL'])"
   ]
  },
  {
   "cell_type": "code",
   "execution_count": 101,
   "metadata": {
    "collapsed": false
   },
   "outputs": [
    {
     "name": "stdout",
     "output_type": "stream",
     "text": [
      "<class 'pandas.core.frame.DataFrame'>\n",
      "Int64Index: 892743 entries, 0 to 892742\n",
      "Data columns (total 4 columns):\n",
      "BBL_x      34818 non-null float64\n",
      "CondoID    34818 non-null float64\n",
      "BBL_y      34818 non-null float64\n",
      "BBL        892743 non-null int64\n",
      "dtypes: float64(3), int64(1)\n",
      "memory usage: 34.1 MB\n"
     ]
    }
   ],
   "source": [
    "w_pluto.info()"
   ]
  },
  {
   "cell_type": "code",
   "execution_count": 107,
   "metadata": {
    "collapsed": false
   },
   "outputs": [
    {
     "data": {
      "text/html": [
       "<div>\n",
       "<table border=\"1\" class=\"dataframe\">\n",
       "  <thead>\n",
       "    <tr style=\"text-align: right;\">\n",
       "      <th></th>\n",
       "      <th>BBL_x</th>\n",
       "      <th>CondoID</th>\n",
       "      <th>BBL_y</th>\n",
       "      <th>BBL</th>\n",
       "    </tr>\n",
       "  </thead>\n",
       "  <tbody>\n",
       "    <tr>\n",
       "      <th>0</th>\n",
       "      <td>4.009491e+09</td>\n",
       "      <td>11438.0</td>\n",
       "      <td>4.009478e+09</td>\n",
       "      <td>4009477501</td>\n",
       "    </tr>\n",
       "    <tr>\n",
       "      <th>1</th>\n",
       "      <td>4.009471e+09</td>\n",
       "      <td>11438.0</td>\n",
       "      <td>4.009478e+09</td>\n",
       "      <td>4009477501</td>\n",
       "    </tr>\n",
       "    <tr>\n",
       "      <th>2</th>\n",
       "      <td>4.009471e+09</td>\n",
       "      <td>11438.0</td>\n",
       "      <td>4.009478e+09</td>\n",
       "      <td>4009477501</td>\n",
       "    </tr>\n",
       "    <tr>\n",
       "      <th>3</th>\n",
       "      <td>4.009471e+09</td>\n",
       "      <td>11438.0</td>\n",
       "      <td>4.009478e+09</td>\n",
       "      <td>4009477501</td>\n",
       "    </tr>\n",
       "    <tr>\n",
       "      <th>4</th>\n",
       "      <td>4.009471e+09</td>\n",
       "      <td>11438.0</td>\n",
       "      <td>4.009478e+09</td>\n",
       "      <td>4009477501</td>\n",
       "    </tr>\n",
       "  </tbody>\n",
       "</table>\n",
       "</div>"
      ],
      "text/plain": [
       "          BBL_x  CondoID         BBL_y         BBL\n",
       "0  4.009491e+09  11438.0  4.009478e+09  4009477501\n",
       "1  4.009471e+09  11438.0  4.009478e+09  4009477501\n",
       "2  4.009471e+09  11438.0  4.009478e+09  4009477501\n",
       "3  4.009471e+09  11438.0  4.009478e+09  4009477501\n",
       "4  4.009471e+09  11438.0  4.009478e+09  4009477501"
      ]
     },
     "execution_count": 107,
     "metadata": {},
     "output_type": "execute_result"
    }
   ],
   "source": [
    "w_pluto.head()"
   ]
  },
  {
   "cell_type": "code",
   "execution_count": 108,
   "metadata": {
    "collapsed": false
   },
   "outputs": [
    {
     "name": "stdout",
     "output_type": "stream",
     "text": [
      "<class 'pandas.core.frame.DataFrame'>\n",
      "Int64Index: 27595 entries, 0 to 34817\n",
      "Data columns (total 4 columns):\n",
      "BBL_x      27595 non-null float64\n",
      "CondoID    27595 non-null float64\n",
      "BBL_y      27595 non-null float64\n",
      "BBL        27595 non-null int64\n",
      "dtypes: float64(3), int64(1)\n",
      "memory usage: 1.1 MB\n"
     ]
    }
   ],
   "source": [
    "w_pluto.drop_duplicates(inplace=True)\n",
    "w_pluto.dropna(subset=['BBL_x'], inplace=True)\n",
    "w_pluto.info()"
   ]
  },
  {
   "cell_type": "code",
   "execution_count": 109,
   "metadata": {
    "collapsed": false
   },
   "outputs": [
    {
     "data": {
      "text/html": [
       "<div>\n",
       "<table border=\"1\" class=\"dataframe\">\n",
       "  <thead>\n",
       "    <tr style=\"text-align: right;\">\n",
       "      <th></th>\n",
       "      <th>BBL_x</th>\n",
       "      <th>CondoID</th>\n",
       "      <th>BBL_y</th>\n",
       "      <th>BBL</th>\n",
       "    </tr>\n",
       "  </thead>\n",
       "  <tbody>\n",
       "    <tr>\n",
       "      <th>0</th>\n",
       "      <td>4009491018</td>\n",
       "      <td>11438</td>\n",
       "      <td>4009477501</td>\n",
       "      <td>4009477501</td>\n",
       "    </tr>\n",
       "    <tr>\n",
       "      <th>1</th>\n",
       "      <td>4009471014</td>\n",
       "      <td>11438</td>\n",
       "      <td>4009477501</td>\n",
       "      <td>4009477501</td>\n",
       "    </tr>\n",
       "    <tr>\n",
       "      <th>2</th>\n",
       "      <td>4009471037</td>\n",
       "      <td>11438</td>\n",
       "      <td>4009477501</td>\n",
       "      <td>4009477501</td>\n",
       "    </tr>\n",
       "    <tr>\n",
       "      <th>3</th>\n",
       "      <td>4009471112</td>\n",
       "      <td>11438</td>\n",
       "      <td>4009477501</td>\n",
       "      <td>4009477501</td>\n",
       "    </tr>\n",
       "    <tr>\n",
       "      <th>4</th>\n",
       "      <td>4009471115</td>\n",
       "      <td>11438</td>\n",
       "      <td>4009477501</td>\n",
       "      <td>4009477501</td>\n",
       "    </tr>\n",
       "  </tbody>\n",
       "</table>\n",
       "</div>"
      ],
      "text/plain": [
       "        BBL_x  CondoID       BBL_y         BBL\n",
       "0  4009491018    11438  4009477501  4009477501\n",
       "1  4009471014    11438  4009477501  4009477501\n",
       "2  4009471037    11438  4009477501  4009477501\n",
       "3  4009471112    11438  4009477501  4009477501\n",
       "4  4009471115    11438  4009477501  4009477501"
      ]
     },
     "execution_count": 109,
     "metadata": {},
     "output_type": "execute_result"
    }
   ],
   "source": [
    "for feat in w_pluto.columns:\n",
    "    w_pluto[feat] = w_pluto[feat].astype(int)\n",
    "w_pluto.head()"
   ]
  },
  {
   "cell_type": "code",
   "execution_count": 112,
   "metadata": {
    "collapsed": false
   },
   "outputs": [
    {
     "data": {
      "text/html": [
       "<div>\n",
       "<table border=\"1\" class=\"dataframe\">\n",
       "  <thead>\n",
       "    <tr style=\"text-align: right;\">\n",
       "      <th></th>\n",
       "      <th>BBL_x</th>\n",
       "      <th>BBL</th>\n",
       "    </tr>\n",
       "  </thead>\n",
       "  <tbody>\n",
       "    <tr>\n",
       "      <th>0</th>\n",
       "      <td>4009491018</td>\n",
       "      <td>4009477501</td>\n",
       "    </tr>\n",
       "    <tr>\n",
       "      <th>1</th>\n",
       "      <td>4009471014</td>\n",
       "      <td>4009477501</td>\n",
       "    </tr>\n",
       "    <tr>\n",
       "      <th>2</th>\n",
       "      <td>4009471037</td>\n",
       "      <td>4009477501</td>\n",
       "    </tr>\n",
       "    <tr>\n",
       "      <th>3</th>\n",
       "      <td>4009471112</td>\n",
       "      <td>4009477501</td>\n",
       "    </tr>\n",
       "    <tr>\n",
       "      <th>4</th>\n",
       "      <td>4009471115</td>\n",
       "      <td>4009477501</td>\n",
       "    </tr>\n",
       "  </tbody>\n",
       "</table>\n",
       "</div>"
      ],
      "text/plain": [
       "        BBL_x         BBL\n",
       "0  4009491018  4009477501\n",
       "1  4009471014  4009477501\n",
       "2  4009471037  4009477501\n",
       "3  4009471112  4009477501\n",
       "4  4009471115  4009477501"
      ]
     },
     "execution_count": 112,
     "metadata": {},
     "output_type": "execute_result"
    }
   ],
   "source": [
    "w_pluto.drop(['CondoID', 'BBL_y'], axis=1, inplace=True)\n",
    "w_pluto.head()"
   ]
  },
  {
   "cell_type": "markdown",
   "metadata": {},
   "source": [
    "Now that we have a mapping from the sale BBLs to the representative BBL for the condo, we'll retry merging by BBL"
   ]
  },
  {
   "cell_type": "code",
   "execution_count": 113,
   "metadata": {
    "collapsed": false
   },
   "outputs": [
    {
     "name": "stdout",
     "output_type": "stream",
     "text": [
      "<class 'pandas.core.frame.DataFrame'>\n",
      "RangeIndex: 369637 entries, 0 to 369636\n",
      "Data columns (total 23 columns):\n",
      "BOROUGH                           369637 non-null object\n",
      "NEIGHBORHOOD                      369637 non-null object\n",
      "BUILDING CLASS CATEGORY           369637 non-null object\n",
      "TAX CLASS AT PRESENT              369637 non-null object\n",
      "BLOCK                             369637 non-null object\n",
      "LOT                               369637 non-null object\n",
      "EASE-MENT                         369637 non-null object\n",
      "BUILDING CLASS AT PRESENT         369637 non-null object\n",
      "ADDRESS                           369637 non-null object\n",
      "APARTMENT NUMBER                  369637 non-null object\n",
      "ZIP CODE                          369637 non-null int64\n",
      "RESIDENTIAL UNITS                 369637 non-null int64\n",
      "COMMERCIAL UNITS                  369637 non-null int64\n",
      "TOTAL UNITS                       369637 non-null int64\n",
      "LAND SQUARE FEET                  369637 non-null int64\n",
      "GROSS SQUARE FEET                 369637 non-null int64\n",
      "YEAR BUILT                        369637 non-null int64\n",
      "TAX CLASS AT TIME OF SALE         369637 non-null int64\n",
      "BUILDING CLASS AT TIME OF SALE    369637 non-null object\n",
      "SALE PRICE                        369637 non-null int64\n",
      "SALE DATE                         369637 non-null object\n",
      "BBL                               369637 non-null float64\n",
      "mapped_BBL                        369637 non-null float64\n",
      "dtypes: float64(2), int64(9), object(12)\n",
      "memory usage: 64.9+ MB\n"
     ]
    }
   ],
   "source": [
    "sales['mapped_BBL'] = sales['BBL']\n",
    "sales.info()"
   ]
  },
  {
   "cell_type": "code",
   "execution_count": 117,
   "metadata": {
    "collapsed": false
   },
   "outputs": [],
   "source": [
    "sales['mapped_BBL'] = sales['mapped_BBL'].replace(w_pluto['BBL_x'].values, w_pluto['BBL'].values)"
   ]
  },
  {
   "cell_type": "code",
   "execution_count": 119,
   "metadata": {
    "collapsed": false
   },
   "outputs": [
    {
     "name": "stdout",
     "output_type": "stream",
     "text": [
      "<class 'pandas.core.frame.DataFrame'>\n",
      "Int64Index: 369637 entries, 0 to 369636\n",
      "Data columns (total 43 columns):\n",
      "BOROUGH                           369637 non-null object\n",
      "NEIGHBORHOOD                      369637 non-null object\n",
      "BUILDING CLASS CATEGORY           369637 non-null object\n",
      "TAX CLASS AT PRESENT              369637 non-null object\n",
      "BLOCK                             369637 non-null object\n",
      "LOT                               369637 non-null object\n",
      "EASE-MENT                         369637 non-null object\n",
      "BUILDING CLASS AT PRESENT         369637 non-null object\n",
      "ADDRESS                           369637 non-null object\n",
      "APARTMENT NUMBER                  369637 non-null object\n",
      "ZIP CODE                          369637 non-null int64\n",
      "RESIDENTIAL UNITS                 369637 non-null int64\n",
      "COMMERCIAL UNITS                  369637 non-null int64\n",
      "TOTAL UNITS                       369637 non-null int64\n",
      "LAND SQUARE FEET                  369637 non-null int64\n",
      "GROSS SQUARE FEET                 369637 non-null int64\n",
      "YEAR BUILT                        369637 non-null int64\n",
      "TAX CLASS AT TIME OF SALE         369637 non-null int64\n",
      "BUILDING CLASS AT TIME OF SALE    369637 non-null object\n",
      "SALE PRICE                        369637 non-null int64\n",
      "SALE DATE                         369637 non-null object\n",
      "BBL_x                             369637 non-null float64\n",
      "mapped_BBL                        369637 non-null float64\n",
      "Borough                           309743 non-null object\n",
      "Block                             309743 non-null float64\n",
      "Lot                               309743 non-null float64\n",
      "CT2010                            309527 non-null float64\n",
      "SchoolDist                        309597 non-null float64\n",
      "ZipCode                           309449 non-null float64\n",
      "PolicePrct                        309607 non-null float64\n",
      "Address                           309710 non-null object\n",
      "LotArea                           309743 non-null float64\n",
      "BldgArea                          309743 non-null float64\n",
      "ResArea                           309743 non-null float64\n",
      "NumBldgs                          309743 non-null float64\n",
      "NumFloors                         309743 non-null float64\n",
      "AssessLand                        309743 non-null float64\n",
      "AssessTot                         309743 non-null float64\n",
      "YearBuilt                         309743 non-null float64\n",
      "YearAlter1                        309743 non-null float64\n",
      "YearAlter2                        309743 non-null float64\n",
      "BBL_y                             309743 non-null float64\n",
      "CondoNo                           309743 non-null float64\n",
      "dtypes: float64(20), int64(9), object(14)\n",
      "memory usage: 124.1+ MB\n"
     ]
    }
   ],
   "source": [
    "new_merged = pd.merge(sales, pluto, how='left', left_on=['mapped_BBL'], right_on=['BBL'])\n",
    "new_merged.info()"
   ]
  },
  {
   "cell_type": "code",
   "execution_count": 122,
   "metadata": {
    "collapsed": false
   },
   "outputs": [
    {
     "data": {
      "image/png": "[encoded data removed]",
      "text/plain": [
       "<matplotlib.figure.Figure at 0x126482c10>"
      ]
     },
     "metadata": {},
     "output_type": "display_data"
    }
   ],
   "source": [
    "import matplotlib.pyplot as plt\n",
    "import seaborn as sns\n",
    "%matplotlib inline\n",
    "plt.figure(figsize=(10,6))\n",
    "plt.hist(new_merged.loc[new_merged['Borough'].isnull(),'LOT'].astype(int).values, bins=100)\n",
    "plt.ylabel('Count')\n",
    "plt.xlabel('Lot number for sale records that did not match a BBL in Pluto')\n",
    "plt.title('Lot numbers for sales that were not successfully merged')\n",
    "plt.show()"
   ]
  },
  {
   "cell_type": "markdown",
   "metadata": {},
   "source": [
    "### Approach 2: Merging using the Billing BBL"
   ]
  },
  {
   "cell_type": "code",
   "execution_count": 163,
   "metadata": {
    "collapsed": false
   },
   "outputs": [
    {
     "name": "stdout",
     "output_type": "stream",
     "text": [
      "<class 'pandas.core.frame.DataFrame'>\n",
      "Int64Index: 25854 entries, 0 to 29271\n",
      "Data columns (total 9 columns):\n",
      "loboro       25854 non-null int64\n",
      "loblock      25854 non-null int64\n",
      "lolot        25854 non-null int64\n",
      "hiboro       25854 non-null int64\n",
      "hiblock      25854 non-null int64\n",
      "hilot        25854 non-null int64\n",
      "billboro     25854 non-null object\n",
      "billblock    25854 non-null object\n",
      "billlot      25854 non-null object\n",
      "dtypes: int64(6), object(3)\n",
      "memory usage: 2.0+ MB\n"
     ]
    }
   ],
   "source": [
    "condoPAD = pd.read_csv('NYCCondoPad.csv', index_col=None, usecols=['loboro','loblock','lolot','hiboro','hiblock','hilot','billboro','billblock','billlot'])\n",
    "condoPAD.replace(r\"\\s+\", np.nan, regex=True, inplace=True)\n",
    "condoPAD.dropna(axis=0, inplace=True)\n",
    "condoPAD.info()"
   ]
  },
  {
   "cell_type": "code",
   "execution_count": 164,
   "metadata": {
    "collapsed": false
   },
   "outputs": [
    {
     "data": {
      "text/plain": [
       "[(1000071001, 1000077501), (1000071002, 1000077501)]"
      ]
     },
     "execution_count": 164,
     "metadata": {},
     "output_type": "execute_result"
    }
   ],
   "source": [
    "def make_bbl_ranges(row):\n",
    "    pairs = []\n",
    "    lbbl = int(str(row['loboro'])+str(row['loblock']).zfill(5)+str(row['lolot']).zfill(4))\n",
    "    hbbl = int(str(row['hiboro'])+str(row['hiblock']).zfill(5)+str(row['hilot']).zfill(4))\n",
    "    billbbl = int(str(row['billboro'])+str(row['billblock']).zfill(5)+str(row['billlot']).zfill(4))\n",
    "    for bbl in range(lbbl, hbbl+1):\n",
    "        pairs.append((bbl, billbbl))\n",
    "    return pairs\n",
    "\n",
    "make_bbl_ranges(condoPAD.loc[3])"
   ]
  },
  {
   "cell_type": "code",
   "execution_count": 165,
   "metadata": {
    "collapsed": false
   },
   "outputs": [],
   "source": [
    "all_pairs = []\n",
    "for i, row in condoPAD.iterrows():\n",
    "    all_pairs.extend(make_bbl_ranges(row))"
   ]
  },
  {
   "cell_type": "code",
   "execution_count": 169,
   "metadata": {
    "collapsed": false
   },
   "outputs": [],
   "source": [
    "bbl_to_billing = pd.DataFrame.from_records(all_pairs)\n",
    "bbl_to_billing.columns = ['BBL','BillingBBL']"
   ]
  },
  {
   "cell_type": "code",
   "execution_count": 170,
   "metadata": {
    "collapsed": false
   },
   "outputs": [
    {
     "name": "stdout",
     "output_type": "stream",
     "text": [
      "<class 'pandas.core.frame.DataFrame'>\n",
      "Int64Index: 88489 entries, 1 to 369621\n",
      "Data columns (total 1 columns):\n",
      "BBL    88489 non-null float64\n",
      "dtypes: float64(1)\n",
      "memory usage: 1.4 MB\n"
     ]
    }
   ],
   "source": [
    "unmatched.info()"
   ]
  },
  {
   "cell_type": "code",
   "execution_count": 171,
   "metadata": {
    "collapsed": false
   },
   "outputs": [
    {
     "name": "stdout",
     "output_type": "stream",
     "text": [
      "<class 'pandas.core.frame.DataFrame'>\n",
      "Int64Index: 88489 entries, 0 to 88488\n",
      "Data columns (total 2 columns):\n",
      "BBL           88489 non-null float64\n",
      "BillingBBL    78886 non-null float64\n",
      "dtypes: float64(2)\n",
      "memory usage: 2.0 MB\n"
     ]
    }
   ],
   "source": [
    "merge_unmatched_billing = pd.merge(unmatched, bbl_to_billing, how='left', on=['BBL'])\n",
    "merge_unmatched_billing.info()"
   ]
  },
  {
   "cell_type": "code",
   "execution_count": 172,
   "metadata": {
    "collapsed": false
   },
   "outputs": [
    {
     "name": "stdout",
     "output_type": "stream",
     "text": [
      "<class 'pandas.core.frame.DataFrame'>\n",
      "Int64Index: 88489 entries, 0 to 88488\n",
      "Data columns (total 3 columns):\n",
      "BBL_x         88489 non-null float64\n",
      "BillingBBL    78886 non-null float64\n",
      "BBL_y         78798 non-null float64\n",
      "dtypes: float64(3)\n",
      "memory usage: 2.7 MB\n"
     ]
    }
   ],
   "source": [
    "w_pluto_billing = pd.merge(merge_unmatched_billing, pluto[['BBL']], how='left', left_on=['BillingBBL'], right_on=['BBL'])\n",
    "w_pluto_billing.info()"
   ]
  },
  {
   "cell_type": "code",
   "execution_count": 174,
   "metadata": {
    "collapsed": false
   },
   "outputs": [
    {
     "data": {
      "text/html": [
       "<div>\n",
       "<table border=\"1\" class=\"dataframe\">\n",
       "  <thead>\n",
       "    <tr style=\"text-align: right;\">\n",
       "      <th></th>\n",
       "      <th>BBL_x</th>\n",
       "      <th>BBL_y</th>\n",
       "    </tr>\n",
       "  </thead>\n",
       "  <tbody>\n",
       "    <tr>\n",
       "      <th>0</th>\n",
       "      <td>4.009491e+09</td>\n",
       "      <td>4.009498e+09</td>\n",
       "    </tr>\n",
       "    <tr>\n",
       "      <th>1</th>\n",
       "      <td>4.159041e+09</td>\n",
       "      <td>4.159048e+09</td>\n",
       "    </tr>\n",
       "    <tr>\n",
       "      <th>2</th>\n",
       "      <td>4.159041e+09</td>\n",
       "      <td>4.159048e+09</td>\n",
       "    </tr>\n",
       "    <tr>\n",
       "      <th>3</th>\n",
       "      <td>4.159311e+09</td>\n",
       "      <td>4.159318e+09</td>\n",
       "    </tr>\n",
       "    <tr>\n",
       "      <th>4</th>\n",
       "      <td>4.159311e+09</td>\n",
       "      <td>4.159318e+09</td>\n",
       "    </tr>\n",
       "  </tbody>\n",
       "</table>\n",
       "</div>"
      ],
      "text/plain": [
       "          BBL_x         BBL_y\n",
       "0  4.009491e+09  4.009498e+09\n",
       "1  4.159041e+09  4.159048e+09\n",
       "2  4.159041e+09  4.159048e+09\n",
       "3  4.159311e+09  4.159318e+09\n",
       "4  4.159311e+09  4.159318e+09"
      ]
     },
     "execution_count": 174,
     "metadata": {},
     "output_type": "execute_result"
    }
   ],
   "source": [
    "w_pluto_billing.drop('BillingBBL', axis=1, inplace=True)\n",
    "w_pluto_billing.head()"
   ]
  },
  {
   "cell_type": "markdown",
   "metadata": {},
   "source": [
    "Note this approach seems particularly promising. Now we put it all together- our approach will be to:\n",
    "1. First left merge naively (sales and pluto on BBL)\n",
    "2. Fill missing BBLs (not found in pluto) with the BBL found in pluto for that same condo (i.e. lowest BBL in the building, not the billing BBL).\n",
    "3. Fill remaining missing BBLs with the BBL found in pluto matching the condo billing BBL."
   ]
  },
  {
   "cell_type": "code",
   "execution_count": 182,
   "metadata": {
    "collapsed": true
   },
   "outputs": [],
   "source": [
    "sales = pd.read_csv('./../sales/all_residential_2011_2015.csv')"
   ]
  },
  {
   "cell_type": "code",
   "execution_count": 183,
   "metadata": {
    "collapsed": true
   },
   "outputs": [],
   "source": [
    "pluto = pd.read_csv('./../pluto/all_pluto.csv', usecols=['BBL','Lot'])"
   ]
  },
  {
   "cell_type": "code",
   "execution_count": 184,
   "metadata": {
    "collapsed": false
   },
   "outputs": [],
   "source": [
    "bbl_features = ['BOROUGH','BLOCK','LOT']\n",
    "\n",
    "for feature in bbl_features:\n",
    "    sales[feature] = sales[feature].astype(str)"
   ]
  },
  {
   "cell_type": "code",
   "execution_count": 185,
   "metadata": {
    "collapsed": true
   },
   "outputs": [],
   "source": [
    "def make_bbl(row):\n",
    "    bbl = row['BOROUGH'] + row['BLOCK'].zfill(5) + row['LOT'].zfill(4)\n",
    "    return bbl\n",
    "\n",
    "sales['BBL'] = sales.apply(make_bbl, axis=1).astype(float)"
   ]
  },
  {
   "cell_type": "code",
   "execution_count": 186,
   "metadata": {
    "collapsed": true
   },
   "outputs": [],
   "source": [
    "sales['mapped_BBL'] = sales['BBL']\n",
    "sales['mapped_BBL'] = sales['mapped_BBL'].replace(w_pluto['BBL_x'].values, w_pluto['BBL'].values)\n",
    "sales['mapped_BBL'] = sales['mapped_BBL'].replace(w_pluto_billing['BBL_x'].values, w_pluto_billing['BBL_y'].values)"
   ]
  },
  {
   "cell_type": "code",
   "execution_count": 188,
   "metadata": {
    "collapsed": false,
    "scrolled": false
   },
   "outputs": [
    {
     "name": "stdout",
     "output_type": "stream",
     "text": [
      "<class 'pandas.core.frame.DataFrame'>\n",
      "Int64Index: 369637 entries, 0 to 369636\n",
      "Data columns (total 25 columns):\n",
      "BOROUGH                           369637 non-null object\n",
      "NEIGHBORHOOD                      369637 non-null object\n",
      "BUILDING CLASS CATEGORY           369637 non-null object\n",
      "TAX CLASS AT PRESENT              369637 non-null object\n",
      "BLOCK                             369637 non-null object\n",
      "LOT                               369637 non-null object\n",
      "EASE-MENT                         369637 non-null object\n",
      "BUILDING CLASS AT PRESENT         369637 non-null object\n",
      "ADDRESS                           369637 non-null object\n",
      "APARTMENT NUMBER                  369637 non-null object\n",
      "ZIP CODE                          369637 non-null int64\n",
      "RESIDENTIAL UNITS                 369637 non-null int64\n",
      "COMMERCIAL UNITS                  369637 non-null int64\n",
      "TOTAL UNITS                       369637 non-null int64\n",
      "LAND SQUARE FEET                  369637 non-null int64\n",
      "GROSS SQUARE FEET                 369637 non-null int64\n",
      "YEAR BUILT                        369637 non-null int64\n",
      "TAX CLASS AT TIME OF SALE         369637 non-null int64\n",
      "BUILDING CLASS AT TIME OF SALE    369637 non-null object\n",
      "SALE PRICE                        369637 non-null int64\n",
      "SALE DATE                         369637 non-null object\n",
      "BBL_x                             369637 non-null float64\n",
      "mapped_BBL                        362323 non-null float64\n",
      "Lot                               362323 non-null float64\n",
      "BBL_y                             362323 non-null float64\n",
      "dtypes: float64(4), int64(9), object(12)\n",
      "memory usage: 73.3+ MB\n"
     ]
    }
   ],
   "source": [
    "merged = pd.merge(sales, pluto, how='left', left_on=['mapped_BBL'], right_on=['BBL'])\n",
    "merged.info()"
   ]
  },
  {
   "cell_type": "markdown",
   "metadata": {},
   "source": [
    "As a sanity check, let's flip the order of replacement and make sure it returns the same dataframe."
   ]
  },
  {
   "cell_type": "code",
   "execution_count": 191,
   "metadata": {
    "collapsed": true
   },
   "outputs": [],
   "source": [
    "sales['mapped_BBL'] = sales['BBL']\n",
    "sales['mapped_BBL'] = sales['mapped_BBL'].replace(w_pluto_billing['BBL_x'].values, w_pluto_billing['BBL_y'].values)\n",
    "sales['mapped_BBL'] = sales['mapped_BBL'].replace(w_pluto['BBL_x'].values, w_pluto['BBL'].values)"
   ]
  },
  {
   "cell_type": "code",
   "execution_count": 192,
   "metadata": {
    "collapsed": false,
    "scrolled": true
   },
   "outputs": [
    {
     "name": "stdout",
     "output_type": "stream",
     "text": [
      "<class 'pandas.core.frame.DataFrame'>\n",
      "Int64Index: 369637 entries, 0 to 369636\n",
      "Data columns (total 25 columns):\n",
      "BOROUGH                           369637 non-null object\n",
      "NEIGHBORHOOD                      369637 non-null object\n",
      "BUILDING CLASS CATEGORY           369637 non-null object\n",
      "TAX CLASS AT PRESENT              369637 non-null object\n",
      "BLOCK                             369637 non-null object\n",
      "LOT                               369637 non-null object\n",
      "EASE-MENT                         369637 non-null object\n",
      "BUILDING CLASS AT PRESENT         369637 non-null object\n",
      "ADDRESS                           369637 non-null object\n",
      "APARTMENT NUMBER                  369637 non-null object\n",
      "ZIP CODE                          369637 non-null int64\n",
      "RESIDENTIAL UNITS                 369637 non-null int64\n",
      "COMMERCIAL UNITS                  369637 non-null int64\n",
      "TOTAL UNITS                       369637 non-null int64\n",
      "LAND SQUARE FEET                  369637 non-null int64\n",
      "GROSS SQUARE FEET                 369637 non-null int64\n",
      "YEAR BUILT                        369637 non-null int64\n",
      "TAX CLASS AT TIME OF SALE         369637 non-null int64\n",
      "BUILDING CLASS AT TIME OF SALE    369637 non-null object\n",
      "SALE PRICE                        369637 non-null int64\n",
      "SALE DATE                         369637 non-null object\n",
      "BBL_x                             369637 non-null float64\n",
      "mapped_BBL                        359946 non-null float64\n",
      "Lot                               359946 non-null float64\n",
      "BBL_y                             359946 non-null float64\n",
      "dtypes: float64(4), int64(9), object(12)\n",
      "memory usage: 73.3+ MB\n"
     ]
    }
   ],
   "source": [
    "mergedflipped = pd.merge(sales, pluto, how='left', left_on=['mapped_BBL'], right_on=['BBL'])\n",
    "mergedflipped.info()"
   ]
  },
  {
   "cell_type": "markdown",
   "metadata": {},
   "source": [
    "## 4. Unused code (for potential approach involving merging by address)"
   ]
  },
  {
   "cell_type": "code",
   "execution_count": 140,
   "metadata": {
    "collapsed": false
   },
   "outputs": [],
   "source": [
    "def address_to_list(address):\n",
    "    return filter(None, str(address).strip().split(' '))"
   ]
  },
  {
   "cell_type": "code",
   "execution_count": 141,
   "metadata": {
    "collapsed": true
   },
   "outputs": [],
   "source": [
    "def is_int(s):\n",
    "    try:\n",
    "        int(s)\n",
    "        return True\n",
    "    except ValueError:\n",
    "        return False"
   ]
  },
  {
   "cell_type": "code",
   "execution_count": 142,
   "metadata": {
    "collapsed": true
   },
   "outputs": [],
   "source": [
    "def street_num_and_name(address):\n",
    "    address_list = address_to_list(address)\n",
    "    if len(address_list)==0:\n",
    "        return np.nan\n",
    "    else: #Some info in address field\n",
    "        if is_int(address_list[0].split('-')[0]): #note need to split on '-' for queens addresses\n",
    "            street_name = ' '.join(address_list[1:])\n",
    "            street_name_list = street_name.split(',')\n",
    "            if len(street_name_list) == 1:\n",
    "                unit_nums = np.nan\n",
    "            elif len(street_name_list) >= 2:\n",
    "                street_name = street_name_list[0]\n",
    "                unit_nums = street_name_list[1:]\n",
    "            else:\n",
    "                print address\n",
    "                raise ValueError\n",
    "            return address_list[0], street_name, unit_nums\n",
    "        else:\n",
    "            return np.nan, ' '.join(address_list), np.nan"
   ]
  },
  {
   "cell_type": "code",
   "execution_count": 144,
   "metadata": {
    "collapsed": true
   },
   "outputs": [],
   "source": [
    "def split_df_address(df, colname):\n",
    "    features = ['Street number','Street name', 'Unit number']\n",
    "    if colname.isupper():\n",
    "        features = [x.upper() for x in features]\n",
    "    df[colname] = df[colname].apply(street_num_and_name)\n",
    "    df[features] = df[colname].apply(pd.Series)"
   ]
  }
 ],
 "metadata": {
  "kernelspec": {
   "display_name": "Python 2",
   "language": "python",
   "name": "python2"
  },
  "language_info": {
   "codemirror_mode": {
    "name": "ipython",
    "version": 2
   },
   "file_extension": ".py",
   "mimetype": "text/x-python",
   "name": "python",
   "nbconvert_exporter": "python",
   "pygments_lexer": "ipython2",
   "version": "2.7.10"
  }
 },
 "nbformat": 4,
 "nbformat_minor": 0
}
