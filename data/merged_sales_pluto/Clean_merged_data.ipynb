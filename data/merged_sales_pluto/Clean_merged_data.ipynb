{
 "cells": [
  {
   "cell_type": "markdown",
   "metadata": {},
   "source": [
    "# Cleaning the merged data:"
   ]
  },
  {
   "cell_type": "markdown",
   "metadata": {},
   "source": [
    "In this notebook, we explore the merged data and attempt to clean the data prior to modeling."
   ]
  },
  {
   "cell_type": "code",
   "execution_count": 321,
   "metadata": {
    "collapsed": true
   },
   "outputs": [],
   "source": [
    "import pandas as pd\n",
    "import numpy as np\n",
    "import matplotlib.pyplot as plt\n",
    "import seaborn as sns\n",
    "%matplotlib inline"
   ]
  },
  {
   "cell_type": "code",
   "execution_count": 322,
   "metadata": {
    "collapsed": true
   },
   "outputs": [],
   "source": [
    "df = pd.read_csv('merged_sales_pluto_data.csv', index_col=None)"
   ]
  },
  {
   "cell_type": "code",
   "execution_count": 323,
   "metadata": {
    "collapsed": false
   },
   "outputs": [
    {
     "data": {
      "text/html": [
       "<div>\n",
       "<table border=\"1\" class=\"dataframe\">\n",
       "  <thead>\n",
       "    <tr style=\"text-align: right;\">\n",
       "      <th></th>\n",
       "      <th>ADDRESS</th>\n",
       "      <th>APARTMENT NUMBER</th>\n",
       "      <th>Address</th>\n",
       "      <th>AssessLand</th>\n",
       "      <th>AssessTot</th>\n",
       "      <th>BLOCK</th>\n",
       "      <th>BOROUGH</th>\n",
       "      <th>BUILDING CLASS AT PRESENT</th>\n",
       "      <th>BUILDING CLASS AT TIME OF SALE</th>\n",
       "      <th>BUILDING CLASS CATEGORY</th>\n",
       "      <th>BldgArea</th>\n",
       "      <th>Block</th>\n",
       "      <th>Borough</th>\n",
       "      <th>COMMERCIAL UNITS</th>\n",
       "      <th>CT2010</th>\n",
       "      <th>CondoNo</th>\n",
       "      <th>EASE-MENT</th>\n",
       "      <th>GROSS SQUARE FEET</th>\n",
       "      <th>LAND SQUARE FEET</th>\n",
       "      <th>LOT</th>\n",
       "      <th>Lot</th>\n",
       "      <th>LotArea</th>\n",
       "      <th>NEIGHBORHOOD</th>\n",
       "      <th>NumBldgs</th>\n",
       "      <th>NumFloors</th>\n",
       "      <th>Pluto_BBL</th>\n",
       "      <th>PolicePrct</th>\n",
       "      <th>RESIDENTIAL UNITS</th>\n",
       "      <th>ResArea</th>\n",
       "      <th>SALE DATE</th>\n",
       "      <th>SALE PRICE</th>\n",
       "      <th>SchoolDist</th>\n",
       "      <th>TAX CLASS AT PRESENT</th>\n",
       "      <th>TAX CLASS AT TIME OF SALE</th>\n",
       "      <th>TOTAL UNITS</th>\n",
       "      <th>YEAR BUILT</th>\n",
       "      <th>YearAlter1</th>\n",
       "      <th>YearAlter2</th>\n",
       "      <th>YearBuilt</th>\n",
       "      <th>ZIP CODE</th>\n",
       "      <th>ZipCode</th>\n",
       "      <th>unit_BBL</th>\n",
       "    </tr>\n",
       "  </thead>\n",
       "  <tbody>\n",
       "    <tr>\n",
       "      <th>0</th>\n",
       "      <td>19-56 81ST   STREET</td>\n",
       "      <td></td>\n",
       "      <td>19-56 81 STREET</td>\n",
       "      <td>8164.0</td>\n",
       "      <td>28531.0</td>\n",
       "      <td>949</td>\n",
       "      <td>4</td>\n",
       "      <td>A5</td>\n",
       "      <td>A5</td>\n",
       "      <td>01  ONE FAMILY HOMES</td>\n",
       "      <td>1224.0</td>\n",
       "      <td>949.0</td>\n",
       "      <td>QN</td>\n",
       "      <td>0</td>\n",
       "      <td>317.00</td>\n",
       "      <td>0.0</td>\n",
       "      <td></td>\n",
       "      <td>1224</td>\n",
       "      <td>1800</td>\n",
       "      <td>38</td>\n",
       "      <td>38.0</td>\n",
       "      <td>1800.0</td>\n",
       "      <td>AIRPORT LA GUARDIA</td>\n",
       "      <td>1.0</td>\n",
       "      <td>2.0</td>\n",
       "      <td>4.009490e+09</td>\n",
       "      <td>114.0</td>\n",
       "      <td>1</td>\n",
       "      <td>1224.0</td>\n",
       "      <td>2011-10-14</td>\n",
       "      <td>0</td>\n",
       "      <td>30.0</td>\n",
       "      <td>1</td>\n",
       "      <td>1</td>\n",
       "      <td>1</td>\n",
       "      <td>1945</td>\n",
       "      <td>0.0</td>\n",
       "      <td>0.0</td>\n",
       "      <td>1945.0</td>\n",
       "      <td>11370</td>\n",
       "      <td>11370.0</td>\n",
       "      <td>4.009490e+09</td>\n",
       "    </tr>\n",
       "    <tr>\n",
       "      <th>1</th>\n",
       "      <td>350 BEACH 40TH STREET</td>\n",
       "      <td></td>\n",
       "      <td>350 BEACH 40 STREET</td>\n",
       "      <td>6008.0</td>\n",
       "      <td>16808.0</td>\n",
       "      <td>15829</td>\n",
       "      <td>4</td>\n",
       "      <td>A5</td>\n",
       "      <td>A5</td>\n",
       "      <td>01  ONE FAMILY HOMES</td>\n",
       "      <td>1502.0</td>\n",
       "      <td>15829.0</td>\n",
       "      <td>QN</td>\n",
       "      <td>0</td>\n",
       "      <td>992.00</td>\n",
       "      <td>0.0</td>\n",
       "      <td></td>\n",
       "      <td>1502</td>\n",
       "      <td>2613</td>\n",
       "      <td>34</td>\n",
       "      <td>34.0</td>\n",
       "      <td>2613.0</td>\n",
       "      <td>ARVERNE</td>\n",
       "      <td>1.0</td>\n",
       "      <td>2.0</td>\n",
       "      <td>4.158290e+09</td>\n",
       "      <td>101.0</td>\n",
       "      <td>1</td>\n",
       "      <td>1502.0</td>\n",
       "      <td>2011-03-07</td>\n",
       "      <td>341360</td>\n",
       "      <td>27.0</td>\n",
       "      <td>1</td>\n",
       "      <td>1</td>\n",
       "      <td>1</td>\n",
       "      <td>2008</td>\n",
       "      <td>0.0</td>\n",
       "      <td>0.0</td>\n",
       "      <td>2008.0</td>\n",
       "      <td>11691</td>\n",
       "      <td>11691.0</td>\n",
       "      <td>4.158290e+09</td>\n",
       "    </tr>\n",
       "    <tr>\n",
       "      <th>2</th>\n",
       "      <td>317 BEACH 40 STREET</td>\n",
       "      <td></td>\n",
       "      <td>317 BEACH 40 STREET</td>\n",
       "      <td>1793.0</td>\n",
       "      <td>3788.0</td>\n",
       "      <td>15830</td>\n",
       "      <td>4</td>\n",
       "      <td>A6</td>\n",
       "      <td>A6</td>\n",
       "      <td>01  ONE FAMILY HOMES</td>\n",
       "      <td>608.0</td>\n",
       "      <td>15830.0</td>\n",
       "      <td>QN</td>\n",
       "      <td>0</td>\n",
       "      <td>992.00</td>\n",
       "      <td>0.0</td>\n",
       "      <td></td>\n",
       "      <td>608</td>\n",
       "      <td>2115</td>\n",
       "      <td>61</td>\n",
       "      <td>61.0</td>\n",
       "      <td>2115.0</td>\n",
       "      <td>ARVERNE</td>\n",
       "      <td>1.0</td>\n",
       "      <td>1.0</td>\n",
       "      <td>4.158300e+09</td>\n",
       "      <td>101.0</td>\n",
       "      <td>1</td>\n",
       "      <td>608.0</td>\n",
       "      <td>2011-03-03</td>\n",
       "      <td>50000</td>\n",
       "      <td>27.0</td>\n",
       "      <td>1</td>\n",
       "      <td>1</td>\n",
       "      <td>1</td>\n",
       "      <td>1920</td>\n",
       "      <td>0.0</td>\n",
       "      <td>0.0</td>\n",
       "      <td>1920.0</td>\n",
       "      <td>11691</td>\n",
       "      <td>11691.0</td>\n",
       "      <td>4.158300e+09</td>\n",
       "    </tr>\n",
       "    <tr>\n",
       "      <th>3</th>\n",
       "      <td>335 BEACH 45TH STREET</td>\n",
       "      <td></td>\n",
       "      <td>335 BEACH 45 STREET</td>\n",
       "      <td>3978.0</td>\n",
       "      <td>9069.0</td>\n",
       "      <td>15837</td>\n",
       "      <td>4</td>\n",
       "      <td>A1</td>\n",
       "      <td>A1</td>\n",
       "      <td>01  ONE FAMILY HOMES</td>\n",
       "      <td>1048.0</td>\n",
       "      <td>15837.0</td>\n",
       "      <td>QN</td>\n",
       "      <td>0</td>\n",
       "      <td>972.04</td>\n",
       "      <td>0.0</td>\n",
       "      <td></td>\n",
       "      <td>1048</td>\n",
       "      <td>2470</td>\n",
       "      <td>56</td>\n",
       "      <td>56.0</td>\n",
       "      <td>2470.0</td>\n",
       "      <td>ARVERNE</td>\n",
       "      <td>1.0</td>\n",
       "      <td>2.0</td>\n",
       "      <td>4.158370e+09</td>\n",
       "      <td>101.0</td>\n",
       "      <td>1</td>\n",
       "      <td>1048.0</td>\n",
       "      <td>2011-07-06</td>\n",
       "      <td>160000</td>\n",
       "      <td>27.0</td>\n",
       "      <td>1</td>\n",
       "      <td>1</td>\n",
       "      <td>1</td>\n",
       "      <td>1925</td>\n",
       "      <td>0.0</td>\n",
       "      <td>0.0</td>\n",
       "      <td>1925.0</td>\n",
       "      <td>11691</td>\n",
       "      <td>11691.0</td>\n",
       "      <td>4.158370e+09</td>\n",
       "    </tr>\n",
       "    <tr>\n",
       "      <th>4</th>\n",
       "      <td>3720 BEACH CHANNEL DRIVE</td>\n",
       "      <td></td>\n",
       "      <td>37-20 BEACH CHANNEL DRIVE</td>\n",
       "      <td>2877.0</td>\n",
       "      <td>14246.0</td>\n",
       "      <td>15954</td>\n",
       "      <td>4</td>\n",
       "      <td>A5</td>\n",
       "      <td>A5</td>\n",
       "      <td>01  ONE FAMILY HOMES</td>\n",
       "      <td>1502.0</td>\n",
       "      <td>15954.0</td>\n",
       "      <td>QN</td>\n",
       "      <td>0</td>\n",
       "      <td>992.00</td>\n",
       "      <td>0.0</td>\n",
       "      <td></td>\n",
       "      <td>1502</td>\n",
       "      <td>2080</td>\n",
       "      <td>87</td>\n",
       "      <td>87.0</td>\n",
       "      <td>2080.0</td>\n",
       "      <td>ARVERNE</td>\n",
       "      <td>1.0</td>\n",
       "      <td>2.0</td>\n",
       "      <td>4.159540e+09</td>\n",
       "      <td>101.0</td>\n",
       "      <td>1</td>\n",
       "      <td>1502.0</td>\n",
       "      <td>2011-01-28</td>\n",
       "      <td>434500</td>\n",
       "      <td>27.0</td>\n",
       "      <td>1</td>\n",
       "      <td>1</td>\n",
       "      <td>1</td>\n",
       "      <td>2008</td>\n",
       "      <td>0.0</td>\n",
       "      <td>0.0</td>\n",
       "      <td>2008.0</td>\n",
       "      <td>11691</td>\n",
       "      <td>11691.0</td>\n",
       "      <td>4.159540e+09</td>\n",
       "    </tr>\n",
       "  </tbody>\n",
       "</table>\n",
       "</div>"
      ],
      "text/plain": [
       "                                     ADDRESS APARTMENT NUMBER  \\\n",
       "0  19-56 81ST   STREET                                          \n",
       "1  350 BEACH 40TH STREET                                        \n",
       "2  317 BEACH 40 STREET                                          \n",
       "3  335 BEACH 45TH STREET                                        \n",
       "4  3720 BEACH CHANNEL DRIVE                                     \n",
       "\n",
       "                     Address  AssessLand  AssessTot  BLOCK  BOROUGH  \\\n",
       "0            19-56 81 STREET      8164.0    28531.0    949        4   \n",
       "1        350 BEACH 40 STREET      6008.0    16808.0  15829        4   \n",
       "2        317 BEACH 40 STREET      1793.0     3788.0  15830        4   \n",
       "3        335 BEACH 45 STREET      3978.0     9069.0  15837        4   \n",
       "4  37-20 BEACH CHANNEL DRIVE      2877.0    14246.0  15954        4   \n",
       "\n",
       "  BUILDING CLASS AT PRESENT BUILDING CLASS AT TIME OF SALE  \\\n",
       "0                        A5                             A5   \n",
       "1                        A5                             A5   \n",
       "2                        A6                             A6   \n",
       "3                        A1                             A1   \n",
       "4                        A5                             A5   \n",
       "\n",
       "                        BUILDING CLASS CATEGORY  BldgArea    Block Borough  \\\n",
       "0  01  ONE FAMILY HOMES                            1224.0    949.0      QN   \n",
       "1  01  ONE FAMILY HOMES                            1502.0  15829.0      QN   \n",
       "2  01  ONE FAMILY HOMES                             608.0  15830.0      QN   \n",
       "3  01  ONE FAMILY HOMES                            1048.0  15837.0      QN   \n",
       "4  01  ONE FAMILY HOMES                            1502.0  15954.0      QN   \n",
       "\n",
       "   COMMERCIAL UNITS  CT2010  CondoNo EASE-MENT  GROSS SQUARE FEET  \\\n",
       "0                 0  317.00      0.0                         1224   \n",
       "1                 0  992.00      0.0                         1502   \n",
       "2                 0  992.00      0.0                          608   \n",
       "3                 0  972.04      0.0                         1048   \n",
       "4                 0  992.00      0.0                         1502   \n",
       "\n",
       "   LAND SQUARE FEET  LOT   Lot  LotArea               NEIGHBORHOOD  NumBldgs  \\\n",
       "0              1800   38  38.0   1800.0  AIRPORT LA GUARDIA              1.0   \n",
       "1              2613   34  34.0   2613.0  ARVERNE                         1.0   \n",
       "2              2115   61  61.0   2115.0  ARVERNE                         1.0   \n",
       "3              2470   56  56.0   2470.0  ARVERNE                         1.0   \n",
       "4              2080   87  87.0   2080.0  ARVERNE                         1.0   \n",
       "\n",
       "   NumFloors     Pluto_BBL  PolicePrct  RESIDENTIAL UNITS  ResArea  \\\n",
       "0        2.0  4.009490e+09       114.0                  1   1224.0   \n",
       "1        2.0  4.158290e+09       101.0                  1   1502.0   \n",
       "2        1.0  4.158300e+09       101.0                  1    608.0   \n",
       "3        2.0  4.158370e+09       101.0                  1   1048.0   \n",
       "4        2.0  4.159540e+09       101.0                  1   1502.0   \n",
       "\n",
       "    SALE DATE  SALE PRICE  SchoolDist TAX CLASS AT PRESENT  \\\n",
       "0  2011-10-14           0        30.0                    1   \n",
       "1  2011-03-07      341360        27.0                    1   \n",
       "2  2011-03-03       50000        27.0                    1   \n",
       "3  2011-07-06      160000        27.0                    1   \n",
       "4  2011-01-28      434500        27.0                    1   \n",
       "\n",
       "   TAX CLASS AT TIME OF SALE  TOTAL UNITS  YEAR BUILT  YearAlter1  YearAlter2  \\\n",
       "0                          1            1        1945         0.0         0.0   \n",
       "1                          1            1        2008         0.0         0.0   \n",
       "2                          1            1        1920         0.0         0.0   \n",
       "3                          1            1        1925         0.0         0.0   \n",
       "4                          1            1        2008         0.0         0.0   \n",
       "\n",
       "   YearBuilt  ZIP CODE  ZipCode      unit_BBL  \n",
       "0     1945.0     11370  11370.0  4.009490e+09  \n",
       "1     2008.0     11691  11691.0  4.158290e+09  \n",
       "2     1920.0     11691  11691.0  4.158300e+09  \n",
       "3     1925.0     11691  11691.0  4.158370e+09  \n",
       "4     2008.0     11691  11691.0  4.159540e+09  "
      ]
     },
     "execution_count": 323,
     "metadata": {},
     "output_type": "execute_result"
    }
   ],
   "source": [
    "pd.set_option('display.max_columns', 500)\n",
    "df.head()"
   ]
  },
  {
   "cell_type": "markdown",
   "metadata": {},
   "source": [
    "## Cleaning Sale Price\n",
    "\n",
    "Our first approach to cleaning the data will be do drop the records where sale price is low (under the assumption this reflects a deed transfer, not a public sale at market price)."
   ]
  },
  {
   "cell_type": "code",
   "execution_count": 324,
   "metadata": {
    "collapsed": false
   },
   "outputs": [
    {
     "data": {
      "image/png": "[encoded data removed]",
      "text/plain": [
       "<matplotlib.figure.Figure at 0x1758b6fd0>"
      ]
     },
     "metadata": {},
     "output_type": "display_data"
    }
   ],
   "source": [
    "least_reasonable_sale_price = 50000\n",
    "\n",
    "df = df.loc[df['SALE PRICE'] > least_reasonable_sale_price, :].reset_index(drop=True)\n",
    "plt.hist(df.loc[df['SALE PRICE'] < 10000000, 'SALE PRICE'].values, bins=100)\n",
    "plt.show()"
   ]
  },
  {
   "cell_type": "code",
   "execution_count": 325,
   "metadata": {
    "collapsed": false
   },
   "outputs": [
    {
     "data": {
      "text/plain": [
       "(255788, 42)"
      ]
     },
     "execution_count": 325,
     "metadata": {},
     "output_type": "execute_result"
    }
   ],
   "source": [
    "df.shape"
   ]
  },
  {
   "cell_type": "markdown",
   "metadata": {},
   "source": [
    "Now let's tackle zip code:"
   ]
  },
  {
   "cell_type": "code",
   "execution_count": 326,
   "metadata": {
    "collapsed": false
   },
   "outputs": [
    {
     "name": "stdout",
     "output_type": "stream",
     "text": [
      "<class 'pandas.core.frame.DataFrame'>\n",
      "RangeIndex: 255788 entries, 0 to 255787\n",
      "Data columns (total 2 columns):\n",
      "ZIP CODE    255788 non-null int64\n",
      "ZipCode     254909 non-null float64\n",
      "dtypes: float64(1), int64(1)\n",
      "memory usage: 3.9 MB\n"
     ]
    }
   ],
   "source": [
    "df[['ZIP CODE','ZipCode']].info()"
   ]
  },
  {
   "cell_type": "code",
   "execution_count": 327,
   "metadata": {
    "collapsed": false
   },
   "outputs": [
    {
     "data": {
      "text/plain": [
       "251181"
      ]
     },
     "execution_count": 327,
     "metadata": {},
     "output_type": "execute_result"
    }
   ],
   "source": [
    "np.sum(df['ZIP CODE'] == df['ZipCode'])"
   ]
  },
  {
   "cell_type": "markdown",
   "metadata": {},
   "source": [
    "We drop records where these two fields disagree, since this indicates potential data entry or merge errors."
   ]
  },
  {
   "cell_type": "code",
   "execution_count": 328,
   "metadata": {
    "collapsed": false
   },
   "outputs": [],
   "source": [
    "df = df.loc[~((df['ZIP CODE'] != df['ZipCode']) &\n",
    "         (~df['ZIP CODE'].isnull()) &\n",
    "         (~df['ZipCode'].isnull())),:]"
   ]
  },
  {
   "cell_type": "code",
   "execution_count": 329,
   "metadata": {
    "collapsed": false,
    "scrolled": true
   },
   "outputs": [
    {
     "data": {
      "text/plain": [
       "(252060, 42)"
      ]
     },
     "execution_count": 329,
     "metadata": {},
     "output_type": "execute_result"
    }
   ],
   "source": [
    "df.shape"
   ]
  },
  {
   "cell_type": "code",
   "execution_count": 330,
   "metadata": {
    "collapsed": false,
    "scrolled": true
   },
   "outputs": [
    {
     "name": "stdout",
     "output_type": "stream",
     "text": [
      "<class 'pandas.core.frame.DataFrame'>\n",
      "Int64Index: 252060 entries, 0 to 255787\n",
      "Data columns (total 42 columns):\n",
      "ADDRESS                           252060 non-null object\n",
      "APARTMENT NUMBER                  252060 non-null object\n",
      "Address                           251224 non-null object\n",
      "AssessLand                        251225 non-null float64\n",
      "AssessTot                         251225 non-null float64\n",
      "BLOCK                             252060 non-null int64\n",
      "BOROUGH                           252060 non-null int64\n",
      "BUILDING CLASS AT PRESENT         252060 non-null object\n",
      "BUILDING CLASS AT TIME OF SALE    252060 non-null object\n",
      "BUILDING CLASS CATEGORY           252060 non-null object\n",
      "BldgArea                          251225 non-null float64\n",
      "Block                             251225 non-null float64\n",
      "Borough                           251225 non-null object\n",
      "COMMERCIAL UNITS                  252060 non-null int64\n",
      "CT2010                            251200 non-null float64\n",
      "CondoNo                           251225 non-null float64\n",
      "EASE-MENT                         252060 non-null object\n",
      "GROSS SQUARE FEET                 252060 non-null int64\n",
      "LAND SQUARE FEET                  252060 non-null int64\n",
      "LOT                               252060 non-null int64\n",
      "Lot                               251225 non-null float64\n",
      "LotArea                           251225 non-null float64\n",
      "NEIGHBORHOOD                      252060 non-null object\n",
      "NumBldgs                          251225 non-null float64\n",
      "NumFloors                         251225 non-null float64\n",
      "Pluto_BBL                         251225 non-null float64\n",
      "PolicePrct                        251159 non-null float64\n",
      "RESIDENTIAL UNITS                 252060 non-null int64\n",
      "ResArea                           251225 non-null float64\n",
      "SALE DATE                         252060 non-null object\n",
      "SALE PRICE                        252060 non-null int64\n",
      "SchoolDist                        251159 non-null float64\n",
      "TAX CLASS AT PRESENT              252060 non-null object\n",
      "TAX CLASS AT TIME OF SALE         252060 non-null int64\n",
      "TOTAL UNITS                       252060 non-null int64\n",
      "YEAR BUILT                        252060 non-null int64\n",
      "YearAlter1                        251225 non-null float64\n",
      "YearAlter2                        251225 non-null float64\n",
      "YearBuilt                         251225 non-null float64\n",
      "ZIP CODE                          252060 non-null int64\n",
      "ZipCode                           251181 non-null float64\n",
      "unit_BBL                          252060 non-null float64\n",
      "dtypes: float64(19), int64(12), object(11)\n",
      "memory usage: 82.7+ MB\n"
     ]
    }
   ],
   "source": [
    "df.info()"
   ]
  },
  {
   "cell_type": "markdown",
   "metadata": {},
   "source": [
    "Now note ZipCode is a duplicate feature, which we will drop (note we drop ZipCode since it has null entries where ZIP CODE does not):"
   ]
  },
  {
   "cell_type": "code",
   "execution_count": 331,
   "metadata": {
    "collapsed": false
   },
   "outputs": [
    {
     "data": {
      "text/plain": [
       "(252060, 41)"
      ]
     },
     "execution_count": 331,
     "metadata": {},
     "output_type": "execute_result"
    }
   ],
   "source": [
    "df.drop('ZipCode', inplace=True, axis=1)\n",
    "df.shape"
   ]
  },
  {
   "cell_type": "markdown",
   "metadata": {},
   "source": [
    "Next we deal with YearBuilt, YearAlter1, and YearAlter2. We will construct the following features\n",
    "- Building age: 2016-YearBuilt\n",
    "- Number of times altered:\n",
    "    - 0 if YearAlter1 and YearAlter2 missing,\n",
    "    - 1 if YearAlter1 has a valid value and YearAlter2 missing\n",
    "    - 2 if Both non-null\n",
    "- Years since last altered:\n",
    "    - 2016 - max(YearBuilt, YearAlter1, YearAlter2)\n"
   ]
  },
  {
   "cell_type": "code",
   "execution_count": 332,
   "metadata": {
    "collapsed": false
   },
   "outputs": [
    {
     "data": {
      "text/plain": [
       "226748"
      ]
     },
     "execution_count": 332,
     "metadata": {},
     "output_type": "execute_result"
    }
   ],
   "source": [
    "np.sum(df['YearBuilt'] == df['YEAR BUILT'])"
   ]
  },
  {
   "cell_type": "code",
   "execution_count": 333,
   "metadata": {
    "collapsed": false
   },
   "outputs": [],
   "source": [
    "zero_years_replacements = np.max(df.loc[(df['YearBuilt'] == 0) |\n",
    "                                        (df['YEAR BUILT'] == 0),\n",
    "                                        ['YearBuilt','YEAR BUILT']], axis=1)"
   ]
  },
  {
   "cell_type": "code",
   "execution_count": 334,
   "metadata": {
    "collapsed": false
   },
   "outputs": [
    {
     "data": {
      "text/plain": [
       "242177"
      ]
     },
     "execution_count": 334,
     "metadata": {},
     "output_type": "execute_result"
    }
   ],
   "source": [
    "df.loc[(df['YEAR BUILT'] == 0), 'YEAR BUILT'] = zero_years_replacements\n",
    "df.loc[(df['YEAR BUILT'] == 0), 'YEAR BUILT'] = zero_years_replacements\n",
    "np.sum(df['YearBuilt'] == df['YEAR BUILT'])"
   ]
  },
  {
   "cell_type": "code",
   "execution_count": 335,
   "metadata": {
    "collapsed": false,
    "scrolled": true
   },
   "outputs": [
    {
     "data": {
      "text/plain": [
       "YearBuilt     0.0\n",
       "YEAR BUILT    0.0\n",
       "dtype: float64"
      ]
     },
     "execution_count": 335,
     "metadata": {},
     "output_type": "execute_result"
    }
   ],
   "source": [
    "np.sum(df.loc[df['YEAR BUILT'] == 0,['YearBuilt', 'YEAR BUILT']], axis=0)"
   ]
  },
  {
   "cell_type": "code",
   "execution_count": 336,
   "metadata": {
    "collapsed": false
   },
   "outputs": [
    {
     "data": {
      "text/plain": [
       "(1478, 41)"
      ]
     },
     "execution_count": 336,
     "metadata": {},
     "output_type": "execute_result"
    }
   ],
   "source": [
    "df.loc[df['YEAR BUILT'] == 0,:].shape"
   ]
  },
  {
   "cell_type": "markdown",
   "metadata": {},
   "source": [
    "We drop these 1478 records without known building age."
   ]
  },
  {
   "cell_type": "code",
   "execution_count": 337,
   "metadata": {
    "collapsed": false
   },
   "outputs": [
    {
     "data": {
      "text/plain": [
       "(250582, 41)"
      ]
     },
     "execution_count": 337,
     "metadata": {},
     "output_type": "execute_result"
    }
   ],
   "source": [
    "df = df.loc[~(df['YEAR BUILT'] == 0),:]\n",
    "df.shape"
   ]
  },
  {
   "cell_type": "code",
   "execution_count": 338,
   "metadata": {
    "collapsed": false
   },
   "outputs": [
    {
     "name": "stdout",
     "output_type": "stream",
     "text": [
      "<class 'pandas.core.frame.DataFrame'>\n",
      "Int64Index: 250582 entries, 0 to 255787\n",
      "Data columns (total 41 columns):\n",
      "ADDRESS                           250582 non-null object\n",
      "APARTMENT NUMBER                  250582 non-null object\n",
      "Address                           249976 non-null object\n",
      "AssessLand                        249977 non-null float64\n",
      "AssessTot                         249977 non-null float64\n",
      "BLOCK                             250582 non-null int64\n",
      "BOROUGH                           250582 non-null int64\n",
      "BUILDING CLASS AT PRESENT         250582 non-null object\n",
      "BUILDING CLASS AT TIME OF SALE    250582 non-null object\n",
      "BUILDING CLASS CATEGORY           250582 non-null object\n",
      "BldgArea                          249977 non-null float64\n",
      "Block                             249977 non-null float64\n",
      "Borough                           249977 non-null object\n",
      "COMMERCIAL UNITS                  250582 non-null int64\n",
      "CT2010                            249974 non-null float64\n",
      "CondoNo                           249977 non-null float64\n",
      "EASE-MENT                         250582 non-null object\n",
      "GROSS SQUARE FEET                 250582 non-null int64\n",
      "LAND SQUARE FEET                  250582 non-null int64\n",
      "LOT                               250582 non-null int64\n",
      "Lot                               249977 non-null float64\n",
      "LotArea                           249977 non-null float64\n",
      "NEIGHBORHOOD                      250582 non-null object\n",
      "NumBldgs                          249977 non-null float64\n",
      "NumFloors                         249977 non-null float64\n",
      "Pluto_BBL                         249977 non-null float64\n",
      "PolicePrct                        249926 non-null float64\n",
      "RESIDENTIAL UNITS                 250582 non-null int64\n",
      "ResArea                           249977 non-null float64\n",
      "SALE DATE                         250582 non-null object\n",
      "SALE PRICE                        250582 non-null int64\n",
      "SchoolDist                        249926 non-null float64\n",
      "TAX CLASS AT PRESENT              250582 non-null object\n",
      "TAX CLASS AT TIME OF SALE         250582 non-null int64\n",
      "TOTAL UNITS                       250582 non-null int64\n",
      "YEAR BUILT                        250582 non-null float64\n",
      "YearAlter1                        249977 non-null float64\n",
      "YearAlter2                        249977 non-null float64\n",
      "YearBuilt                         249977 non-null float64\n",
      "ZIP CODE                          250582 non-null int64\n",
      "unit_BBL                          250582 non-null float64\n",
      "dtypes: float64(19), int64(11), object(11)\n",
      "memory usage: 80.3+ MB\n"
     ]
    }
   ],
   "source": [
    "df.info()"
   ]
  },
  {
   "cell_type": "code",
   "execution_count": 339,
   "metadata": {
    "collapsed": false
   },
   "outputs": [
    {
     "data": {
      "text/plain": [
       "240929"
      ]
     },
     "execution_count": 339,
     "metadata": {},
     "output_type": "execute_result"
    }
   ],
   "source": [
    "np.sum(df['YearBuilt'] == df['YEAR BUILT'])"
   ]
  },
  {
   "cell_type": "markdown",
   "metadata": {},
   "source": [
    "Now the remaining mismatches between building years indicate likely data entry or merge problems- these records are dropped."
   ]
  },
  {
   "cell_type": "code",
   "execution_count": 340,
   "metadata": {
    "collapsed": false
   },
   "outputs": [
    {
     "data": {
      "text/plain": [
       "(240929, 40)"
      ]
     },
     "execution_count": 340,
     "metadata": {},
     "output_type": "execute_result"
    }
   ],
   "source": [
    "df = df.loc[df['YearBuilt'] == df['YEAR BUILT'],:]\n",
    "df.drop('YearBuilt', axis=1, inplace=True)\n",
    "df.shape"
   ]
  },
  {
   "cell_type": "code",
   "execution_count": 341,
   "metadata": {
    "collapsed": false
   },
   "outputs": [
    {
     "name": "stdout",
     "output_type": "stream",
     "text": [
      "<class 'pandas.core.frame.DataFrame'>\n",
      "Int64Index: 240929 entries, 0 to 255787\n",
      "Data columns (total 40 columns):\n",
      "ADDRESS                           240929 non-null object\n",
      "APARTMENT NUMBER                  240929 non-null object\n",
      "Address                           240929 non-null object\n",
      "AssessLand                        240929 non-null float64\n",
      "AssessTot                         240929 non-null float64\n",
      "BLOCK                             240929 non-null int64\n",
      "BOROUGH                           240929 non-null int64\n",
      "BUILDING CLASS AT PRESENT         240929 non-null object\n",
      "BUILDING CLASS AT TIME OF SALE    240929 non-null object\n",
      "BUILDING CLASS CATEGORY           240929 non-null object\n",
      "BldgArea                          240929 non-null float64\n",
      "Block                             240929 non-null float64\n",
      "Borough                           240929 non-null object\n",
      "COMMERCIAL UNITS                  240929 non-null int64\n",
      "CT2010                            240928 non-null float64\n",
      "CondoNo                           240929 non-null float64\n",
      "EASE-MENT                         240929 non-null object\n",
      "GROSS SQUARE FEET                 240929 non-null int64\n",
      "LAND SQUARE FEET                  240929 non-null int64\n",
      "LOT                               240929 non-null int64\n",
      "Lot                               240929 non-null float64\n",
      "LotArea                           240929 non-null float64\n",
      "NEIGHBORHOOD                      240929 non-null object\n",
      "NumBldgs                          240929 non-null float64\n",
      "NumFloors                         240929 non-null float64\n",
      "Pluto_BBL                         240929 non-null float64\n",
      "PolicePrct                        240892 non-null float64\n",
      "RESIDENTIAL UNITS                 240929 non-null int64\n",
      "ResArea                           240929 non-null float64\n",
      "SALE DATE                         240929 non-null object\n",
      "SALE PRICE                        240929 non-null int64\n",
      "SchoolDist                        240892 non-null float64\n",
      "TAX CLASS AT PRESENT              240929 non-null object\n",
      "TAX CLASS AT TIME OF SALE         240929 non-null int64\n",
      "TOTAL UNITS                       240929 non-null int64\n",
      "YEAR BUILT                        240929 non-null float64\n",
      "YearAlter1                        240929 non-null float64\n",
      "YearAlter2                        240929 non-null float64\n",
      "ZIP CODE                          240929 non-null int64\n",
      "unit_BBL                          240929 non-null float64\n",
      "dtypes: float64(18), int64(11), object(11)\n",
      "memory usage: 75.4+ MB\n"
     ]
    }
   ],
   "source": [
    "df.info()"
   ]
  },
  {
   "cell_type": "code",
   "execution_count": 342,
   "metadata": {
    "collapsed": false
   },
   "outputs": [
    {
     "data": {
      "image/png": "[encoded data removed]",
      "text/plain": [
       "<matplotlib.figure.Figure at 0x15a995110>"
      ]
     },
     "metadata": {},
     "output_type": "display_data"
    }
   ],
   "source": [
    "plt.hist(df['YEAR BUILT'], bins=100)\n",
    "plt.show()"
   ]
  },
  {
   "cell_type": "code",
   "execution_count": 343,
   "metadata": {
    "collapsed": false
   },
   "outputs": [],
   "source": [
    "df['BuildingAge'] = 2016 - df['YEAR BUILT']"
   ]
  },
  {
   "cell_type": "markdown",
   "metadata": {},
   "source": [
    "Now let's deal with YearAlter1 and YearAlter2"
   ]
  },
  {
   "cell_type": "code",
   "execution_count": 344,
   "metadata": {
    "collapsed": false
   },
   "outputs": [
    {
     "data": {
      "image/png": "[encoded data removed]",
      "text/plain": [
       "<matplotlib.figure.Figure at 0x176753ad0>"
      ]
     },
     "metadata": {},
     "output_type": "display_data"
    }
   ],
   "source": [
    "plt.hist(df['YearAlter1'], bins=100)\n",
    "plt.hist(df['YearAlter2'], bins=100)\n",
    "plt.show()"
   ]
  },
  {
   "cell_type": "code",
   "execution_count": 345,
   "metadata": {
    "collapsed": false
   },
   "outputs": [
    {
     "data": {
      "text/plain": [
       "0    192595\n",
       "1     42976\n",
       "2      5358\n",
       "Name: NumRecordedAltered, dtype: int64"
      ]
     },
     "execution_count": 345,
     "metadata": {},
     "output_type": "execute_result"
    }
   ],
   "source": [
    "df['NumRecordedAltered'] = (df['YearAlter1'] != 0).map({True:1, False:0})+ (df['YearAlter2'] != 0).map({True:1, False:0})\n",
    "df['NumRecordedAltered'].value_counts()"
   ]
  },
  {
   "cell_type": "code",
   "execution_count": 346,
   "metadata": {
    "collapsed": true
   },
   "outputs": [],
   "source": [
    "df['YearsSinceLastRecordedAlter'] = 2016 - np.max(df[['YearAlter1','YearAlter2','YEAR BUILT']], axis=1)"
   ]
  },
  {
   "cell_type": "code",
   "execution_count": 347,
   "metadata": {
    "collapsed": false
   },
   "outputs": [
    {
     "data": {
      "text/plain": [
       "96.0     13963\n",
       "86.0     11643\n",
       "91.0     10050\n",
       "66.0      7825\n",
       "106.0     7430\n",
       "9.0       6538\n",
       "56.0      6349\n",
       "76.0      6135\n",
       "11.0      5597\n",
       "28.0      5588\n",
       "8.0       5567\n",
       "29.0      5490\n",
       "10.0      5329\n",
       "61.0      4981\n",
       "30.0      4803\n",
       "117.0     4668\n",
       "85.0      4553\n",
       "115.0     4358\n",
       "31.0      3955\n",
       "51.0      3868\n",
       "81.0      3858\n",
       "27.0      3752\n",
       "7.0       3608\n",
       "4.0       3504\n",
       "3.0       3464\n",
       "5.0       3283\n",
       "12.0      3247\n",
       "71.0      3082\n",
       "53.0      3064\n",
       "101.0     2775\n",
       "         ...  \n",
       "130.0        3\n",
       "122.0        3\n",
       "124.0        3\n",
       "125.0        3\n",
       "176.0        3\n",
       "181.0        2\n",
       "127.0        2\n",
       "174.0        2\n",
       "164.0        2\n",
       "192.0        2\n",
       "170.0        2\n",
       "178.0        1\n",
       "182.0        1\n",
       "175.0        1\n",
       "173.0        1\n",
       "171.0        1\n",
       "184.0        1\n",
       "212.0        1\n",
       "169.0        1\n",
       "165.0        1\n",
       "161.0        1\n",
       "159.0        1\n",
       "158.0        1\n",
       "151.0        1\n",
       "149.0        1\n",
       "147.0        1\n",
       "144.0        1\n",
       "141.0        1\n",
       "139.0        1\n",
       "160.0        1\n",
       "Name: YearsSinceLastRecordedAlter, dtype: int64"
      ]
     },
     "execution_count": 347,
     "metadata": {},
     "output_type": "execute_result"
    }
   ],
   "source": [
    "df['YearsSinceLastRecordedAlter'].value_counts()"
   ]
  },
  {
   "cell_type": "code",
   "execution_count": 348,
   "metadata": {
    "collapsed": false
   },
   "outputs": [
    {
     "data": {
      "image/png": "[encoded data removed]",
      "text/plain": [
       "<matplotlib.figure.Figure at 0x1638e3890>"
      ]
     },
     "metadata": {},
     "output_type": "display_data"
    }
   ],
   "source": [
    "plt.hist(df['YearsSinceLastRecordedAlter'], bins=100)\n",
    "plt.show()"
   ]
  },
  {
   "cell_type": "code",
   "execution_count": 349,
   "metadata": {
    "collapsed": false
   },
   "outputs": [
    {
     "data": {
      "text/plain": [
       "(240929, 40)"
      ]
     },
     "execution_count": 349,
     "metadata": {},
     "output_type": "execute_result"
    }
   ],
   "source": [
    "df.drop(['YEAR BUILT','YearAlter1','YearAlter2'], axis=1, inplace=True)\n",
    "df.shape"
   ]
  },
  {
   "cell_type": "markdown",
   "metadata": {},
   "source": [
    "We proceed up through the columns- before proceeding, lets look at the df summary:"
   ]
  },
  {
   "cell_type": "code",
   "execution_count": 350,
   "metadata": {
    "collapsed": false
   },
   "outputs": [
    {
     "data": {
      "text/html": [
       "<div>\n",
       "<table border=\"1\" class=\"dataframe\">\n",
       "  <thead>\n",
       "    <tr style=\"text-align: right;\">\n",
       "      <th></th>\n",
       "      <th>AssessLand</th>\n",
       "      <th>AssessTot</th>\n",
       "      <th>BLOCK</th>\n",
       "      <th>BOROUGH</th>\n",
       "      <th>BldgArea</th>\n",
       "      <th>Block</th>\n",
       "      <th>COMMERCIAL UNITS</th>\n",
       "      <th>CT2010</th>\n",
       "      <th>CondoNo</th>\n",
       "      <th>GROSS SQUARE FEET</th>\n",
       "      <th>LAND SQUARE FEET</th>\n",
       "      <th>LOT</th>\n",
       "      <th>Lot</th>\n",
       "      <th>LotArea</th>\n",
       "      <th>NumBldgs</th>\n",
       "      <th>NumFloors</th>\n",
       "      <th>Pluto_BBL</th>\n",
       "      <th>PolicePrct</th>\n",
       "      <th>RESIDENTIAL UNITS</th>\n",
       "      <th>ResArea</th>\n",
       "      <th>SALE PRICE</th>\n",
       "      <th>SchoolDist</th>\n",
       "      <th>TAX CLASS AT TIME OF SALE</th>\n",
       "      <th>TOTAL UNITS</th>\n",
       "      <th>ZIP CODE</th>\n",
       "      <th>unit_BBL</th>\n",
       "      <th>BuildingAge</th>\n",
       "      <th>NumRecordedAltered</th>\n",
       "      <th>YearsSinceLastRecordedAlter</th>\n",
       "    </tr>\n",
       "  </thead>\n",
       "  <tbody>\n",
       "    <tr>\n",
       "      <th>count</th>\n",
       "      <td>2.409290e+05</td>\n",
       "      <td>2.409290e+05</td>\n",
       "      <td>240929.000000</td>\n",
       "      <td>240929.000000</td>\n",
       "      <td>2.409290e+05</td>\n",
       "      <td>240929.000000</td>\n",
       "      <td>240929.000000</td>\n",
       "      <td>240928.000000</td>\n",
       "      <td>240929.000000</td>\n",
       "      <td>2.409290e+05</td>\n",
       "      <td>2.409290e+05</td>\n",
       "      <td>240929.000000</td>\n",
       "      <td>240929.000000</td>\n",
       "      <td>2.409290e+05</td>\n",
       "      <td>240929.000000</td>\n",
       "      <td>240929.000000</td>\n",
       "      <td>2.409290e+05</td>\n",
       "      <td>240892.00000</td>\n",
       "      <td>240929.000000</td>\n",
       "      <td>2.409290e+05</td>\n",
       "      <td>2.409290e+05</td>\n",
       "      <td>240892.000000</td>\n",
       "      <td>240929.000000</td>\n",
       "      <td>240929.000000</td>\n",
       "      <td>240929.000000</td>\n",
       "      <td>2.409290e+05</td>\n",
       "      <td>240929.000000</td>\n",
       "      <td>240929.000000</td>\n",
       "      <td>240929.000000</td>\n",
       "    </tr>\n",
       "    <tr>\n",
       "      <th>mean</th>\n",
       "      <td>1.655677e+06</td>\n",
       "      <td>8.703053e+06</td>\n",
       "      <td>3902.578577</td>\n",
       "      <td>2.805901</td>\n",
       "      <td>1.358922e+05</td>\n",
       "      <td>3902.578577</td>\n",
       "      <td>0.047566</td>\n",
       "      <td>379.905192</td>\n",
       "      <td>317.764043</td>\n",
       "      <td>1.953861e+03</td>\n",
       "      <td>1.608076e+03</td>\n",
       "      <td>358.934072</td>\n",
       "      <td>1801.067983</td>\n",
       "      <td>4.193883e+04</td>\n",
       "      <td>3.431936</td>\n",
       "      <td>8.086939</td>\n",
       "      <td>2.844929e+09</td>\n",
       "      <td>69.38406</td>\n",
       "      <td>2.086395</td>\n",
       "      <td>1.019404e+05</td>\n",
       "      <td>1.070041e+06</td>\n",
       "      <td>16.712830</td>\n",
       "      <td>1.561593</td>\n",
       "      <td>2.133487</td>\n",
       "      <td>10798.558945</td>\n",
       "      <td>2.844927e+09</td>\n",
       "      <td>66.865944</td>\n",
       "      <td>0.222854</td>\n",
       "      <td>54.917100</td>\n",
       "    </tr>\n",
       "    <tr>\n",
       "      <th>std</th>\n",
       "      <td>6.307119e+06</td>\n",
       "      <td>2.262517e+07</td>\n",
       "      <td>3487.184643</td>\n",
       "      <td>1.342560</td>\n",
       "      <td>1.050763e+06</td>\n",
       "      <td>3487.184643</td>\n",
       "      <td>0.382845</td>\n",
       "      <td>365.578614</td>\n",
       "      <td>741.343819</td>\n",
       "      <td>2.821455e+04</td>\n",
       "      <td>9.080911e+03</td>\n",
       "      <td>660.781871</td>\n",
       "      <td>3155.279431</td>\n",
       "      <td>2.442405e+05</td>\n",
       "      <td>14.461716</td>\n",
       "      <td>9.973861</td>\n",
       "      <td>1.359796e+09</td>\n",
       "      <td>39.54763</td>\n",
       "      <td>32.259670</td>\n",
       "      <td>2.470685e+05</td>\n",
       "      <td>1.152039e+07</td>\n",
       "      <td>10.776885</td>\n",
       "      <td>0.496193</td>\n",
       "      <td>32.397372</td>\n",
       "      <td>589.709609</td>\n",
       "      <td>1.359797e+09</td>\n",
       "      <td>33.264791</td>\n",
       "      <td>0.466550</td>\n",
       "      <td>35.149178</td>\n",
       "    </tr>\n",
       "    <tr>\n",
       "      <th>min</th>\n",
       "      <td>0.000000e+00</td>\n",
       "      <td>0.000000e+00</td>\n",
       "      <td>1.000000</td>\n",
       "      <td>1.000000</td>\n",
       "      <td>0.000000e+00</td>\n",
       "      <td>1.000000</td>\n",
       "      <td>0.000000</td>\n",
       "      <td>1.000000</td>\n",
       "      <td>0.000000</td>\n",
       "      <td>0.000000e+00</td>\n",
       "      <td>0.000000e+00</td>\n",
       "      <td>1.000000</td>\n",
       "      <td>1.000000</td>\n",
       "      <td>1.000000e+00</td>\n",
       "      <td>0.000000</td>\n",
       "      <td>0.000000</td>\n",
       "      <td>1.000078e+09</td>\n",
       "      <td>1.00000</td>\n",
       "      <td>0.000000</td>\n",
       "      <td>0.000000e+00</td>\n",
       "      <td>5.000100e+04</td>\n",
       "      <td>1.000000</td>\n",
       "      <td>1.000000</td>\n",
       "      <td>0.000000</td>\n",
       "      <td>0.000000</td>\n",
       "      <td>1.000071e+09</td>\n",
       "      <td>0.000000</td>\n",
       "      <td>0.000000</td>\n",
       "      <td>0.000000</td>\n",
       "    </tr>\n",
       "    <tr>\n",
       "      <th>25%</th>\n",
       "      <td>9.652000e+03</td>\n",
       "      <td>2.794500e+04</td>\n",
       "      <td>1215.000000</td>\n",
       "      <td>1.000000</td>\n",
       "      <td>2.025000e+03</td>\n",
       "      <td>1215.000000</td>\n",
       "      <td>0.000000</td>\n",
       "      <td>NaN</td>\n",
       "      <td>0.000000</td>\n",
       "      <td>0.000000e+00</td>\n",
       "      <td>0.000000e+00</td>\n",
       "      <td>20.000000</td>\n",
       "      <td>20.000000</td>\n",
       "      <td>2.500000e+03</td>\n",
       "      <td>1.000000</td>\n",
       "      <td>2.000000</td>\n",
       "      <td>1.016008e+09</td>\n",
       "      <td>NaN</td>\n",
       "      <td>0.000000</td>\n",
       "      <td>1.928000e+03</td>\n",
       "      <td>3.200000e+05</td>\n",
       "      <td>NaN</td>\n",
       "      <td>1.000000</td>\n",
       "      <td>0.000000</td>\n",
       "      <td>10065.000000</td>\n",
       "      <td>1.016001e+09</td>\n",
       "      <td>48.000000</td>\n",
       "      <td>0.000000</td>\n",
       "      <td>26.000000</td>\n",
       "    </tr>\n",
       "    <tr>\n",
       "      <th>50%</th>\n",
       "      <td>7.547100e+04</td>\n",
       "      <td>5.548930e+05</td>\n",
       "      <td>2451.000000</td>\n",
       "      <td>3.000000</td>\n",
       "      <td>1.095100e+04</td>\n",
       "      <td>2451.000000</td>\n",
       "      <td>0.000000</td>\n",
       "      <td>NaN</td>\n",
       "      <td>0.000000</td>\n",
       "      <td>0.000000e+00</td>\n",
       "      <td>0.000000e+00</td>\n",
       "      <td>47.000000</td>\n",
       "      <td>47.000000</td>\n",
       "      <td>5.021000e+03</td>\n",
       "      <td>1.000000</td>\n",
       "      <td>4.000000</td>\n",
       "      <td>3.046560e+09</td>\n",
       "      <td>NaN</td>\n",
       "      <td>1.000000</td>\n",
       "      <td>9.700000e+03</td>\n",
       "      <td>5.150000e+05</td>\n",
       "      <td>NaN</td>\n",
       "      <td>2.000000</td>\n",
       "      <td>1.000000</td>\n",
       "      <td>11206.000000</td>\n",
       "      <td>3.046560e+09</td>\n",
       "      <td>71.000000</td>\n",
       "      <td>0.000000</td>\n",
       "      <td>56.000000</td>\n",
       "    </tr>\n",
       "    <tr>\n",
       "      <th>75%</th>\n",
       "      <td>1.064268e+06</td>\n",
       "      <td>7.049257e+06</td>\n",
       "      <td>5906.000000</td>\n",
       "      <td>4.000000</td>\n",
       "      <td>1.210720e+05</td>\n",
       "      <td>5906.000000</td>\n",
       "      <td>0.000000</td>\n",
       "      <td>NaN</td>\n",
       "      <td>0.000000</td>\n",
       "      <td>1.998000e+03</td>\n",
       "      <td>2.500000e+03</td>\n",
       "      <td>353.000000</td>\n",
       "      <td>356.000000</td>\n",
       "      <td>1.998200e+04</td>\n",
       "      <td>1.000000</td>\n",
       "      <td>9.000000</td>\n",
       "      <td>4.050230e+09</td>\n",
       "      <td>NaN</td>\n",
       "      <td>2.000000</td>\n",
       "      <td>1.146000e+05</td>\n",
       "      <td>8.640000e+05</td>\n",
       "      <td>NaN</td>\n",
       "      <td>2.000000</td>\n",
       "      <td>2.000000</td>\n",
       "      <td>11356.000000</td>\n",
       "      <td>4.050230e+09</td>\n",
       "      <td>91.000000</td>\n",
       "      <td>0.000000</td>\n",
       "      <td>86.000000</td>\n",
       "    </tr>\n",
       "    <tr>\n",
       "      <th>max</th>\n",
       "      <td>1.345064e+08</td>\n",
       "      <td>9.069332e+08</td>\n",
       "      <td>16322.000000</td>\n",
       "      <td>5.000000</td>\n",
       "      <td>4.954783e+07</td>\n",
       "      <td>16322.000000</td>\n",
       "      <td>46.000000</td>\n",
       "      <td>1621.000000</td>\n",
       "      <td>9566.000000</td>\n",
       "      <td>8.942176e+06</td>\n",
       "      <td>2.675000e+06</td>\n",
       "      <td>9112.000000</td>\n",
       "      <td>9008.000000</td>\n",
       "      <td>4.231466e+06</td>\n",
       "      <td>417.000000</td>\n",
       "      <td>119.000000</td>\n",
       "      <td>5.080500e+09</td>\n",
       "      <td>123.00000</td>\n",
       "      <td>8759.000000</td>\n",
       "      <td>8.367942e+06</td>\n",
       "      <td>4.111112e+09</td>\n",
       "      <td>32.000000</td>\n",
       "      <td>2.000000</td>\n",
       "      <td>8805.000000</td>\n",
       "      <td>11694.000000</td>\n",
       "      <td>5.080500e+09</td>\n",
       "      <td>218.000000</td>\n",
       "      <td>2.000000</td>\n",
       "      <td>216.000000</td>\n",
       "    </tr>\n",
       "  </tbody>\n",
       "</table>\n",
       "</div>"
      ],
      "text/plain": [
       "         AssessLand     AssessTot          BLOCK        BOROUGH      BldgArea  \\\n",
       "count  2.409290e+05  2.409290e+05  240929.000000  240929.000000  2.409290e+05   \n",
       "mean   1.655677e+06  8.703053e+06    3902.578577       2.805901  1.358922e+05   \n",
       "std    6.307119e+06  2.262517e+07    3487.184643       1.342560  1.050763e+06   \n",
       "min    0.000000e+00  0.000000e+00       1.000000       1.000000  0.000000e+00   \n",
       "25%    9.652000e+03  2.794500e+04    1215.000000       1.000000  2.025000e+03   \n",
       "50%    7.547100e+04  5.548930e+05    2451.000000       3.000000  1.095100e+04   \n",
       "75%    1.064268e+06  7.049257e+06    5906.000000       4.000000  1.210720e+05   \n",
       "max    1.345064e+08  9.069332e+08   16322.000000       5.000000  4.954783e+07   \n",
       "\n",
       "               Block  COMMERCIAL UNITS         CT2010        CondoNo  \\\n",
       "count  240929.000000     240929.000000  240928.000000  240929.000000   \n",
       "mean     3902.578577          0.047566     379.905192     317.764043   \n",
       "std      3487.184643          0.382845     365.578614     741.343819   \n",
       "min         1.000000          0.000000       1.000000       0.000000   \n",
       "25%      1215.000000          0.000000            NaN       0.000000   \n",
       "50%      2451.000000          0.000000            NaN       0.000000   \n",
       "75%      5906.000000          0.000000            NaN       0.000000   \n",
       "max     16322.000000         46.000000    1621.000000    9566.000000   \n",
       "\n",
       "       GROSS SQUARE FEET  LAND SQUARE FEET            LOT            Lot  \\\n",
       "count       2.409290e+05      2.409290e+05  240929.000000  240929.000000   \n",
       "mean        1.953861e+03      1.608076e+03     358.934072    1801.067983   \n",
       "std         2.821455e+04      9.080911e+03     660.781871    3155.279431   \n",
       "min         0.000000e+00      0.000000e+00       1.000000       1.000000   \n",
       "25%         0.000000e+00      0.000000e+00      20.000000      20.000000   \n",
       "50%         0.000000e+00      0.000000e+00      47.000000      47.000000   \n",
       "75%         1.998000e+03      2.500000e+03     353.000000     356.000000   \n",
       "max         8.942176e+06      2.675000e+06    9112.000000    9008.000000   \n",
       "\n",
       "            LotArea       NumBldgs      NumFloors     Pluto_BBL    PolicePrct  \\\n",
       "count  2.409290e+05  240929.000000  240929.000000  2.409290e+05  240892.00000   \n",
       "mean   4.193883e+04       3.431936       8.086939  2.844929e+09      69.38406   \n",
       "std    2.442405e+05      14.461716       9.973861  1.359796e+09      39.54763   \n",
       "min    1.000000e+00       0.000000       0.000000  1.000078e+09       1.00000   \n",
       "25%    2.500000e+03       1.000000       2.000000  1.016008e+09           NaN   \n",
       "50%    5.021000e+03       1.000000       4.000000  3.046560e+09           NaN   \n",
       "75%    1.998200e+04       1.000000       9.000000  4.050230e+09           NaN   \n",
       "max    4.231466e+06     417.000000     119.000000  5.080500e+09     123.00000   \n",
       "\n",
       "       RESIDENTIAL UNITS       ResArea    SALE PRICE     SchoolDist  \\\n",
       "count      240929.000000  2.409290e+05  2.409290e+05  240892.000000   \n",
       "mean            2.086395  1.019404e+05  1.070041e+06      16.712830   \n",
       "std            32.259670  2.470685e+05  1.152039e+07      10.776885   \n",
       "min             0.000000  0.000000e+00  5.000100e+04       1.000000   \n",
       "25%             0.000000  1.928000e+03  3.200000e+05            NaN   \n",
       "50%             1.000000  9.700000e+03  5.150000e+05            NaN   \n",
       "75%             2.000000  1.146000e+05  8.640000e+05            NaN   \n",
       "max          8759.000000  8.367942e+06  4.111112e+09      32.000000   \n",
       "\n",
       "       TAX CLASS AT TIME OF SALE    TOTAL UNITS       ZIP CODE      unit_BBL  \\\n",
       "count              240929.000000  240929.000000  240929.000000  2.409290e+05   \n",
       "mean                    1.561593       2.133487   10798.558945  2.844927e+09   \n",
       "std                     0.496193      32.397372     589.709609  1.359797e+09   \n",
       "min                     1.000000       0.000000       0.000000  1.000071e+09   \n",
       "25%                     1.000000       0.000000   10065.000000  1.016001e+09   \n",
       "50%                     2.000000       1.000000   11206.000000  3.046560e+09   \n",
       "75%                     2.000000       2.000000   11356.000000  4.050230e+09   \n",
       "max                     2.000000    8805.000000   11694.000000  5.080500e+09   \n",
       "\n",
       "         BuildingAge  NumRecordedAltered  YearsSinceLastRecordedAlter  \n",
       "count  240929.000000       240929.000000                240929.000000  \n",
       "mean       66.865944            0.222854                    54.917100  \n",
       "std        33.264791            0.466550                    35.149178  \n",
       "min         0.000000            0.000000                     0.000000  \n",
       "25%        48.000000            0.000000                    26.000000  \n",
       "50%        71.000000            0.000000                    56.000000  \n",
       "75%        91.000000            0.000000                    86.000000  \n",
       "max       218.000000            2.000000                   216.000000  "
      ]
     },
     "execution_count": 350,
     "metadata": {},
     "output_type": "execute_result"
    }
   ],
   "source": [
    "df.describe()"
   ]
  },
  {
   "cell_type": "markdown",
   "metadata": {},
   "source": [
    "First thing I notice is zip code = 0. This indicates a misentered value:"
   ]
  },
  {
   "cell_type": "code",
   "execution_count": 351,
   "metadata": {
    "collapsed": false
   },
   "outputs": [
    {
     "data": {
      "text/plain": [
       "(2, 40)"
      ]
     },
     "execution_count": 351,
     "metadata": {},
     "output_type": "execute_result"
    }
   ],
   "source": [
    "df.loc[df['ZIP CODE']==0,:].shape"
   ]
  },
  {
   "cell_type": "markdown",
   "metadata": {},
   "source": [
    "It looks like this only occurs twice- let's drop those rows."
   ]
  },
  {
   "cell_type": "code",
   "execution_count": 352,
   "metadata": {
    "collapsed": false,
    "scrolled": true
   },
   "outputs": [
    {
     "data": {
      "text/plain": [
       "(240927, 40)"
      ]
     },
     "execution_count": 352,
     "metadata": {},
     "output_type": "execute_result"
    }
   ],
   "source": [
    "df = df.loc[~(df['ZIP CODE']==0),:]\n",
    "df.shape"
   ]
  },
  {
   "cell_type": "markdown",
   "metadata": {},
   "source": [
    "Let's continue this cleaning:"
   ]
  },
  {
   "cell_type": "code",
   "execution_count": 353,
   "metadata": {
    "collapsed": false,
    "scrolled": true
   },
   "outputs": [
    {
     "name": "stdout",
     "output_type": "stream",
     "text": [
      "<class 'pandas.core.frame.DataFrame'>\n",
      "Int64Index: 240927 entries, 0 to 255787\n",
      "Data columns (total 40 columns):\n",
      "ADDRESS                           240927 non-null object\n",
      "APARTMENT NUMBER                  240927 non-null object\n",
      "Address                           240927 non-null object\n",
      "AssessLand                        240927 non-null float64\n",
      "AssessTot                         240927 non-null float64\n",
      "BLOCK                             240927 non-null int64\n",
      "BOROUGH                           240927 non-null int64\n",
      "BUILDING CLASS AT PRESENT         240927 non-null object\n",
      "BUILDING CLASS AT TIME OF SALE    240927 non-null object\n",
      "BUILDING CLASS CATEGORY           240927 non-null object\n",
      "BldgArea                          240927 non-null float64\n",
      "Block                             240927 non-null float64\n",
      "Borough                           240927 non-null object\n",
      "COMMERCIAL UNITS                  240927 non-null int64\n",
      "CT2010                            240926 non-null float64\n",
      "CondoNo                           240927 non-null float64\n",
      "EASE-MENT                         240927 non-null object\n",
      "GROSS SQUARE FEET                 240927 non-null int64\n",
      "LAND SQUARE FEET                  240927 non-null int64\n",
      "LOT                               240927 non-null int64\n",
      "Lot                               240927 non-null float64\n",
      "LotArea                           240927 non-null float64\n",
      "NEIGHBORHOOD                      240927 non-null object\n",
      "NumBldgs                          240927 non-null float64\n",
      "NumFloors                         240927 non-null float64\n",
      "Pluto_BBL                         240927 non-null float64\n",
      "PolicePrct                        240890 non-null float64\n",
      "RESIDENTIAL UNITS                 240927 non-null int64\n",
      "ResArea                           240927 non-null float64\n",
      "SALE DATE                         240927 non-null object\n",
      "SALE PRICE                        240927 non-null int64\n",
      "SchoolDist                        240890 non-null float64\n",
      "TAX CLASS AT PRESENT              240927 non-null object\n",
      "TAX CLASS AT TIME OF SALE         240927 non-null int64\n",
      "TOTAL UNITS                       240927 non-null int64\n",
      "ZIP CODE                          240927 non-null int64\n",
      "unit_BBL                          240927 non-null float64\n",
      "BuildingAge                       240927 non-null float64\n",
      "NumRecordedAltered                240927 non-null int64\n",
      "YearsSinceLastRecordedAlter       240927 non-null float64\n",
      "dtypes: float64(17), int64(12), object(11)\n",
      "memory usage: 75.4+ MB\n"
     ]
    }
   ],
   "source": [
    "df.info()"
   ]
  },
  {
   "cell_type": "markdown",
   "metadata": {},
   "source": [
    "Note at this point there are only 38 records with missing values, out of 241k records- these records are dropped since they represent a trivial subset of the data."
   ]
  },
  {
   "cell_type": "code",
   "execution_count": 354,
   "metadata": {
    "collapsed": false,
    "scrolled": true
   },
   "outputs": [
    {
     "name": "stdout",
     "output_type": "stream",
     "text": [
      "<class 'pandas.core.frame.DataFrame'>\n",
      "Int64Index: 240889 entries, 0 to 255787\n",
      "Data columns (total 40 columns):\n",
      "ADDRESS                           240889 non-null object\n",
      "APARTMENT NUMBER                  240889 non-null object\n",
      "Address                           240889 non-null object\n",
      "AssessLand                        240889 non-null float64\n",
      "AssessTot                         240889 non-null float64\n",
      "BLOCK                             240889 non-null int64\n",
      "BOROUGH                           240889 non-null int64\n",
      "BUILDING CLASS AT PRESENT         240889 non-null object\n",
      "BUILDING CLASS AT TIME OF SALE    240889 non-null object\n",
      "BUILDING CLASS CATEGORY           240889 non-null object\n",
      "BldgArea                          240889 non-null float64\n",
      "Block                             240889 non-null float64\n",
      "Borough                           240889 non-null object\n",
      "COMMERCIAL UNITS                  240889 non-null int64\n",
      "CT2010                            240889 non-null float64\n",
      "CondoNo                           240889 non-null float64\n",
      "EASE-MENT                         240889 non-null object\n",
      "GROSS SQUARE FEET                 240889 non-null int64\n",
      "LAND SQUARE FEET                  240889 non-null int64\n",
      "LOT                               240889 non-null int64\n",
      "Lot                               240889 non-null float64\n",
      "LotArea                           240889 non-null float64\n",
      "NEIGHBORHOOD                      240889 non-null object\n",
      "NumBldgs                          240889 non-null float64\n",
      "NumFloors                         240889 non-null float64\n",
      "Pluto_BBL                         240889 non-null float64\n",
      "PolicePrct                        240889 non-null float64\n",
      "RESIDENTIAL UNITS                 240889 non-null int64\n",
      "ResArea                           240889 non-null float64\n",
      "SALE DATE                         240889 non-null object\n",
      "SALE PRICE                        240889 non-null int64\n",
      "SchoolDist                        240889 non-null float64\n",
      "TAX CLASS AT PRESENT              240889 non-null object\n",
      "TAX CLASS AT TIME OF SALE         240889 non-null int64\n",
      "TOTAL UNITS                       240889 non-null int64\n",
      "ZIP CODE                          240889 non-null int64\n",
      "unit_BBL                          240889 non-null float64\n",
      "BuildingAge                       240889 non-null float64\n",
      "NumRecordedAltered                240889 non-null int64\n",
      "YearsSinceLastRecordedAlter       240889 non-null float64\n",
      "dtypes: float64(17), int64(12), object(11)\n",
      "memory usage: 75.4+ MB\n"
     ]
    }
   ],
   "source": [
    "df = df.dropna(axis=0, how='any')\n",
    "df.info()"
   ]
  },
  {
   "cell_type": "markdown",
   "metadata": {},
   "source": [
    "Next, we drop the feature \"EASEMENT\" and 'CondoNo':"
   ]
  },
  {
   "cell_type": "code",
   "execution_count": 355,
   "metadata": {
    "collapsed": false
   },
   "outputs": [],
   "source": [
    "df.drop(['EASE-MENT','CondoNo'], axis=1, inplace=True)"
   ]
  },
  {
   "cell_type": "code",
   "execution_count": 356,
   "metadata": {
    "collapsed": false
   },
   "outputs": [
    {
     "data": {
      "text/html": [
       "<div>\n",
       "<table border=\"1\" class=\"dataframe\">\n",
       "  <thead>\n",
       "    <tr style=\"text-align: right;\">\n",
       "      <th></th>\n",
       "      <th>AssessLand</th>\n",
       "      <th>AssessTot</th>\n",
       "      <th>BLOCK</th>\n",
       "      <th>BOROUGH</th>\n",
       "      <th>BldgArea</th>\n",
       "      <th>Block</th>\n",
       "      <th>COMMERCIAL UNITS</th>\n",
       "      <th>CT2010</th>\n",
       "      <th>GROSS SQUARE FEET</th>\n",
       "      <th>LAND SQUARE FEET</th>\n",
       "      <th>LOT</th>\n",
       "      <th>Lot</th>\n",
       "      <th>LotArea</th>\n",
       "      <th>NumBldgs</th>\n",
       "      <th>NumFloors</th>\n",
       "      <th>Pluto_BBL</th>\n",
       "      <th>PolicePrct</th>\n",
       "      <th>RESIDENTIAL UNITS</th>\n",
       "      <th>ResArea</th>\n",
       "      <th>SALE PRICE</th>\n",
       "      <th>SchoolDist</th>\n",
       "      <th>TAX CLASS AT TIME OF SALE</th>\n",
       "      <th>TOTAL UNITS</th>\n",
       "      <th>ZIP CODE</th>\n",
       "      <th>unit_BBL</th>\n",
       "      <th>BuildingAge</th>\n",
       "      <th>NumRecordedAltered</th>\n",
       "      <th>YearsSinceLastRecordedAlter</th>\n",
       "    </tr>\n",
       "  </thead>\n",
       "  <tbody>\n",
       "    <tr>\n",
       "      <th>count</th>\n",
       "      <td>2.408890e+05</td>\n",
       "      <td>2.408890e+05</td>\n",
       "      <td>240889.000000</td>\n",
       "      <td>240889.000000</td>\n",
       "      <td>2.408890e+05</td>\n",
       "      <td>240889.000000</td>\n",
       "      <td>240889.000000</td>\n",
       "      <td>240889.000000</td>\n",
       "      <td>2.408890e+05</td>\n",
       "      <td>2.408890e+05</td>\n",
       "      <td>240889.000000</td>\n",
       "      <td>240889.000000</td>\n",
       "      <td>2.408890e+05</td>\n",
       "      <td>240889.000000</td>\n",
       "      <td>240889.000000</td>\n",
       "      <td>2.408890e+05</td>\n",
       "      <td>240889.000000</td>\n",
       "      <td>240889.000000</td>\n",
       "      <td>2.408890e+05</td>\n",
       "      <td>2.408890e+05</td>\n",
       "      <td>240889.000000</td>\n",
       "      <td>240889.000000</td>\n",
       "      <td>240889.000000</td>\n",
       "      <td>240889.000000</td>\n",
       "      <td>2.408890e+05</td>\n",
       "      <td>240889.000000</td>\n",
       "      <td>240889.000000</td>\n",
       "      <td>240889.000000</td>\n",
       "    </tr>\n",
       "    <tr>\n",
       "      <th>mean</th>\n",
       "      <td>1.655921e+06</td>\n",
       "      <td>8.704273e+06</td>\n",
       "      <td>3902.095505</td>\n",
       "      <td>2.805554</td>\n",
       "      <td>1.358994e+05</td>\n",
       "      <td>3902.095505</td>\n",
       "      <td>0.047574</td>\n",
       "      <td>379.933317</td>\n",
       "      <td>1.954175e+03</td>\n",
       "      <td>1.608307e+03</td>\n",
       "      <td>358.830407</td>\n",
       "      <td>1800.213692</td>\n",
       "      <td>4.191143e+04</td>\n",
       "      <td>3.415905</td>\n",
       "      <td>8.087954</td>\n",
       "      <td>2.844576e+09</td>\n",
       "      <td>69.383778</td>\n",
       "      <td>2.086575</td>\n",
       "      <td>1.019419e+05</td>\n",
       "      <td>1.070173e+06</td>\n",
       "      <td>16.712768</td>\n",
       "      <td>1.561686</td>\n",
       "      <td>2.133676</td>\n",
       "      <td>10798.721461</td>\n",
       "      <td>2.844575e+09</td>\n",
       "      <td>66.871767</td>\n",
       "      <td>0.222891</td>\n",
       "      <td>54.920939</td>\n",
       "    </tr>\n",
       "    <tr>\n",
       "      <th>std</th>\n",
       "      <td>6.307614e+06</td>\n",
       "      <td>2.262685e+07</td>\n",
       "      <td>3487.245166</td>\n",
       "      <td>1.342386</td>\n",
       "      <td>1.050850e+06</td>\n",
       "      <td>3487.245166</td>\n",
       "      <td>0.382876</td>\n",
       "      <td>365.601505</td>\n",
       "      <td>2.821688e+04</td>\n",
       "      <td>9.081641e+03</td>\n",
       "      <td>660.779651</td>\n",
       "      <td>3154.744732</td>\n",
       "      <td>2.442504e+05</td>\n",
       "      <td>14.404725</td>\n",
       "      <td>9.974378</td>\n",
       "      <td>1.359619e+09</td>\n",
       "      <td>39.547619</td>\n",
       "      <td>32.262345</td>\n",
       "      <td>2.470887e+05</td>\n",
       "      <td>1.152134e+07</td>\n",
       "      <td>10.776881</td>\n",
       "      <td>0.496181</td>\n",
       "      <td>32.400058</td>\n",
       "      <td>588.904795</td>\n",
       "      <td>1.359619e+09</td>\n",
       "      <td>33.264394</td>\n",
       "      <td>0.466580</td>\n",
       "      <td>35.150750</td>\n",
       "    </tr>\n",
       "    <tr>\n",
       "      <th>min</th>\n",
       "      <td>0.000000e+00</td>\n",
       "      <td>0.000000e+00</td>\n",
       "      <td>1.000000</td>\n",
       "      <td>1.000000</td>\n",
       "      <td>0.000000e+00</td>\n",
       "      <td>1.000000</td>\n",
       "      <td>0.000000</td>\n",
       "      <td>1.000000</td>\n",
       "      <td>0.000000e+00</td>\n",
       "      <td>0.000000e+00</td>\n",
       "      <td>1.000000</td>\n",
       "      <td>1.000000</td>\n",
       "      <td>1.000000e+00</td>\n",
       "      <td>0.000000</td>\n",
       "      <td>0.000000</td>\n",
       "      <td>1.000078e+09</td>\n",
       "      <td>1.000000</td>\n",
       "      <td>0.000000</td>\n",
       "      <td>0.000000e+00</td>\n",
       "      <td>5.000100e+04</td>\n",
       "      <td>1.000000</td>\n",
       "      <td>1.000000</td>\n",
       "      <td>0.000000</td>\n",
       "      <td>10001.000000</td>\n",
       "      <td>1.000071e+09</td>\n",
       "      <td>0.000000</td>\n",
       "      <td>0.000000</td>\n",
       "      <td>0.000000</td>\n",
       "    </tr>\n",
       "    <tr>\n",
       "      <th>25%</th>\n",
       "      <td>9.651000e+03</td>\n",
       "      <td>2.794500e+04</td>\n",
       "      <td>1214.000000</td>\n",
       "      <td>1.000000</td>\n",
       "      <td>2.025000e+03</td>\n",
       "      <td>1214.000000</td>\n",
       "      <td>0.000000</td>\n",
       "      <td>126.000000</td>\n",
       "      <td>0.000000e+00</td>\n",
       "      <td>0.000000e+00</td>\n",
       "      <td>20.000000</td>\n",
       "      <td>20.000000</td>\n",
       "      <td>2.500000e+03</td>\n",
       "      <td>1.000000</td>\n",
       "      <td>2.000000</td>\n",
       "      <td>1.016008e+09</td>\n",
       "      <td>24.000000</td>\n",
       "      <td>0.000000</td>\n",
       "      <td>1.927000e+03</td>\n",
       "      <td>3.200000e+05</td>\n",
       "      <td>3.000000</td>\n",
       "      <td>1.000000</td>\n",
       "      <td>0.000000</td>\n",
       "      <td>10065.000000</td>\n",
       "      <td>1.016001e+09</td>\n",
       "      <td>48.000000</td>\n",
       "      <td>0.000000</td>\n",
       "      <td>26.000000</td>\n",
       "    </tr>\n",
       "    <tr>\n",
       "      <th>50%</th>\n",
       "      <td>7.524800e+04</td>\n",
       "      <td>5.540990e+05</td>\n",
       "      <td>2451.000000</td>\n",
       "      <td>3.000000</td>\n",
       "      <td>1.093800e+04</td>\n",
       "      <td>2451.000000</td>\n",
       "      <td>0.000000</td>\n",
       "      <td>231.000000</td>\n",
       "      <td>0.000000e+00</td>\n",
       "      <td>0.000000e+00</td>\n",
       "      <td>47.000000</td>\n",
       "      <td>47.000000</td>\n",
       "      <td>5.021000e+03</td>\n",
       "      <td>1.000000</td>\n",
       "      <td>4.000000</td>\n",
       "      <td>3.046470e+09</td>\n",
       "      <td>75.000000</td>\n",
       "      <td>1.000000</td>\n",
       "      <td>9.698000e+03</td>\n",
       "      <td>5.150000e+05</td>\n",
       "      <td>19.000000</td>\n",
       "      <td>2.000000</td>\n",
       "      <td>1.000000</td>\n",
       "      <td>11206.000000</td>\n",
       "      <td>3.046470e+09</td>\n",
       "      <td>71.000000</td>\n",
       "      <td>0.000000</td>\n",
       "      <td>56.000000</td>\n",
       "    </tr>\n",
       "    <tr>\n",
       "      <th>75%</th>\n",
       "      <td>1.064268e+06</td>\n",
       "      <td>7.049700e+06</td>\n",
       "      <td>5906.000000</td>\n",
       "      <td>4.000000</td>\n",
       "      <td>1.210800e+05</td>\n",
       "      <td>5906.000000</td>\n",
       "      <td>0.000000</td>\n",
       "      <td>548.000000</td>\n",
       "      <td>1.998000e+03</td>\n",
       "      <td>2.500000e+03</td>\n",
       "      <td>351.000000</td>\n",
       "      <td>354.000000</td>\n",
       "      <td>1.998000e+04</td>\n",
       "      <td>1.000000</td>\n",
       "      <td>9.000000</td>\n",
       "      <td>4.050228e+09</td>\n",
       "      <td>108.000000</td>\n",
       "      <td>2.000000</td>\n",
       "      <td>1.146000e+05</td>\n",
       "      <td>8.644940e+05</td>\n",
       "      <td>27.000000</td>\n",
       "      <td>2.000000</td>\n",
       "      <td>2.000000</td>\n",
       "      <td>11356.000000</td>\n",
       "      <td>4.050222e+09</td>\n",
       "      <td>91.000000</td>\n",
       "      <td>0.000000</td>\n",
       "      <td>86.000000</td>\n",
       "    </tr>\n",
       "    <tr>\n",
       "      <th>max</th>\n",
       "      <td>1.345064e+08</td>\n",
       "      <td>9.069332e+08</td>\n",
       "      <td>16322.000000</td>\n",
       "      <td>5.000000</td>\n",
       "      <td>4.954783e+07</td>\n",
       "      <td>16322.000000</td>\n",
       "      <td>46.000000</td>\n",
       "      <td>1621.000000</td>\n",
       "      <td>8.942176e+06</td>\n",
       "      <td>2.675000e+06</td>\n",
       "      <td>9112.000000</td>\n",
       "      <td>9008.000000</td>\n",
       "      <td>4.231466e+06</td>\n",
       "      <td>417.000000</td>\n",
       "      <td>119.000000</td>\n",
       "      <td>5.080500e+09</td>\n",
       "      <td>123.000000</td>\n",
       "      <td>8759.000000</td>\n",
       "      <td>8.367942e+06</td>\n",
       "      <td>4.111112e+09</td>\n",
       "      <td>32.000000</td>\n",
       "      <td>2.000000</td>\n",
       "      <td>8805.000000</td>\n",
       "      <td>11694.000000</td>\n",
       "      <td>5.080500e+09</td>\n",
       "      <td>218.000000</td>\n",
       "      <td>2.000000</td>\n",
       "      <td>216.000000</td>\n",
       "    </tr>\n",
       "  </tbody>\n",
       "</table>\n",
       "</div>"
      ],
      "text/plain": [
       "         AssessLand     AssessTot          BLOCK        BOROUGH      BldgArea  \\\n",
       "count  2.408890e+05  2.408890e+05  240889.000000  240889.000000  2.408890e+05   \n",
       "mean   1.655921e+06  8.704273e+06    3902.095505       2.805554  1.358994e+05   \n",
       "std    6.307614e+06  2.262685e+07    3487.245166       1.342386  1.050850e+06   \n",
       "min    0.000000e+00  0.000000e+00       1.000000       1.000000  0.000000e+00   \n",
       "25%    9.651000e+03  2.794500e+04    1214.000000       1.000000  2.025000e+03   \n",
       "50%    7.524800e+04  5.540990e+05    2451.000000       3.000000  1.093800e+04   \n",
       "75%    1.064268e+06  7.049700e+06    5906.000000       4.000000  1.210800e+05   \n",
       "max    1.345064e+08  9.069332e+08   16322.000000       5.000000  4.954783e+07   \n",
       "\n",
       "               Block  COMMERCIAL UNITS         CT2010  GROSS SQUARE FEET  \\\n",
       "count  240889.000000     240889.000000  240889.000000       2.408890e+05   \n",
       "mean     3902.095505          0.047574     379.933317       1.954175e+03   \n",
       "std      3487.245166          0.382876     365.601505       2.821688e+04   \n",
       "min         1.000000          0.000000       1.000000       0.000000e+00   \n",
       "25%      1214.000000          0.000000     126.000000       0.000000e+00   \n",
       "50%      2451.000000          0.000000     231.000000       0.000000e+00   \n",
       "75%      5906.000000          0.000000     548.000000       1.998000e+03   \n",
       "max     16322.000000         46.000000    1621.000000       8.942176e+06   \n",
       "\n",
       "       LAND SQUARE FEET            LOT            Lot       LotArea  \\\n",
       "count      2.408890e+05  240889.000000  240889.000000  2.408890e+05   \n",
       "mean       1.608307e+03     358.830407    1800.213692  4.191143e+04   \n",
       "std        9.081641e+03     660.779651    3154.744732  2.442504e+05   \n",
       "min        0.000000e+00       1.000000       1.000000  1.000000e+00   \n",
       "25%        0.000000e+00      20.000000      20.000000  2.500000e+03   \n",
       "50%        0.000000e+00      47.000000      47.000000  5.021000e+03   \n",
       "75%        2.500000e+03     351.000000     354.000000  1.998000e+04   \n",
       "max        2.675000e+06    9112.000000    9008.000000  4.231466e+06   \n",
       "\n",
       "            NumBldgs      NumFloors     Pluto_BBL     PolicePrct  \\\n",
       "count  240889.000000  240889.000000  2.408890e+05  240889.000000   \n",
       "mean        3.415905       8.087954  2.844576e+09      69.383778   \n",
       "std        14.404725       9.974378  1.359619e+09      39.547619   \n",
       "min         0.000000       0.000000  1.000078e+09       1.000000   \n",
       "25%         1.000000       2.000000  1.016008e+09      24.000000   \n",
       "50%         1.000000       4.000000  3.046470e+09      75.000000   \n",
       "75%         1.000000       9.000000  4.050228e+09     108.000000   \n",
       "max       417.000000     119.000000  5.080500e+09     123.000000   \n",
       "\n",
       "       RESIDENTIAL UNITS       ResArea    SALE PRICE     SchoolDist  \\\n",
       "count      240889.000000  2.408890e+05  2.408890e+05  240889.000000   \n",
       "mean            2.086575  1.019419e+05  1.070173e+06      16.712768   \n",
       "std            32.262345  2.470887e+05  1.152134e+07      10.776881   \n",
       "min             0.000000  0.000000e+00  5.000100e+04       1.000000   \n",
       "25%             0.000000  1.927000e+03  3.200000e+05       3.000000   \n",
       "50%             1.000000  9.698000e+03  5.150000e+05      19.000000   \n",
       "75%             2.000000  1.146000e+05  8.644940e+05      27.000000   \n",
       "max          8759.000000  8.367942e+06  4.111112e+09      32.000000   \n",
       "\n",
       "       TAX CLASS AT TIME OF SALE    TOTAL UNITS       ZIP CODE      unit_BBL  \\\n",
       "count              240889.000000  240889.000000  240889.000000  2.408890e+05   \n",
       "mean                    1.561686       2.133676   10798.721461  2.844575e+09   \n",
       "std                     0.496181      32.400058     588.904795  1.359619e+09   \n",
       "min                     1.000000       0.000000   10001.000000  1.000071e+09   \n",
       "25%                     1.000000       0.000000   10065.000000  1.016001e+09   \n",
       "50%                     2.000000       1.000000   11206.000000  3.046470e+09   \n",
       "75%                     2.000000       2.000000   11356.000000  4.050222e+09   \n",
       "max                     2.000000    8805.000000   11694.000000  5.080500e+09   \n",
       "\n",
       "         BuildingAge  NumRecordedAltered  YearsSinceLastRecordedAlter  \n",
       "count  240889.000000       240889.000000                240889.000000  \n",
       "mean       66.871767            0.222891                    54.920939  \n",
       "std        33.264394            0.466580                    35.150750  \n",
       "min         0.000000            0.000000                     0.000000  \n",
       "25%        48.000000            0.000000                    26.000000  \n",
       "50%        71.000000            0.000000                    56.000000  \n",
       "75%        91.000000            0.000000                    86.000000  \n",
       "max       218.000000            2.000000                   216.000000  "
      ]
     },
     "execution_count": 356,
     "metadata": {},
     "output_type": "execute_result"
    }
   ],
   "source": [
    "df.describe()"
   ]
  },
  {
   "cell_type": "code",
   "execution_count": 375,
   "metadata": {
    "collapsed": false
   },
   "outputs": [
    {
     "data": {
      "text/plain": [
       "Index([u'count', u'mean', u'std', u'min', u'25%', u'50%', u'75%', u'max'], dtype='object')"
      ]
     },
     "execution_count": 375,
     "metadata": {},
     "output_type": "execute_result"
    }
   ],
   "source": [
    "summ = df.describe()"
   ]
  },
  {
   "cell_type": "code",
   "execution_count": 378,
   "metadata": {
    "collapsed": false
   },
   "outputs": [
    {
     "data": {
      "image/png": "[encoded data removed]",
      "text/plain": [
       "<matplotlib.figure.Figure at 0x190484dd0>"
      ]
     },
     "metadata": {},
     "output_type": "display_data"
    },
    {
     "data": {
      "image/png": "[encoded data removed]",
      "text/plain": [
       "<matplotlib.figure.Figure at 0x183a284d0>"
      ]
     },
     "metadata": {},
     "output_type": "display_data"
    },
    {
     "data": {
      "image/png": "[encoded data removed]",
      "text/plain": [
       "<matplotlib.figure.Figure at 0x19127aed0>"
      ]
     },
     "metadata": {},
     "output_type": "display_data"
    },
    {
     "data": {
      "image/png": "[encoded data removed]",
      "text/plain": [
       "<matplotlib.figure.Figure at 0x1841869d0>"
      ]
     },
     "metadata": {},
     "output_type": "display_data"
    },
    {
     "data": {
      "image/png": "[encoded data removed]",
      "text/plain": [
       "<matplotlib.figure.Figure at 0x19045d790>"
      ]
     },
     "metadata": {},
     "output_type": "display_data"
    },
    {
     "data": {
      "image/png": "[encoded data removed]",
      "text/plain": [
       "<matplotlib.figure.Figure at 0x18e923f50>"
      ]
     },
     "metadata": {},
     "output_type": "display_data"
    },
    {
     "data": {
      "image/png": "[encoded data removed]",
      "text/plain": [
       "<matplotlib.figure.Figure at 0x190197d10>"
      ]
     },
     "metadata": {},
     "output_type": "display_data"
    },
    {
     "data": {
      "image/png": "[encoded data removed]",
      "text/plain": [
       "<matplotlib.figure.Figure at 0x183513ed0>"
      ]
     },
     "metadata": {},
     "output_type": "display_data"
    },
    {
     "data": {
      "image/png": "[encoded data removed]",
      "text/plain": [
       "<matplotlib.figure.Figure at 0x183ab6d90>"
      ]
     },
     "metadata": {},
     "output_type": "display_data"
    },
    {
     "data": {
      "image/png": "[encoded data removed]",
      "text/plain": [
       "<matplotlib.figure.Figure at 0x1850ac290>"
      ]
     },
     "metadata": {},
     "output_type": "display_data"
    },
    {
     "data": {
      "image/png": "[encoded data removed]",
      "text/plain": [
       "<matplotlib.figure.Figure at 0x1810d0e10>"
      ]
     },
     "metadata": {},
     "output_type": "display_data"
    },
    {
     "data": {
      "image/png": "[encoded data removed]",
      "text/plain": [
       "<matplotlib.figure.Figure at 0x180850f10>"
      ]
     },
     "metadata": {},
     "output_type": "display_data"
    },
    {
     "data": {
      "image/png": "[encoded data removed]",
      "text/plain": [
       "<matplotlib.figure.Figure at 0x184ac1710>"
      ]
     },
     "metadata": {},
     "output_type": "display_data"
    },
    {
     "data": {
      "image/png": "[encoded data removed]",
      "text/plain": [
       "<matplotlib.figure.Figure at 0x191268f10>"
      ]
     },
     "metadata": {},
     "output_type": "display_data"
    },
    {
     "data": {
      "image/png": "[encoded data removed]",
      "text/plain": [
       "<matplotlib.figure.Figure at 0x18ff90090>"
      ]
     },
     "metadata": {},
     "output_type": "display_data"
    },
    {
     "data": {
      "image/png": "[encoded data removed]",
      "text/plain": [
       "<matplotlib.figure.Figure at 0x190a78f90>"
      ]
     },
     "metadata": {},
     "output_type": "display_data"
    },
    {
     "data": {
      "image/png": "[encoded data removed]",
      "text/plain": [
       "<matplotlib.figure.Figure at 0x1810aacd0>"
      ]
     },
     "metadata": {},
     "output_type": "display_data"
    },
    {
     "data": {
      "image/png": "[encoded data removed]",
      "text/plain": [
       "<matplotlib.figure.Figure at 0x190227fd0>"
      ]
     },
     "metadata": {},
     "output_type": "display_data"
    },
    {
     "data": {
      "image/png": "[encoded data removed]",
      "text/plain": [
       "<matplotlib.figure.Figure at 0x196755950>"
      ]
     },
     "metadata": {},
     "output_type": "display_data"
    },
    {
     "data": {
      "image/png": "[encoded data removed]",
      "text/plain": [
       "<matplotlib.figure.Figure at 0x18109e650>"
      ]
     },
     "metadata": {},
     "output_type": "display_data"
    },
    {
     "data": {
      "image/png": "[encoded data removed]",
      "text/plain": [
       "<matplotlib.figure.Figure at 0x18e917310>"
      ]
     },
     "metadata": {},
     "output_type": "display_data"
    },
    {
     "data": {
      "image/png": "[encoded data removed]",
      "text/plain": [
       "<matplotlib.figure.Figure at 0x184abe890>"
      ]
     },
     "metadata": {},
     "output_type": "display_data"
    },
    {
     "data": {
      "image/png": "[encoded data removed]",
      "text/plain": [
       "<matplotlib.figure.Figure at 0x191260990>"
      ]
     },
     "metadata": {},
     "output_type": "display_data"
    },
    {
     "data": {
      "image/png": "[encoded data removed]",
      "text/plain": [
       "<matplotlib.figure.Figure at 0x18e9647d0>"
      ]
     },
     "metadata": {},
     "output_type": "display_data"
    },
    {
     "data": {
      "image/png": "[encoded data removed]",
      "text/plain": [
       "<matplotlib.figure.Figure at 0x19023fd90>"
      ]
     },
     "metadata": {},
     "output_type": "display_data"
    },
    {
     "data": {
      "image/png": "[encoded data removed]",
      "text/plain": [
       "<matplotlib.figure.Figure at 0x180870f10>"
      ]
     },
     "metadata": {},
     "output_type": "display_data"
    },
    {
     "data": {
      "image/png": "[encoded data removed]",
      "text/plain": [
       "<matplotlib.figure.Figure at 0x1906692d0>"
      ]
     },
     "metadata": {},
     "output_type": "display_data"
    },
    {
     "data": {
      "image/png": "[encoded data removed]",
      "text/plain": [
       "<matplotlib.figure.Figure at 0x18e908410>"
      ]
     },
     "metadata": {},
     "output_type": "display_data"
    },
    {
     "data": {
      "image/png": "[encoded data removed]",
      "text/plain": [
       "<matplotlib.figure.Figure at 0x18351ca90>"
      ]
     },
     "metadata": {},
     "output_type": "display_data"
    }
   ],
   "source": [
    "for column in summ.columns:\n",
    "    if summ.loc['75%',column] > 0: #handle commercial units\n",
    "        diff = summ.loc['max',column] / summ.loc['75%',column]\n",
    "    else:\n",
    "        diff = 1\n",
    "    if diff > 10:\n",
    "        plt.hist(df.loc[df[column] < summ.loc['75%',column],column].values,bins=50)\n",
    "    else:\n",
    "        plt.hist(df[column],bins=50)\n",
    "    plt.title(column)\n",
    "    plt.show()"
   ]
  },
  {
   "cell_type": "code",
   "execution_count": 359,
   "metadata": {
    "collapsed": false
   },
   "outputs": [
    {
     "data": {
      "text/plain": [
       "63"
      ]
     },
     "execution_count": 359,
     "metadata": {},
     "output_type": "execute_result"
    }
   ],
   "source": [
    "from fuzzywuzzy import fuzz\n",
    "from fuzzywuzzy import process\n",
    "\n",
    "fuzz.ratio(df.loc[0,'ADDRESS'], df.loc[0,'Address'])"
   ]
  },
  {
   "cell_type": "code",
   "execution_count": 360,
   "metadata": {
    "collapsed": false
   },
   "outputs": [
    {
     "data": {
      "text/plain": [
       "'350 BEACH 40TH STREET                    '"
      ]
     },
     "execution_count": 360,
     "metadata": {},
     "output_type": "execute_result"
    }
   ],
   "source": [
    "df.loc[0,'ADDRESS']"
   ]
  },
  {
   "cell_type": "code",
   "execution_count": 361,
   "metadata": {
    "collapsed": false
   },
   "outputs": [
    {
     "data": {
      "text/plain": [
       "'350 BEACH 40 STREET'"
      ]
     },
     "execution_count": 361,
     "metadata": {},
     "output_type": "execute_result"
    }
   ],
   "source": [
    "df.loc[0,'Address']"
   ]
  },
  {
   "cell_type": "code",
   "execution_count": 362,
   "metadata": {
    "collapsed": false
   },
   "outputs": [],
   "source": [
    "df['ADDRESS'] = df['ADDRESS'].str.replace(r'\\s+',' ').str.lower()"
   ]
  },
  {
   "cell_type": "code",
   "execution_count": 363,
   "metadata": {
    "collapsed": false
   },
   "outputs": [],
   "source": [
    "df['Address'] = df['Address'].str.replace(r'\\s+',' ').str.lower()"
   ]
  },
  {
   "cell_type": "code",
   "execution_count": 364,
   "metadata": {
    "collapsed": false
   },
   "outputs": [
    {
     "data": {
      "text/plain": [
       "93"
      ]
     },
     "execution_count": 364,
     "metadata": {},
     "output_type": "execute_result"
    }
   ],
   "source": [
    "fuzz.ratio(df.loc[0,'ADDRESS'], df.loc[0,'Address'])"
   ]
  },
  {
   "cell_type": "code",
   "execution_count": 365,
   "metadata": {
    "collapsed": false
   },
   "outputs": [
    {
     "data": {
      "text/plain": [
       "'350 beach 40th street '"
      ]
     },
     "execution_count": 365,
     "metadata": {},
     "output_type": "execute_result"
    }
   ],
   "source": [
    "df.loc[0,'ADDRESS']"
   ]
  },
  {
   "cell_type": "code",
   "execution_count": 366,
   "metadata": {
    "collapsed": false
   },
   "outputs": [
    {
     "data": {
      "text/plain": [
       "'350 beach 40 street'"
      ]
     },
     "execution_count": 366,
     "metadata": {},
     "output_type": "execute_result"
    }
   ],
   "source": [
    "df.loc[0,'Address']"
   ]
  },
  {
   "cell_type": "code",
   "execution_count": 367,
   "metadata": {
    "collapsed": false,
    "scrolled": true
   },
   "outputs": [],
   "source": [
    "df['Address_match'] = df.apply(lambda row: fuzz.ratio(row['ADDRESS'], row['Address']), axis=1)"
   ]
  },
  {
   "cell_type": "code",
   "execution_count": 369,
   "metadata": {
    "collapsed": false
   },
   "outputs": [
    {
     "data": {
      "image/png": "[encoded data removed]",
      "text/plain": [
       "<matplotlib.figure.Figure at 0x195ad6dd0>"
      ]
     },
     "metadata": {},
     "output_type": "display_data"
    }
   ],
   "source": [
    "plt.hist(df['Address_match'], bins=100)\n",
    "plt.show()"
   ]
  },
  {
   "cell_type": "code",
   "execution_count": 391,
   "metadata": {
    "collapsed": true
   },
   "outputs": [],
   "source": [
    "sample = np.random.choice(df.index, 25)"
   ]
  },
  {
   "cell_type": "code",
   "execution_count": 398,
   "metadata": {
    "collapsed": false
   },
   "outputs": [
    {
     "data": {
      "text/html": [
       "<div>\n",
       "<table border=\"1\" class=\"dataframe\">\n",
       "  <thead>\n",
       "    <tr style=\"text-align: right;\">\n",
       "      <th></th>\n",
       "      <th>Address_match</th>\n",
       "      <th>ADDRESS</th>\n",
       "      <th>Address</th>\n",
       "    </tr>\n",
       "  </thead>\n",
       "  <tbody>\n",
       "    <tr>\n",
       "      <th>29953</th>\n",
       "      <td>71</td>\n",
       "      <td>661 41 street, 3l</td>\n",
       "      <td>637 41 street</td>\n",
       "    </tr>\n",
       "    <tr>\n",
       "      <th>128195</th>\n",
       "      <td>71</td>\n",
       "      <td>13 west 13th street, 7as</td>\n",
       "      <td>18 west 14 street</td>\n",
       "    </tr>\n",
       "    <tr>\n",
       "      <th>128194</th>\n",
       "      <td>71</td>\n",
       "      <td>13 west 13th street, 3as</td>\n",
       "      <td>18 west 14 street</td>\n",
       "    </tr>\n",
       "    <tr>\n",
       "      <th>128193</th>\n",
       "      <td>71</td>\n",
       "      <td>13 west 13th street, 7ds</td>\n",
       "      <td>18 west 14 street</td>\n",
       "    </tr>\n",
       "    <tr>\n",
       "      <th>128192</th>\n",
       "      <td>71</td>\n",
       "      <td>13 west 13th street, 6cs</td>\n",
       "      <td>18 west 14 street</td>\n",
       "    </tr>\n",
       "    <tr>\n",
       "      <th>128190</th>\n",
       "      <td>71</td>\n",
       "      <td>25 west 13th street, 2ln</td>\n",
       "      <td>22 west 14 street</td>\n",
       "    </tr>\n",
       "    <tr>\n",
       "      <th>218464</th>\n",
       "      <td>71</td>\n",
       "      <td>315 seventh avenue</td>\n",
       "      <td>315 7 avenue</td>\n",
       "    </tr>\n",
       "    <tr>\n",
       "      <th>128188</th>\n",
       "      <td>71</td>\n",
       "      <td>25 west 13th street, 1hn</td>\n",
       "      <td>22 west 14 street</td>\n",
       "    </tr>\n",
       "    <tr>\n",
       "      <th>218465</th>\n",
       "      <td>71</td>\n",
       "      <td>315 seventh avenue</td>\n",
       "      <td>315 7 avenue</td>\n",
       "    </tr>\n",
       "    <tr>\n",
       "      <th>177504</th>\n",
       "      <td>71</td>\n",
       "      <td>180 cabrini blvd, 49</td>\n",
       "      <td>120 cabrini boulevard</td>\n",
       "    </tr>\n",
       "    <tr>\n",
       "      <th>65444</th>\n",
       "      <td>71</td>\n",
       "      <td>18-05 215 st., 8c</td>\n",
       "      <td>18-05 215 street</td>\n",
       "    </tr>\n",
       "    <tr>\n",
       "      <th>105760</th>\n",
       "      <td>71</td>\n",
       "      <td>199-08 17th avenue, 2-219</td>\n",
       "      <td>199-01 17 avenue</td>\n",
       "    </tr>\n",
       "    <tr>\n",
       "      <th>105761</th>\n",
       "      <td>71</td>\n",
       "      <td>199-18 17th avenue, 2-228</td>\n",
       "      <td>199-01 17 avenue</td>\n",
       "    </tr>\n",
       "    <tr>\n",
       "      <th>105763</th>\n",
       "      <td>71</td>\n",
       "      <td>199-14 17th avenue, 2-223</td>\n",
       "      <td>199-01 17 avenue</td>\n",
       "    </tr>\n",
       "    <tr>\n",
       "      <th>151363</th>\n",
       "      <td>71</td>\n",
       "      <td>70-20 kissena blvd, 124b</td>\n",
       "      <td>70-04 kissena boulevard</td>\n",
       "    </tr>\n",
       "    <tr>\n",
       "      <th>105791</th>\n",
       "      <td>71</td>\n",
       "      <td>199-10 21st avenue, 1-330</td>\n",
       "      <td>199-02 21 avenue</td>\n",
       "    </tr>\n",
       "    <tr>\n",
       "      <th>218463</th>\n",
       "      <td>71</td>\n",
       "      <td>315 seventh avenue</td>\n",
       "      <td>315 7 avenue</td>\n",
       "    </tr>\n",
       "    <tr>\n",
       "      <th>5196</th>\n",
       "      <td>71</td>\n",
       "      <td>99-07 207th</td>\n",
       "      <td>99-07 207 street</td>\n",
       "    </tr>\n",
       "    <tr>\n",
       "      <th>218434</th>\n",
       "      <td>71</td>\n",
       "      <td>245 seventh avenue</td>\n",
       "      <td>245 7 avenue</td>\n",
       "    </tr>\n",
       "    <tr>\n",
       "      <th>19787</th>\n",
       "      <td>71</td>\n",
       "      <td>225 e. 73rd street, 11b</td>\n",
       "      <td>225 east 73 street</td>\n",
       "    </tr>\n",
       "    <tr>\n",
       "      <th>11158</th>\n",
       "      <td>71</td>\n",
       "      <td>38-05 65 st, 1a</td>\n",
       "      <td>38-05 65 street</td>\n",
       "    </tr>\n",
       "    <tr>\n",
       "      <th>226494</th>\n",
       "      <td>71</td>\n",
       "      <td>606 louisiana</td>\n",
       "      <td>556 louisiana avenue</td>\n",
       "    </tr>\n",
       "    <tr>\n",
       "      <th>170637</th>\n",
       "      <td>71</td>\n",
       "      <td>44 gramercy park north, 9a/f</td>\n",
       "      <td>44 gramercy park</td>\n",
       "    </tr>\n",
       "    <tr>\n",
       "      <th>151309</th>\n",
       "      <td>71</td>\n",
       "      <td>152-26 melbourne avenue, 231</td>\n",
       "      <td>69-18 melbourne avenue</td>\n",
       "    </tr>\n",
       "    <tr>\n",
       "      <th>132019</th>\n",
       "      <td>71</td>\n",
       "      <td>520 e. 72nd street, 16c</td>\n",
       "      <td>520 east 72 street</td>\n",
       "    </tr>\n",
       "    <tr>\n",
       "      <th>157256</th>\n",
       "      <td>71</td>\n",
       "      <td>98-20 62 drive, 10b</td>\n",
       "      <td>97-40 62 drive</td>\n",
       "    </tr>\n",
       "    <tr>\n",
       "      <th>218290</th>\n",
       "      <td>71</td>\n",
       "      <td>140 seventh avenue</td>\n",
       "      <td>140 7 avenue</td>\n",
       "    </tr>\n",
       "    <tr>\n",
       "      <th>218291</th>\n",
       "      <td>71</td>\n",
       "      <td>140 seventh avenue</td>\n",
       "      <td>140 7 avenue</td>\n",
       "    </tr>\n",
       "    <tr>\n",
       "      <th>218292</th>\n",
       "      <td>71</td>\n",
       "      <td>140 seventh avenue</td>\n",
       "      <td>140 7 avenue</td>\n",
       "    </tr>\n",
       "    <tr>\n",
       "      <th>88359</th>\n",
       "      <td>71</td>\n",
       "      <td>333 e. 43rd street, 921</td>\n",
       "      <td>333 east 43 street</td>\n",
       "    </tr>\n",
       "    <tr>\n",
       "      <th>...</th>\n",
       "      <td>...</td>\n",
       "      <td>...</td>\n",
       "      <td>...</td>\n",
       "    </tr>\n",
       "    <tr>\n",
       "      <th>90724</th>\n",
       "      <td>98</td>\n",
       "      <td>1342 lexington avenue</td>\n",
       "      <td>1342 lexington avenue</td>\n",
       "    </tr>\n",
       "    <tr>\n",
       "      <th>92504</th>\n",
       "      <td>98</td>\n",
       "      <td>249 central park west</td>\n",
       "      <td>249 central park west</td>\n",
       "    </tr>\n",
       "    <tr>\n",
       "      <th>93051</th>\n",
       "      <td>98</td>\n",
       "      <td>542 cathedral parkway</td>\n",
       "      <td>542 cathedral parkway</td>\n",
       "    </tr>\n",
       "    <tr>\n",
       "      <th>93064</th>\n",
       "      <td>98</td>\n",
       "      <td>933 amsterdam avenue</td>\n",
       "      <td>933 amsterdam avenue</td>\n",
       "    </tr>\n",
       "    <tr>\n",
       "      <th>93329</th>\n",
       "      <td>98</td>\n",
       "      <td>946 st nicholas avenue</td>\n",
       "      <td>946 st nicholas avenue</td>\n",
       "    </tr>\n",
       "    <tr>\n",
       "      <th>93330</th>\n",
       "      <td>98</td>\n",
       "      <td>957 st nicholas avenue</td>\n",
       "      <td>957 st nicholas avenue</td>\n",
       "    </tr>\n",
       "    <tr>\n",
       "      <th>93332</th>\n",
       "      <td>98</td>\n",
       "      <td>955 st nicholas avenue</td>\n",
       "      <td>955 st nicholas avenue</td>\n",
       "    </tr>\n",
       "    <tr>\n",
       "      <th>93353</th>\n",
       "      <td>98</td>\n",
       "      <td>2232 amsterdam avenue</td>\n",
       "      <td>2232 amsterdam avenue</td>\n",
       "    </tr>\n",
       "    <tr>\n",
       "      <th>93359</th>\n",
       "      <td>98</td>\n",
       "      <td>285 ft washington avenue</td>\n",
       "      <td>285 ft washington avenue</td>\n",
       "    </tr>\n",
       "    <tr>\n",
       "      <th>93363</th>\n",
       "      <td>98</td>\n",
       "      <td>961 st nicholas avenue</td>\n",
       "      <td>961 st nicholas avenue</td>\n",
       "    </tr>\n",
       "    <tr>\n",
       "      <th>93438</th>\n",
       "      <td>98</td>\n",
       "      <td>1520 st nicholas avenue</td>\n",
       "      <td>1520 st nicholas avenue</td>\n",
       "    </tr>\n",
       "    <tr>\n",
       "      <th>93448</th>\n",
       "      <td>98</td>\n",
       "      <td>190 wadsworth avenue</td>\n",
       "      <td>190 wadsworth avenue</td>\n",
       "    </tr>\n",
       "    <tr>\n",
       "      <th>93452</th>\n",
       "      <td>98</td>\n",
       "      <td>64 wadsworth terrace</td>\n",
       "      <td>64 wadsworth terrace</td>\n",
       "    </tr>\n",
       "    <tr>\n",
       "      <th>93460</th>\n",
       "      <td>98</td>\n",
       "      <td>500 ft washington avenue</td>\n",
       "      <td>500 ft washington avenue</td>\n",
       "    </tr>\n",
       "    <tr>\n",
       "      <th>93474</th>\n",
       "      <td>98</td>\n",
       "      <td>180 pinehurst avenue</td>\n",
       "      <td>180 pinehurst avenue</td>\n",
       "    </tr>\n",
       "    <tr>\n",
       "      <th>93475</th>\n",
       "      <td>98</td>\n",
       "      <td>180 pinehurst avenue</td>\n",
       "      <td>180 pinehurst avenue</td>\n",
       "    </tr>\n",
       "    <tr>\n",
       "      <th>215484</th>\n",
       "      <td>98</td>\n",
       "      <td>109-15 westside avenue</td>\n",
       "      <td>109-15 westside avenue</td>\n",
       "    </tr>\n",
       "    <tr>\n",
       "      <th>215483</th>\n",
       "      <td>98</td>\n",
       "      <td>109-15 westside avenue</td>\n",
       "      <td>109-15 westside avenue</td>\n",
       "    </tr>\n",
       "    <tr>\n",
       "      <th>215482</th>\n",
       "      <td>98</td>\n",
       "      <td>55-03 van doren street</td>\n",
       "      <td>55-03 van doren street</td>\n",
       "    </tr>\n",
       "    <tr>\n",
       "      <th>215480</th>\n",
       "      <td>98</td>\n",
       "      <td>102-18 radcliff avenue</td>\n",
       "      <td>102-18 radcliff avenue</td>\n",
       "    </tr>\n",
       "    <tr>\n",
       "      <th>93752</th>\n",
       "      <td>98</td>\n",
       "      <td>1588 independence avenue</td>\n",
       "      <td>1588 independence avenue</td>\n",
       "    </tr>\n",
       "    <tr>\n",
       "      <th>93887</th>\n",
       "      <td>98</td>\n",
       "      <td>6811 ridge boulevard</td>\n",
       "      <td>6811 ridge boulevard</td>\n",
       "    </tr>\n",
       "    <tr>\n",
       "      <th>93892</th>\n",
       "      <td>98</td>\n",
       "      <td>6931 ridge boulevard</td>\n",
       "      <td>6931 ridge boulevard</td>\n",
       "    </tr>\n",
       "    <tr>\n",
       "      <th>93894</th>\n",
       "      <td>98</td>\n",
       "      <td>542 bay ridge avenue</td>\n",
       "      <td>542 bay ridge avenue</td>\n",
       "    </tr>\n",
       "    <tr>\n",
       "      <th>93899</th>\n",
       "      <td>98</td>\n",
       "      <td>7006 ridgecrest terrace</td>\n",
       "      <td>7006 ridgecrest terrace</td>\n",
       "    </tr>\n",
       "    <tr>\n",
       "      <th>215432</th>\n",
       "      <td>98</td>\n",
       "      <td>102-29 nicolls avenue</td>\n",
       "      <td>102-29 nicolls avenue</td>\n",
       "    </tr>\n",
       "    <tr>\n",
       "      <th>215431</th>\n",
       "      <td>98</td>\n",
       "      <td>109-06 westside avenue</td>\n",
       "      <td>109-06 westside avenue</td>\n",
       "    </tr>\n",
       "    <tr>\n",
       "      <th>93921</th>\n",
       "      <td>98</td>\n",
       "      <td>7702 ridge boulevard</td>\n",
       "      <td>7702 ridge boulevard</td>\n",
       "    </tr>\n",
       "    <tr>\n",
       "      <th>93965</th>\n",
       "      <td>98</td>\n",
       "      <td>9011 ridge boulevard</td>\n",
       "      <td>9011 ridge boulevard</td>\n",
       "    </tr>\n",
       "    <tr>\n",
       "      <th>87284</th>\n",
       "      <td>98</td>\n",
       "      <td>320 st nicholas avenue</td>\n",
       "      <td>320 st nicholas avenue</td>\n",
       "    </tr>\n",
       "  </tbody>\n",
       "</table>\n",
       "<p>218630 rows × 3 columns</p>\n",
       "</div>"
      ],
      "text/plain": [
       "        Address_match                        ADDRESS                   Address\n",
       "29953              71             661 41 street, 3l              637 41 street\n",
       "128195             71      13 west 13th street, 7as          18 west 14 street\n",
       "128194             71      13 west 13th street, 3as          18 west 14 street\n",
       "128193             71      13 west 13th street, 7ds          18 west 14 street\n",
       "128192             71      13 west 13th street, 6cs          18 west 14 street\n",
       "128190             71      25 west 13th street, 2ln          22 west 14 street\n",
       "218464             71            315 seventh avenue               315 7 avenue\n",
       "128188             71      25 west 13th street, 1hn          22 west 14 street\n",
       "218465             71            315 seventh avenue               315 7 avenue\n",
       "177504             71          180 cabrini blvd, 49      120 cabrini boulevard\n",
       "65444              71             18-05 215 st., 8c           18-05 215 street\n",
       "105760             71     199-08 17th avenue, 2-219           199-01 17 avenue\n",
       "105761             71     199-18 17th avenue, 2-228           199-01 17 avenue\n",
       "105763             71     199-14 17th avenue, 2-223           199-01 17 avenue\n",
       "151363             71      70-20 kissena blvd, 124b    70-04 kissena boulevard\n",
       "105791             71     199-10 21st avenue, 1-330           199-02 21 avenue\n",
       "218463             71            315 seventh avenue               315 7 avenue\n",
       "5196               71                   99-07 207th           99-07 207 street\n",
       "218434             71            245 seventh avenue               245 7 avenue\n",
       "19787              71       225 e. 73rd street, 11b         225 east 73 street\n",
       "11158              71               38-05 65 st, 1a            38-05 65 street\n",
       "226494             71                 606 louisiana       556 louisiana avenue\n",
       "170637             71  44 gramercy park north, 9a/f           44 gramercy park\n",
       "151309             71  152-26 melbourne avenue, 231     69-18 melbourne avenue\n",
       "132019             71       520 e. 72nd street, 16c         520 east 72 street\n",
       "157256             71           98-20 62 drive, 10b             97-40 62 drive\n",
       "218290             71            140 seventh avenue               140 7 avenue\n",
       "218291             71            140 seventh avenue               140 7 avenue\n",
       "218292             71            140 seventh avenue               140 7 avenue\n",
       "88359              71       333 e. 43rd street, 921         333 east 43 street\n",
       "...               ...                            ...                       ...\n",
       "90724              98         1342 lexington avenue      1342 lexington avenue\n",
       "92504              98         249 central park west      249 central park west\n",
       "93051              98         542 cathedral parkway      542 cathedral parkway\n",
       "93064              98          933 amsterdam avenue       933 amsterdam avenue\n",
       "93329              98        946 st nicholas avenue     946 st nicholas avenue\n",
       "93330              98        957 st nicholas avenue     957 st nicholas avenue\n",
       "93332              98        955 st nicholas avenue     955 st nicholas avenue\n",
       "93353              98         2232 amsterdam avenue      2232 amsterdam avenue\n",
       "93359              98      285 ft washington avenue   285 ft washington avenue\n",
       "93363              98        961 st nicholas avenue     961 st nicholas avenue\n",
       "93438              98       1520 st nicholas avenue    1520 st nicholas avenue\n",
       "93448              98          190 wadsworth avenue       190 wadsworth avenue\n",
       "93452              98          64 wadsworth terrace       64 wadsworth terrace\n",
       "93460              98      500 ft washington avenue   500 ft washington avenue\n",
       "93474              98          180 pinehurst avenue       180 pinehurst avenue\n",
       "93475              98          180 pinehurst avenue       180 pinehurst avenue\n",
       "215484             98        109-15 westside avenue     109-15 westside avenue\n",
       "215483             98        109-15 westside avenue     109-15 westside avenue\n",
       "215482             98        55-03 van doren street     55-03 van doren street\n",
       "215480             98        102-18 radcliff avenue     102-18 radcliff avenue\n",
       "93752              98      1588 independence avenue   1588 independence avenue\n",
       "93887              98          6811 ridge boulevard       6811 ridge boulevard\n",
       "93892              98          6931 ridge boulevard       6931 ridge boulevard\n",
       "93894              98          542 bay ridge avenue       542 bay ridge avenue\n",
       "93899              98       7006 ridgecrest terrace    7006 ridgecrest terrace\n",
       "215432             98         102-29 nicolls avenue      102-29 nicolls avenue\n",
       "215431             98        109-06 westside avenue     109-06 westside avenue\n",
       "93921              98          7702 ridge boulevard       7702 ridge boulevard\n",
       "93965              98          9011 ridge boulevard       9011 ridge boulevard\n",
       "87284              98        320 st nicholas avenue     320 st nicholas avenue\n",
       "\n",
       "[218630 rows x 3 columns]"
      ]
     },
     "execution_count": 398,
     "metadata": {},
     "output_type": "execute_result"
    }
   ],
   "source": [
    "df.loc[70<df['Address_match'], ['Address_match','ADDRESS','Address']].sort_values('Address_match')"
   ]
  },
  {
   "cell_type": "code",
   "execution_count": 396,
   "metadata": {
    "collapsed": true
   },
   "outputs": [],
   "source": [
    "def address_to_list(address):\n",
    "    return filter(None, str(address).strip().split(' '))\n",
    "\n",
    "def is_int(s):\n",
    "    try:\n",
    "        int(s)\n",
    "        return True\n",
    "    except ValueError:\n",
    "        return False\n",
    "    \n",
    "def street_num_and_name(address):\n",
    "    address_list = address_to_list(address)\n",
    "    if len(address_list)==0:\n",
    "        return np.nan\n",
    "    else: #Some info in address field\n",
    "        if is_int(address_list[0].split('-')[0]): #note need to split on '-' for queens addresses\n",
    "            street_name = ' '.join(address_list[1:])\n",
    "            street_name_list = street_name.split(',')\n",
    "            if len(street_name_list) == 1:\n",
    "                unit_nums = np.nan\n",
    "            elif len(street_name_list) >= 2:\n",
    "                street_name = street_name_list[0]\n",
    "                unit_nums = street_name_list[1:]\n",
    "            else:\n",
    "                print address\n",
    "                raise ValueError\n",
    "            return address_list[0], street_name, unit_nums\n",
    "        else:\n",
    "            return np.nan, ' '.join(address_list), np.nan\n",
    "        \n",
    "def split_df_address(df, colname):\n",
    "    features = ['Street number','Street name', 'Unit number']\n",
    "    if colname.isupper():\n",
    "        features = [x.upper() for x in features]\n",
    "    df[colname] = df[colname].apply(street_num_and_name)\n",
    "    df[features] = df[colname].apply(pd.Series)"
   ]
  },
  {
   "cell_type": "code",
   "execution_count": null,
   "metadata": {
    "collapsed": true
   },
   "outputs": [],
   "source": []
  }
 ],
 "metadata": {
  "kernelspec": {
   "display_name": "Python 2",
   "language": "python",
   "name": "python2"
  },
  "language_info": {
   "codemirror_mode": {
    "name": "ipython",
    "version": 2
   },
   "file_extension": ".py",
   "mimetype": "text/x-python",
   "name": "python",
   "nbconvert_exporter": "python",
   "pygments_lexer": "ipython2",
   "version": "2.7.10"
  }
 },
 "nbformat": 4,
 "nbformat_minor": 0
}
