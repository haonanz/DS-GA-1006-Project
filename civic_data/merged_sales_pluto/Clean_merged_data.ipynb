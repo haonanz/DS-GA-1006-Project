{
 "cells": [
  {
   "cell_type": "markdown",
   "metadata": {},
   "source": [
    "# Cleaning the merged data:"
   ]
  },
  {
   "cell_type": "markdown",
   "metadata": {},
   "source": [
    "In this notebook, we explore the merged data and attempt to clean the data prior to modeling."
   ]
  },
  {
   "cell_type": "code",
   "execution_count": 11,
   "metadata": {
    "collapsed": true
   },
   "outputs": [],
   "source": [
    "import pandas as pd\n",
    "import numpy as np\n",
    "import matplotlib.pyplot as plt\n",
    "import seaborn as sns\n",
    "%matplotlib inline"
   ]
  },
  {
   "cell_type": "code",
   "execution_count": 2,
   "metadata": {
    "collapsed": true
   },
   "outputs": [],
   "source": [
    "df = pd.read_csv('merged_sales_pluto_data.csv', index_col=None)"
   ]
  },
  {
   "cell_type": "code",
   "execution_count": 3,
   "metadata": {
    "collapsed": false
   },
   "outputs": [
    {
     "data": {
      "text/html": [
       "<div>\n",
       "<table border=\"1\" class=\"dataframe\">\n",
       "  <thead>\n",
       "    <tr style=\"text-align: right;\">\n",
       "      <th></th>\n",
       "      <th>ADDRESS</th>\n",
       "      <th>APARTMENT NUMBER</th>\n",
       "      <th>Address</th>\n",
       "      <th>AssessLand</th>\n",
       "      <th>AssessTot</th>\n",
       "      <th>BLOCK</th>\n",
       "      <th>BOROUGH</th>\n",
       "      <th>BUILDING CLASS AT PRESENT</th>\n",
       "      <th>BUILDING CLASS AT TIME OF SALE</th>\n",
       "      <th>BUILDING CLASS CATEGORY</th>\n",
       "      <th>BldgArea</th>\n",
       "      <th>Block</th>\n",
       "      <th>Borough</th>\n",
       "      <th>COMMERCIAL UNITS</th>\n",
       "      <th>CT2010</th>\n",
       "      <th>CondoNo</th>\n",
       "      <th>EASE-MENT</th>\n",
       "      <th>GROSS SQUARE FEET</th>\n",
       "      <th>LAND SQUARE FEET</th>\n",
       "      <th>LOT</th>\n",
       "      <th>Lot</th>\n",
       "      <th>LotArea</th>\n",
       "      <th>NEIGHBORHOOD</th>\n",
       "      <th>NumBldgs</th>\n",
       "      <th>NumFloors</th>\n",
       "      <th>Pluto_BBL</th>\n",
       "      <th>PolicePrct</th>\n",
       "      <th>RESIDENTIAL UNITS</th>\n",
       "      <th>ResArea</th>\n",
       "      <th>SALE DATE</th>\n",
       "      <th>SALE PRICE</th>\n",
       "      <th>SchoolDist</th>\n",
       "      <th>TAX CLASS AT PRESENT</th>\n",
       "      <th>TAX CLASS AT TIME OF SALE</th>\n",
       "      <th>TOTAL UNITS</th>\n",
       "      <th>YEAR BUILT</th>\n",
       "      <th>YearAlter1</th>\n",
       "      <th>YearAlter2</th>\n",
       "      <th>YearBuilt</th>\n",
       "      <th>ZIP CODE</th>\n",
       "      <th>ZipCode</th>\n",
       "      <th>unit_BBL</th>\n",
       "    </tr>\n",
       "  </thead>\n",
       "  <tbody>\n",
       "    <tr>\n",
       "      <th>0</th>\n",
       "      <td>19-56 81ST   STREET</td>\n",
       "      <td></td>\n",
       "      <td>19-56 81 STREET</td>\n",
       "      <td>8164.0</td>\n",
       "      <td>28531.0</td>\n",
       "      <td>949</td>\n",
       "      <td>4</td>\n",
       "      <td>A5</td>\n",
       "      <td>A5</td>\n",
       "      <td>01  ONE FAMILY HOMES</td>\n",
       "      <td>1224.0</td>\n",
       "      <td>949.0</td>\n",
       "      <td>QN</td>\n",
       "      <td>0</td>\n",
       "      <td>317.00</td>\n",
       "      <td>0.0</td>\n",
       "      <td></td>\n",
       "      <td>1224</td>\n",
       "      <td>1800</td>\n",
       "      <td>38</td>\n",
       "      <td>38.0</td>\n",
       "      <td>1800.0</td>\n",
       "      <td>AIRPORT LA GUARDIA</td>\n",
       "      <td>1.0</td>\n",
       "      <td>2.0</td>\n",
       "      <td>4.009490e+09</td>\n",
       "      <td>114.0</td>\n",
       "      <td>1</td>\n",
       "      <td>1224.0</td>\n",
       "      <td>2011-10-14</td>\n",
       "      <td>0</td>\n",
       "      <td>30.0</td>\n",
       "      <td>1</td>\n",
       "      <td>1</td>\n",
       "      <td>1</td>\n",
       "      <td>1945</td>\n",
       "      <td>0.0</td>\n",
       "      <td>0.0</td>\n",
       "      <td>1945.0</td>\n",
       "      <td>11370</td>\n",
       "      <td>11370.0</td>\n",
       "      <td>4.009490e+09</td>\n",
       "    </tr>\n",
       "    <tr>\n",
       "      <th>1</th>\n",
       "      <td>350 BEACH 40TH STREET</td>\n",
       "      <td></td>\n",
       "      <td>350 BEACH 40 STREET</td>\n",
       "      <td>6008.0</td>\n",
       "      <td>16808.0</td>\n",
       "      <td>15829</td>\n",
       "      <td>4</td>\n",
       "      <td>A5</td>\n",
       "      <td>A5</td>\n",
       "      <td>01  ONE FAMILY HOMES</td>\n",
       "      <td>1502.0</td>\n",
       "      <td>15829.0</td>\n",
       "      <td>QN</td>\n",
       "      <td>0</td>\n",
       "      <td>992.00</td>\n",
       "      <td>0.0</td>\n",
       "      <td></td>\n",
       "      <td>1502</td>\n",
       "      <td>2613</td>\n",
       "      <td>34</td>\n",
       "      <td>34.0</td>\n",
       "      <td>2613.0</td>\n",
       "      <td>ARVERNE</td>\n",
       "      <td>1.0</td>\n",
       "      <td>2.0</td>\n",
       "      <td>4.158290e+09</td>\n",
       "      <td>101.0</td>\n",
       "      <td>1</td>\n",
       "      <td>1502.0</td>\n",
       "      <td>2011-03-07</td>\n",
       "      <td>341360</td>\n",
       "      <td>27.0</td>\n",
       "      <td>1</td>\n",
       "      <td>1</td>\n",
       "      <td>1</td>\n",
       "      <td>2008</td>\n",
       "      <td>0.0</td>\n",
       "      <td>0.0</td>\n",
       "      <td>2008.0</td>\n",
       "      <td>11691</td>\n",
       "      <td>11691.0</td>\n",
       "      <td>4.158290e+09</td>\n",
       "    </tr>\n",
       "    <tr>\n",
       "      <th>2</th>\n",
       "      <td>317 BEACH 40 STREET</td>\n",
       "      <td></td>\n",
       "      <td>317 BEACH 40 STREET</td>\n",
       "      <td>1793.0</td>\n",
       "      <td>3788.0</td>\n",
       "      <td>15830</td>\n",
       "      <td>4</td>\n",
       "      <td>A6</td>\n",
       "      <td>A6</td>\n",
       "      <td>01  ONE FAMILY HOMES</td>\n",
       "      <td>608.0</td>\n",
       "      <td>15830.0</td>\n",
       "      <td>QN</td>\n",
       "      <td>0</td>\n",
       "      <td>992.00</td>\n",
       "      <td>0.0</td>\n",
       "      <td></td>\n",
       "      <td>608</td>\n",
       "      <td>2115</td>\n",
       "      <td>61</td>\n",
       "      <td>61.0</td>\n",
       "      <td>2115.0</td>\n",
       "      <td>ARVERNE</td>\n",
       "      <td>1.0</td>\n",
       "      <td>1.0</td>\n",
       "      <td>4.158300e+09</td>\n",
       "      <td>101.0</td>\n",
       "      <td>1</td>\n",
       "      <td>608.0</td>\n",
       "      <td>2011-03-03</td>\n",
       "      <td>50000</td>\n",
       "      <td>27.0</td>\n",
       "      <td>1</td>\n",
       "      <td>1</td>\n",
       "      <td>1</td>\n",
       "      <td>1920</td>\n",
       "      <td>0.0</td>\n",
       "      <td>0.0</td>\n",
       "      <td>1920.0</td>\n",
       "      <td>11691</td>\n",
       "      <td>11691.0</td>\n",
       "      <td>4.158300e+09</td>\n",
       "    </tr>\n",
       "    <tr>\n",
       "      <th>3</th>\n",
       "      <td>335 BEACH 45TH STREET</td>\n",
       "      <td></td>\n",
       "      <td>335 BEACH 45 STREET</td>\n",
       "      <td>3978.0</td>\n",
       "      <td>9069.0</td>\n",
       "      <td>15837</td>\n",
       "      <td>4</td>\n",
       "      <td>A1</td>\n",
       "      <td>A1</td>\n",
       "      <td>01  ONE FAMILY HOMES</td>\n",
       "      <td>1048.0</td>\n",
       "      <td>15837.0</td>\n",
       "      <td>QN</td>\n",
       "      <td>0</td>\n",
       "      <td>972.04</td>\n",
       "      <td>0.0</td>\n",
       "      <td></td>\n",
       "      <td>1048</td>\n",
       "      <td>2470</td>\n",
       "      <td>56</td>\n",
       "      <td>56.0</td>\n",
       "      <td>2470.0</td>\n",
       "      <td>ARVERNE</td>\n",
       "      <td>1.0</td>\n",
       "      <td>2.0</td>\n",
       "      <td>4.158370e+09</td>\n",
       "      <td>101.0</td>\n",
       "      <td>1</td>\n",
       "      <td>1048.0</td>\n",
       "      <td>2011-07-06</td>\n",
       "      <td>160000</td>\n",
       "      <td>27.0</td>\n",
       "      <td>1</td>\n",
       "      <td>1</td>\n",
       "      <td>1</td>\n",
       "      <td>1925</td>\n",
       "      <td>0.0</td>\n",
       "      <td>0.0</td>\n",
       "      <td>1925.0</td>\n",
       "      <td>11691</td>\n",
       "      <td>11691.0</td>\n",
       "      <td>4.158370e+09</td>\n",
       "    </tr>\n",
       "    <tr>\n",
       "      <th>4</th>\n",
       "      <td>3720 BEACH CHANNEL DRIVE</td>\n",
       "      <td></td>\n",
       "      <td>37-20 BEACH CHANNEL DRIVE</td>\n",
       "      <td>2877.0</td>\n",
       "      <td>14246.0</td>\n",
       "      <td>15954</td>\n",
       "      <td>4</td>\n",
       "      <td>A5</td>\n",
       "      <td>A5</td>\n",
       "      <td>01  ONE FAMILY HOMES</td>\n",
       "      <td>1502.0</td>\n",
       "      <td>15954.0</td>\n",
       "      <td>QN</td>\n",
       "      <td>0</td>\n",
       "      <td>992.00</td>\n",
       "      <td>0.0</td>\n",
       "      <td></td>\n",
       "      <td>1502</td>\n",
       "      <td>2080</td>\n",
       "      <td>87</td>\n",
       "      <td>87.0</td>\n",
       "      <td>2080.0</td>\n",
       "      <td>ARVERNE</td>\n",
       "      <td>1.0</td>\n",
       "      <td>2.0</td>\n",
       "      <td>4.159540e+09</td>\n",
       "      <td>101.0</td>\n",
       "      <td>1</td>\n",
       "      <td>1502.0</td>\n",
       "      <td>2011-01-28</td>\n",
       "      <td>434500</td>\n",
       "      <td>27.0</td>\n",
       "      <td>1</td>\n",
       "      <td>1</td>\n",
       "      <td>1</td>\n",
       "      <td>2008</td>\n",
       "      <td>0.0</td>\n",
       "      <td>0.0</td>\n",
       "      <td>2008.0</td>\n",
       "      <td>11691</td>\n",
       "      <td>11691.0</td>\n",
       "      <td>4.159540e+09</td>\n",
       "    </tr>\n",
       "  </tbody>\n",
       "</table>\n",
       "</div>"
      ],
      "text/plain": [
       "                                     ADDRESS APARTMENT NUMBER  \\\n",
       "0  19-56 81ST   STREET                                          \n",
       "1  350 BEACH 40TH STREET                                        \n",
       "2  317 BEACH 40 STREET                                          \n",
       "3  335 BEACH 45TH STREET                                        \n",
       "4  3720 BEACH CHANNEL DRIVE                                     \n",
       "\n",
       "                     Address  AssessLand  AssessTot  BLOCK  BOROUGH  \\\n",
       "0            19-56 81 STREET      8164.0    28531.0    949        4   \n",
       "1        350 BEACH 40 STREET      6008.0    16808.0  15829        4   \n",
       "2        317 BEACH 40 STREET      1793.0     3788.0  15830        4   \n",
       "3        335 BEACH 45 STREET      3978.0     9069.0  15837        4   \n",
       "4  37-20 BEACH CHANNEL DRIVE      2877.0    14246.0  15954        4   \n",
       "\n",
       "  BUILDING CLASS AT PRESENT BUILDING CLASS AT TIME OF SALE  \\\n",
       "0                        A5                             A5   \n",
       "1                        A5                             A5   \n",
       "2                        A6                             A6   \n",
       "3                        A1                             A1   \n",
       "4                        A5                             A5   \n",
       "\n",
       "                        BUILDING CLASS CATEGORY  BldgArea    Block Borough  \\\n",
       "0  01  ONE FAMILY HOMES                            1224.0    949.0      QN   \n",
       "1  01  ONE FAMILY HOMES                            1502.0  15829.0      QN   \n",
       "2  01  ONE FAMILY HOMES                             608.0  15830.0      QN   \n",
       "3  01  ONE FAMILY HOMES                            1048.0  15837.0      QN   \n",
       "4  01  ONE FAMILY HOMES                            1502.0  15954.0      QN   \n",
       "\n",
       "   COMMERCIAL UNITS  CT2010  CondoNo EASE-MENT  GROSS SQUARE FEET  \\\n",
       "0                 0  317.00      0.0                         1224   \n",
       "1                 0  992.00      0.0                         1502   \n",
       "2                 0  992.00      0.0                          608   \n",
       "3                 0  972.04      0.0                         1048   \n",
       "4                 0  992.00      0.0                         1502   \n",
       "\n",
       "   LAND SQUARE FEET  LOT   Lot  LotArea               NEIGHBORHOOD  NumBldgs  \\\n",
       "0              1800   38  38.0   1800.0  AIRPORT LA GUARDIA              1.0   \n",
       "1              2613   34  34.0   2613.0  ARVERNE                         1.0   \n",
       "2              2115   61  61.0   2115.0  ARVERNE                         1.0   \n",
       "3              2470   56  56.0   2470.0  ARVERNE                         1.0   \n",
       "4              2080   87  87.0   2080.0  ARVERNE                         1.0   \n",
       "\n",
       "   NumFloors     Pluto_BBL  PolicePrct  RESIDENTIAL UNITS  ResArea  \\\n",
       "0        2.0  4.009490e+09       114.0                  1   1224.0   \n",
       "1        2.0  4.158290e+09       101.0                  1   1502.0   \n",
       "2        1.0  4.158300e+09       101.0                  1    608.0   \n",
       "3        2.0  4.158370e+09       101.0                  1   1048.0   \n",
       "4        2.0  4.159540e+09       101.0                  1   1502.0   \n",
       "\n",
       "    SALE DATE  SALE PRICE  SchoolDist TAX CLASS AT PRESENT  \\\n",
       "0  2011-10-14           0        30.0                    1   \n",
       "1  2011-03-07      341360        27.0                    1   \n",
       "2  2011-03-03       50000        27.0                    1   \n",
       "3  2011-07-06      160000        27.0                    1   \n",
       "4  2011-01-28      434500        27.0                    1   \n",
       "\n",
       "   TAX CLASS AT TIME OF SALE  TOTAL UNITS  YEAR BUILT  YearAlter1  YearAlter2  \\\n",
       "0                          1            1        1945         0.0         0.0   \n",
       "1                          1            1        2008         0.0         0.0   \n",
       "2                          1            1        1920         0.0         0.0   \n",
       "3                          1            1        1925         0.0         0.0   \n",
       "4                          1            1        2008         0.0         0.0   \n",
       "\n",
       "   YearBuilt  ZIP CODE  ZipCode      unit_BBL  \n",
       "0     1945.0     11370  11370.0  4.009490e+09  \n",
       "1     2008.0     11691  11691.0  4.158290e+09  \n",
       "2     1920.0     11691  11691.0  4.158300e+09  \n",
       "3     1925.0     11691  11691.0  4.158370e+09  \n",
       "4     2008.0     11691  11691.0  4.159540e+09  "
      ]
     },
     "execution_count": 3,
     "metadata": {},
     "output_type": "execute_result"
    }
   ],
   "source": [
    "pd.set_option('display.max_columns', 500)\n",
    "df.head()"
   ]
  },
  {
   "cell_type": "markdown",
   "metadata": {},
   "source": [
    "## Cleaning Sale Price\n",
    "\n",
    "Our first approach to cleaning the data will be do drop the records where sale price is low (under the assumption this reflects a deed transfer, not a public sale at market price)."
   ]
  },
  {
   "cell_type": "code",
   "execution_count": 7,
   "metadata": {
    "collapsed": false
   },
   "outputs": [
    {
     "data": {
      "image/png": "[encoded data removed]",
      "text/plain": [
       "<matplotlib.figure.Figure at 0x10b6812d0>"
      ]
     },
     "metadata": {},
     "output_type": "display_data"
    }
   ],
   "source": [
    "plt.figure(figsize=(12,8))\n",
    "plt.hist(df.loc[df['SALE PRICE'] < 500000, 'SALE PRICE'].values, bins=100)\n",
    "plt.xlabel('Sale Price')\n",
    "plt.ylabel('Count')\n",
    "plt.title('Sale price for unfiltered data')\n",
    "plt.show()"
   ]
  },
  {
   "cell_type": "code",
   "execution_count": 10,
   "metadata": {
    "collapsed": false
   },
   "outputs": [
    {
     "data": {
      "image/png": "[encoded data removed]",
      "text/plain": [
       "<matplotlib.figure.Figure at 0x10bfa8850>"
      ]
     },
     "metadata": {},
     "output_type": "display_data"
    }
   ],
   "source": [
    "least_reasonable_sale_price = 45394 #Based on street easy scrape\n",
    "\n",
    "df = df.loc[df['SALE PRICE'] > least_reasonable_sale_price, :].reset_index(drop=True)\n",
    "plt.figure(figsize=(12,8))\n",
    "plt.hist(df.loc[df['SALE PRICE'] < 10000000, 'SALE PRICE'].values, bins=100)\n",
    "plt.xlabel('Sale Price')\n",
    "plt.ylabel('Count')\n",
    "plt.title('Sale price for filtered data (sale price > 45394)')\n",
    "plt.show()"
   ]
  },
  {
   "cell_type": "code",
   "execution_count": 9,
   "metadata": {
    "collapsed": false
   },
   "outputs": [
    {
     "data": {
      "text/plain": [
       "(256197, 42)"
      ]
     },
     "execution_count": 9,
     "metadata": {},
     "output_type": "execute_result"
    }
   ],
   "source": [
    "df.shape"
   ]
  },
  {
   "cell_type": "markdown",
   "metadata": {},
   "source": [
    "Now let's tackle zip code:"
   ]
  },
  {
   "cell_type": "code",
   "execution_count": 12,
   "metadata": {
    "collapsed": false
   },
   "outputs": [
    {
     "name": "stdout",
     "output_type": "stream",
     "text": [
      "<class 'pandas.core.frame.DataFrame'>\n",
      "RangeIndex: 256197 entries, 0 to 256196\n",
      "Data columns (total 2 columns):\n",
      "ZIP CODE    256197 non-null int64\n",
      "ZipCode     255313 non-null float64\n",
      "dtypes: float64(1), int64(1)\n",
      "memory usage: 3.9 MB\n"
     ]
    }
   ],
   "source": [
    "df[['ZIP CODE','ZipCode']].info()"
   ]
  },
  {
   "cell_type": "code",
   "execution_count": 13,
   "metadata": {
    "collapsed": false
   },
   "outputs": [
    {
     "data": {
      "text/plain": [
       "251581"
      ]
     },
     "execution_count": 13,
     "metadata": {},
     "output_type": "execute_result"
    }
   ],
   "source": [
    "np.sum(df['ZIP CODE'] == df['ZipCode'])"
   ]
  },
  {
   "cell_type": "markdown",
   "metadata": {},
   "source": [
    "We drop records where these two fields disagree, since this indicates potential data entry or merge errors."
   ]
  },
  {
   "cell_type": "code",
   "execution_count": 14,
   "metadata": {
    "collapsed": false
   },
   "outputs": [],
   "source": [
    "df = df.loc[~((df['ZIP CODE'] != df['ZipCode']) &\n",
    "         (~df['ZIP CODE'].isnull()) &\n",
    "         (~df['ZipCode'].isnull())),:]"
   ]
  },
  {
   "cell_type": "code",
   "execution_count": 15,
   "metadata": {
    "collapsed": false,
    "scrolled": true
   },
   "outputs": [
    {
     "data": {
      "text/plain": [
       "(252465, 42)"
      ]
     },
     "execution_count": 15,
     "metadata": {},
     "output_type": "execute_result"
    }
   ],
   "source": [
    "df.shape"
   ]
  },
  {
   "cell_type": "code",
   "execution_count": 16,
   "metadata": {
    "collapsed": false,
    "scrolled": true
   },
   "outputs": [
    {
     "name": "stdout",
     "output_type": "stream",
     "text": [
      "<class 'pandas.core.frame.DataFrame'>\n",
      "Int64Index: 252465 entries, 0 to 256196\n",
      "Data columns (total 42 columns):\n",
      "ADDRESS                           252465 non-null object\n",
      "APARTMENT NUMBER                  252465 non-null object\n",
      "Address                           251626 non-null object\n",
      "AssessLand                        251627 non-null float64\n",
      "AssessTot                         251627 non-null float64\n",
      "BLOCK                             252465 non-null int64\n",
      "BOROUGH                           252465 non-null int64\n",
      "BUILDING CLASS AT PRESENT         252465 non-null object\n",
      "BUILDING CLASS AT TIME OF SALE    252465 non-null object\n",
      "BUILDING CLASS CATEGORY           252465 non-null object\n",
      "BldgArea                          251627 non-null float64\n",
      "Block                             251627 non-null float64\n",
      "Borough                           251627 non-null object\n",
      "COMMERCIAL UNITS                  252465 non-null int64\n",
      "CT2010                            251601 non-null float64\n",
      "CondoNo                           251627 non-null float64\n",
      "EASE-MENT                         252465 non-null object\n",
      "GROSS SQUARE FEET                 252465 non-null int64\n",
      "LAND SQUARE FEET                  252465 non-null int64\n",
      "LOT                               252465 non-null int64\n",
      "Lot                               251627 non-null float64\n",
      "LotArea                           251627 non-null float64\n",
      "NEIGHBORHOOD                      252465 non-null object\n",
      "NumBldgs                          251627 non-null float64\n",
      "NumFloors                         251627 non-null float64\n",
      "Pluto_BBL                         251627 non-null float64\n",
      "PolicePrct                        251560 non-null float64\n",
      "RESIDENTIAL UNITS                 252465 non-null int64\n",
      "ResArea                           251627 non-null float64\n",
      "SALE DATE                         252465 non-null object\n",
      "SALE PRICE                        252465 non-null int64\n",
      "SchoolDist                        251560 non-null float64\n",
      "TAX CLASS AT PRESENT              252465 non-null object\n",
      "TAX CLASS AT TIME OF SALE         252465 non-null int64\n",
      "TOTAL UNITS                       252465 non-null int64\n",
      "YEAR BUILT                        252465 non-null int64\n",
      "YearAlter1                        251627 non-null float64\n",
      "YearAlter2                        251627 non-null float64\n",
      "YearBuilt                         251627 non-null float64\n",
      "ZIP CODE                          252465 non-null int64\n",
      "ZipCode                           251581 non-null float64\n",
      "unit_BBL                          252465 non-null float64\n",
      "dtypes: float64(19), int64(12), object(11)\n",
      "memory usage: 82.8+ MB\n"
     ]
    }
   ],
   "source": [
    "df.info()"
   ]
  },
  {
   "cell_type": "markdown",
   "metadata": {},
   "source": [
    "Now note ZipCode is a duplicate feature, which we will drop (note we drop ZipCode since it has null entries where ZIP CODE does not):"
   ]
  },
  {
   "cell_type": "code",
   "execution_count": 17,
   "metadata": {
    "collapsed": false
   },
   "outputs": [
    {
     "data": {
      "text/plain": [
       "(252465, 41)"
      ]
     },
     "execution_count": 17,
     "metadata": {},
     "output_type": "execute_result"
    }
   ],
   "source": [
    "df.drop('ZipCode', inplace=True, axis=1)\n",
    "df.shape"
   ]
  },
  {
   "cell_type": "markdown",
   "metadata": {},
   "source": [
    "Next we deal with YearBuilt, YearAlter1, and YearAlter2. We will construct the following features\n",
    "- Building age: 2016-YearBuilt\n",
    "- Number of times altered:\n",
    "    - 0 if YearAlter1 and YearAlter2 missing,\n",
    "    - 1 if YearAlter1 has a valid value and YearAlter2 missing\n",
    "    - 2 if Both non-null\n",
    "- Years since last altered:\n",
    "    - 2016 - max(YearBuilt, YearAlter1, YearAlter2)\n"
   ]
  },
  {
   "cell_type": "code",
   "execution_count": 18,
   "metadata": {
    "collapsed": false
   },
   "outputs": [
    {
     "data": {
      "text/plain": [
       "227117"
      ]
     },
     "execution_count": 18,
     "metadata": {},
     "output_type": "execute_result"
    }
   ],
   "source": [
    "np.sum(df['YearBuilt'] == df['YEAR BUILT'])"
   ]
  },
  {
   "cell_type": "code",
   "execution_count": 19,
   "metadata": {
    "collapsed": false
   },
   "outputs": [],
   "source": [
    "zero_years_replacements = np.max(df.loc[(df['YearBuilt'] == 0) |\n",
    "                                        (df['YEAR BUILT'] == 0),\n",
    "                                        ['YearBuilt','YEAR BUILT']], axis=1)"
   ]
  },
  {
   "cell_type": "code",
   "execution_count": 20,
   "metadata": {
    "collapsed": false
   },
   "outputs": [
    {
     "data": {
      "text/plain": [
       "242570"
      ]
     },
     "execution_count": 20,
     "metadata": {},
     "output_type": "execute_result"
    }
   ],
   "source": [
    "df.loc[(df['YEAR BUILT'] == 0), 'YEAR BUILT'] = zero_years_replacements\n",
    "df.loc[(df['YEAR BUILT'] == 0), 'YEAR BUILT'] = zero_years_replacements\n",
    "np.sum(df['YearBuilt'] == df['YEAR BUILT'])"
   ]
  },
  {
   "cell_type": "code",
   "execution_count": 21,
   "metadata": {
    "collapsed": false,
    "scrolled": true
   },
   "outputs": [
    {
     "data": {
      "text/plain": [
       "YearBuilt     0.0\n",
       "YEAR BUILT    0.0\n",
       "dtype: float64"
      ]
     },
     "execution_count": 21,
     "metadata": {},
     "output_type": "execute_result"
    }
   ],
   "source": [
    "np.sum(df.loc[df['YEAR BUILT'] == 0,['YearBuilt', 'YEAR BUILT']], axis=0)"
   ]
  },
  {
   "cell_type": "code",
   "execution_count": 22,
   "metadata": {
    "collapsed": false
   },
   "outputs": [
    {
     "data": {
      "text/plain": [
       "(1525, 41)"
      ]
     },
     "execution_count": 22,
     "metadata": {},
     "output_type": "execute_result"
    }
   ],
   "source": [
    "df.loc[df['YEAR BUILT'] == 0,:].shape"
   ]
  },
  {
   "cell_type": "markdown",
   "metadata": {},
   "source": [
    "We drop these 1525 records without known building age."
   ]
  },
  {
   "cell_type": "code",
   "execution_count": 23,
   "metadata": {
    "collapsed": false
   },
   "outputs": [
    {
     "data": {
      "text/plain": [
       "(250940, 41)"
      ]
     },
     "execution_count": 23,
     "metadata": {},
     "output_type": "execute_result"
    }
   ],
   "source": [
    "df = df.loc[~(df['YEAR BUILT'] == 0),:]\n",
    "df.shape"
   ]
  },
  {
   "cell_type": "code",
   "execution_count": 24,
   "metadata": {
    "collapsed": false
   },
   "outputs": [
    {
     "name": "stdout",
     "output_type": "stream",
     "text": [
      "<class 'pandas.core.frame.DataFrame'>\n",
      "Int64Index: 250940 entries, 0 to 256196\n",
      "Data columns (total 41 columns):\n",
      "ADDRESS                           250940 non-null object\n",
      "APARTMENT NUMBER                  250940 non-null object\n",
      "Address                           250334 non-null object\n",
      "AssessLand                        250335 non-null float64\n",
      "AssessTot                         250335 non-null float64\n",
      "BLOCK                             250940 non-null int64\n",
      "BOROUGH                           250940 non-null int64\n",
      "BUILDING CLASS AT PRESENT         250940 non-null object\n",
      "BUILDING CLASS AT TIME OF SALE    250940 non-null object\n",
      "BUILDING CLASS CATEGORY           250940 non-null object\n",
      "BldgArea                          250335 non-null float64\n",
      "Block                             250335 non-null float64\n",
      "Borough                           250335 non-null object\n",
      "COMMERCIAL UNITS                  250940 non-null int64\n",
      "CT2010                            250332 non-null float64\n",
      "CondoNo                           250335 non-null float64\n",
      "EASE-MENT                         250940 non-null object\n",
      "GROSS SQUARE FEET                 250940 non-null int64\n",
      "LAND SQUARE FEET                  250940 non-null int64\n",
      "LOT                               250940 non-null int64\n",
      "Lot                               250335 non-null float64\n",
      "LotArea                           250335 non-null float64\n",
      "NEIGHBORHOOD                      250940 non-null object\n",
      "NumBldgs                          250335 non-null float64\n",
      "NumFloors                         250335 non-null float64\n",
      "Pluto_BBL                         250335 non-null float64\n",
      "PolicePrct                        250284 non-null float64\n",
      "RESIDENTIAL UNITS                 250940 non-null int64\n",
      "ResArea                           250335 non-null float64\n",
      "SALE DATE                         250940 non-null object\n",
      "SALE PRICE                        250940 non-null int64\n",
      "SchoolDist                        250284 non-null float64\n",
      "TAX CLASS AT PRESENT              250940 non-null object\n",
      "TAX CLASS AT TIME OF SALE         250940 non-null int64\n",
      "TOTAL UNITS                       250940 non-null int64\n",
      "YEAR BUILT                        250940 non-null float64\n",
      "YearAlter1                        250335 non-null float64\n",
      "YearAlter2                        250335 non-null float64\n",
      "YearBuilt                         250335 non-null float64\n",
      "ZIP CODE                          250940 non-null int64\n",
      "unit_BBL                          250940 non-null float64\n",
      "dtypes: float64(19), int64(11), object(11)\n",
      "memory usage: 80.4+ MB\n"
     ]
    }
   ],
   "source": [
    "df.info()"
   ]
  },
  {
   "cell_type": "code",
   "execution_count": 25,
   "metadata": {
    "collapsed": false
   },
   "outputs": [
    {
     "data": {
      "text/plain": [
       "241278"
      ]
     },
     "execution_count": 25,
     "metadata": {},
     "output_type": "execute_result"
    }
   ],
   "source": [
    "np.sum(df['YearBuilt'] == df['YEAR BUILT'])"
   ]
  },
  {
   "cell_type": "markdown",
   "metadata": {},
   "source": [
    "Now the remaining mismatches between building years indicate likely data entry or merge problems- these records are dropped."
   ]
  },
  {
   "cell_type": "code",
   "execution_count": 26,
   "metadata": {
    "collapsed": false
   },
   "outputs": [
    {
     "data": {
      "text/plain": [
       "(241278, 40)"
      ]
     },
     "execution_count": 26,
     "metadata": {},
     "output_type": "execute_result"
    }
   ],
   "source": [
    "df = df.loc[df['YearBuilt'] == df['YEAR BUILT'],:]\n",
    "df.drop('YearBuilt', axis=1, inplace=True)\n",
    "df.shape"
   ]
  },
  {
   "cell_type": "code",
   "execution_count": 27,
   "metadata": {
    "collapsed": false
   },
   "outputs": [
    {
     "name": "stdout",
     "output_type": "stream",
     "text": [
      "<class 'pandas.core.frame.DataFrame'>\n",
      "Int64Index: 241278 entries, 0 to 256196\n",
      "Data columns (total 40 columns):\n",
      "ADDRESS                           241278 non-null object\n",
      "APARTMENT NUMBER                  241278 non-null object\n",
      "Address                           241278 non-null object\n",
      "AssessLand                        241278 non-null float64\n",
      "AssessTot                         241278 non-null float64\n",
      "BLOCK                             241278 non-null int64\n",
      "BOROUGH                           241278 non-null int64\n",
      "BUILDING CLASS AT PRESENT         241278 non-null object\n",
      "BUILDING CLASS AT TIME OF SALE    241278 non-null object\n",
      "BUILDING CLASS CATEGORY           241278 non-null object\n",
      "BldgArea                          241278 non-null float64\n",
      "Block                             241278 non-null float64\n",
      "Borough                           241278 non-null object\n",
      "COMMERCIAL UNITS                  241278 non-null int64\n",
      "CT2010                            241277 non-null float64\n",
      "CondoNo                           241278 non-null float64\n",
      "EASE-MENT                         241278 non-null object\n",
      "GROSS SQUARE FEET                 241278 non-null int64\n",
      "LAND SQUARE FEET                  241278 non-null int64\n",
      "LOT                               241278 non-null int64\n",
      "Lot                               241278 non-null float64\n",
      "LotArea                           241278 non-null float64\n",
      "NEIGHBORHOOD                      241278 non-null object\n",
      "NumBldgs                          241278 non-null float64\n",
      "NumFloors                         241278 non-null float64\n",
      "Pluto_BBL                         241278 non-null float64\n",
      "PolicePrct                        241241 non-null float64\n",
      "RESIDENTIAL UNITS                 241278 non-null int64\n",
      "ResArea                           241278 non-null float64\n",
      "SALE DATE                         241278 non-null object\n",
      "SALE PRICE                        241278 non-null int64\n",
      "SchoolDist                        241241 non-null float64\n",
      "TAX CLASS AT PRESENT              241278 non-null object\n",
      "TAX CLASS AT TIME OF SALE         241278 non-null int64\n",
      "TOTAL UNITS                       241278 non-null int64\n",
      "YEAR BUILT                        241278 non-null float64\n",
      "YearAlter1                        241278 non-null float64\n",
      "YearAlter2                        241278 non-null float64\n",
      "ZIP CODE                          241278 non-null int64\n",
      "unit_BBL                          241278 non-null float64\n",
      "dtypes: float64(18), int64(11), object(11)\n",
      "memory usage: 75.5+ MB\n"
     ]
    }
   ],
   "source": [
    "df.info()"
   ]
  },
  {
   "cell_type": "code",
   "execution_count": 28,
   "metadata": {
    "collapsed": false
   },
   "outputs": [
    {
     "data": {
      "image/png": "[encoded data removed]",
      "text/plain": [
       "<matplotlib.figure.Figure at 0x10c43f710>"
      ]
     },
     "metadata": {},
     "output_type": "display_data"
    }
   ],
   "source": [
    "plt.hist(df['YEAR BUILT'], bins=100)\n",
    "plt.show()"
   ]
  },
  {
   "cell_type": "code",
   "execution_count": 29,
   "metadata": {
    "collapsed": false
   },
   "outputs": [],
   "source": [
    "df['BuildingAge'] = 2016 - df['YEAR BUILT']"
   ]
  },
  {
   "cell_type": "markdown",
   "metadata": {},
   "source": [
    "Now let's deal with YearAlter1 and YearAlter2"
   ]
  },
  {
   "cell_type": "code",
   "execution_count": 30,
   "metadata": {
    "collapsed": false
   },
   "outputs": [
    {
     "data": {
      "image/png": "[encoded data removed]",
      "text/plain": [
       "<matplotlib.figure.Figure at 0x10c425710>"
      ]
     },
     "metadata": {},
     "output_type": "display_data"
    }
   ],
   "source": [
    "plt.hist(df['YearAlter1'], bins=100)\n",
    "plt.hist(df['YearAlter2'], bins=100)\n",
    "plt.show()"
   ]
  },
  {
   "cell_type": "code",
   "execution_count": 31,
   "metadata": {
    "collapsed": false
   },
   "outputs": [
    {
     "data": {
      "text/plain": [
       "0    192884\n",
       "1     43025\n",
       "2      5369\n",
       "Name: NumRecordedAltered, dtype: int64"
      ]
     },
     "execution_count": 31,
     "metadata": {},
     "output_type": "execute_result"
    }
   ],
   "source": [
    "df['NumRecordedAltered'] = (df['YearAlter1'] != 0).map({True:1, False:0})+ (df['YearAlter2'] != 0).map({True:1, False:0})\n",
    "df['NumRecordedAltered'].value_counts()"
   ]
  },
  {
   "cell_type": "code",
   "execution_count": 32,
   "metadata": {
    "collapsed": true
   },
   "outputs": [],
   "source": [
    "df['YearsSinceLastRecordedAlter'] = 2016 - np.max(df[['YearAlter1','YearAlter2','YEAR BUILT']], axis=1)"
   ]
  },
  {
   "cell_type": "code",
   "execution_count": 33,
   "metadata": {
    "collapsed": false
   },
   "outputs": [
    {
     "data": {
      "text/plain": [
       "96.0     13999\n",
       "86.0     11663\n",
       "91.0     10061\n",
       "66.0      7834\n",
       "106.0     7444\n",
       "9.0       6540\n",
       "56.0      6357\n",
       "76.0      6148\n",
       "11.0      5599\n",
       "28.0      5594\n",
       "8.0       5569\n",
       "29.0      5495\n",
       "10.0      5335\n",
       "61.0      4983\n",
       "30.0      4807\n",
       "117.0     4682\n",
       "85.0      4562\n",
       "115.0     4364\n",
       "31.0      3958\n",
       "51.0      3870\n",
       "81.0      3863\n",
       "27.0      3753\n",
       "7.0       3609\n",
       "4.0       3511\n",
       "3.0       3467\n",
       "5.0       3289\n",
       "12.0      3247\n",
       "71.0      3085\n",
       "53.0      3073\n",
       "101.0     2782\n",
       "         ...  \n",
       "130.0        3\n",
       "122.0        3\n",
       "124.0        3\n",
       "125.0        3\n",
       "176.0        3\n",
       "181.0        2\n",
       "127.0        2\n",
       "174.0        2\n",
       "164.0        2\n",
       "192.0        2\n",
       "170.0        2\n",
       "178.0        1\n",
       "182.0        1\n",
       "175.0        1\n",
       "173.0        1\n",
       "171.0        1\n",
       "184.0        1\n",
       "212.0        1\n",
       "169.0        1\n",
       "165.0        1\n",
       "161.0        1\n",
       "159.0        1\n",
       "158.0        1\n",
       "151.0        1\n",
       "149.0        1\n",
       "147.0        1\n",
       "144.0        1\n",
       "141.0        1\n",
       "139.0        1\n",
       "160.0        1\n",
       "Name: YearsSinceLastRecordedAlter, dtype: int64"
      ]
     },
     "execution_count": 33,
     "metadata": {},
     "output_type": "execute_result"
    }
   ],
   "source": [
    "df['YearsSinceLastRecordedAlter'].value_counts()"
   ]
  },
  {
   "cell_type": "code",
   "execution_count": 34,
   "metadata": {
    "collapsed": false
   },
   "outputs": [
    {
     "data": {
      "image/png": "[encoded data removed]",
      "text/plain": [
       "<matplotlib.figure.Figure at 0x10bc7b690>"
      ]
     },
     "metadata": {},
     "output_type": "display_data"
    }
   ],
   "source": [
    "plt.hist(df['YearsSinceLastRecordedAlter'], bins=100)\n",
    "plt.show()"
   ]
  },
  {
   "cell_type": "code",
   "execution_count": 35,
   "metadata": {
    "collapsed": false
   },
   "outputs": [
    {
     "data": {
      "text/plain": [
       "(241278, 40)"
      ]
     },
     "execution_count": 35,
     "metadata": {},
     "output_type": "execute_result"
    }
   ],
   "source": [
    "df.drop(['YEAR BUILT','YearAlter1','YearAlter2'], axis=1, inplace=True)\n",
    "df.shape"
   ]
  },
  {
   "cell_type": "markdown",
   "metadata": {},
   "source": [
    "We proceed up through the columns- before proceeding, lets look at the df summary:"
   ]
  },
  {
   "cell_type": "code",
   "execution_count": 36,
   "metadata": {
    "collapsed": false
   },
   "outputs": [
    {
     "name": "stderr",
     "output_type": "stream",
     "text": [
      "/Users/benjaminjakubowski/anaconda/lib/python2.7/site-packages/numpy/lib/function_base.py:3834: RuntimeWarning: Invalid value encountered in percentile\n",
      "  RuntimeWarning)\n"
     ]
    },
    {
     "data": {
      "text/html": [
       "<div>\n",
       "<table border=\"1\" class=\"dataframe\">\n",
       "  <thead>\n",
       "    <tr style=\"text-align: right;\">\n",
       "      <th></th>\n",
       "      <th>AssessLand</th>\n",
       "      <th>AssessTot</th>\n",
       "      <th>BLOCK</th>\n",
       "      <th>BOROUGH</th>\n",
       "      <th>BldgArea</th>\n",
       "      <th>Block</th>\n",
       "      <th>COMMERCIAL UNITS</th>\n",
       "      <th>CT2010</th>\n",
       "      <th>CondoNo</th>\n",
       "      <th>GROSS SQUARE FEET</th>\n",
       "      <th>LAND SQUARE FEET</th>\n",
       "      <th>LOT</th>\n",
       "      <th>Lot</th>\n",
       "      <th>LotArea</th>\n",
       "      <th>NumBldgs</th>\n",
       "      <th>NumFloors</th>\n",
       "      <th>Pluto_BBL</th>\n",
       "      <th>PolicePrct</th>\n",
       "      <th>RESIDENTIAL UNITS</th>\n",
       "      <th>ResArea</th>\n",
       "      <th>SALE PRICE</th>\n",
       "      <th>SchoolDist</th>\n",
       "      <th>TAX CLASS AT TIME OF SALE</th>\n",
       "      <th>TOTAL UNITS</th>\n",
       "      <th>ZIP CODE</th>\n",
       "      <th>unit_BBL</th>\n",
       "      <th>BuildingAge</th>\n",
       "      <th>NumRecordedAltered</th>\n",
       "      <th>YearsSinceLastRecordedAlter</th>\n",
       "    </tr>\n",
       "  </thead>\n",
       "  <tbody>\n",
       "    <tr>\n",
       "      <th>count</th>\n",
       "      <td>2.412780e+05</td>\n",
       "      <td>2.412780e+05</td>\n",
       "      <td>241278.000000</td>\n",
       "      <td>241278.000000</td>\n",
       "      <td>2.412780e+05</td>\n",
       "      <td>241278.000000</td>\n",
       "      <td>241278.000000</td>\n",
       "      <td>241277.000000</td>\n",
       "      <td>241278.000000</td>\n",
       "      <td>2.412780e+05</td>\n",
       "      <td>2.412780e+05</td>\n",
       "      <td>241278.000000</td>\n",
       "      <td>241278.000000</td>\n",
       "      <td>2.412780e+05</td>\n",
       "      <td>241278.000000</td>\n",
       "      <td>241278.000000</td>\n",
       "      <td>2.412780e+05</td>\n",
       "      <td>241241.000000</td>\n",
       "      <td>241278.000000</td>\n",
       "      <td>2.412780e+05</td>\n",
       "      <td>2.412780e+05</td>\n",
       "      <td>241241.000000</td>\n",
       "      <td>241278.000000</td>\n",
       "      <td>241278.000000</td>\n",
       "      <td>241278.000000</td>\n",
       "      <td>2.412780e+05</td>\n",
       "      <td>241278.000000</td>\n",
       "      <td>241278.000000</td>\n",
       "      <td>241278.000000</td>\n",
       "    </tr>\n",
       "    <tr>\n",
       "      <th>mean</th>\n",
       "      <td>1.654901e+06</td>\n",
       "      <td>8.698415e+06</td>\n",
       "      <td>3904.019098</td>\n",
       "      <td>2.806012</td>\n",
       "      <td>1.358958e+05</td>\n",
       "      <td>3904.019098</td>\n",
       "      <td>0.047584</td>\n",
       "      <td>379.884969</td>\n",
       "      <td>317.420018</td>\n",
       "      <td>1.953244e+03</td>\n",
       "      <td>1.608034e+03</td>\n",
       "      <td>358.735430</td>\n",
       "      <td>1799.654701</td>\n",
       "      <td>4.196367e+04</td>\n",
       "      <td>3.431627</td>\n",
       "      <td>8.083114</td>\n",
       "      <td>2.845054e+09</td>\n",
       "      <td>69.388425</td>\n",
       "      <td>2.085627</td>\n",
       "      <td>1.019788e+05</td>\n",
       "      <td>1.068565e+06</td>\n",
       "      <td>16.714236</td>\n",
       "      <td>1.561531</td>\n",
       "      <td>2.132739</td>\n",
       "      <td>10798.686059</td>\n",
       "      <td>2.845053e+09</td>\n",
       "      <td>66.878505</td>\n",
       "      <td>0.222826</td>\n",
       "      <td>54.932327</td>\n",
       "    </tr>\n",
       "    <tr>\n",
       "      <th>std</th>\n",
       "      <td>6.309005e+06</td>\n",
       "      <td>2.262752e+07</td>\n",
       "      <td>3487.897723</td>\n",
       "      <td>1.342294</td>\n",
       "      <td>1.050162e+06</td>\n",
       "      <td>3487.897723</td>\n",
       "      <td>0.382697</td>\n",
       "      <td>365.493791</td>\n",
       "      <td>740.993471</td>\n",
       "      <td>2.819449e+04</td>\n",
       "      <td>9.074748e+03</td>\n",
       "      <td>660.729767</td>\n",
       "      <td>3154.394349</td>\n",
       "      <td>2.443311e+05</td>\n",
       "      <td>14.456552</td>\n",
       "      <td>9.969581</td>\n",
       "      <td>1.359532e+09</td>\n",
       "      <td>39.538028</td>\n",
       "      <td>32.236754</td>\n",
       "      <td>2.474517e+05</td>\n",
       "      <td>1.151212e+07</td>\n",
       "      <td>10.775055</td>\n",
       "      <td>0.496201</td>\n",
       "      <td>32.374365</td>\n",
       "      <td>589.638925</td>\n",
       "      <td>1.359533e+09</td>\n",
       "      <td>33.260419</td>\n",
       "      <td>0.466562</td>\n",
       "      <td>35.148949</td>\n",
       "    </tr>\n",
       "    <tr>\n",
       "      <th>min</th>\n",
       "      <td>0.000000e+00</td>\n",
       "      <td>0.000000e+00</td>\n",
       "      <td>1.000000</td>\n",
       "      <td>1.000000</td>\n",
       "      <td>0.000000e+00</td>\n",
       "      <td>1.000000</td>\n",
       "      <td>0.000000</td>\n",
       "      <td>1.000000</td>\n",
       "      <td>0.000000</td>\n",
       "      <td>0.000000e+00</td>\n",
       "      <td>0.000000e+00</td>\n",
       "      <td>1.000000</td>\n",
       "      <td>1.000000</td>\n",
       "      <td>1.000000e+00</td>\n",
       "      <td>0.000000</td>\n",
       "      <td>0.000000</td>\n",
       "      <td>1.000078e+09</td>\n",
       "      <td>1.000000</td>\n",
       "      <td>0.000000</td>\n",
       "      <td>0.000000e+00</td>\n",
       "      <td>4.550000e+04</td>\n",
       "      <td>1.000000</td>\n",
       "      <td>1.000000</td>\n",
       "      <td>0.000000</td>\n",
       "      <td>0.000000</td>\n",
       "      <td>1.000071e+09</td>\n",
       "      <td>0.000000</td>\n",
       "      <td>0.000000</td>\n",
       "      <td>0.000000</td>\n",
       "    </tr>\n",
       "    <tr>\n",
       "      <th>25%</th>\n",
       "      <td>9.649000e+03</td>\n",
       "      <td>2.794500e+04</td>\n",
       "      <td>1215.000000</td>\n",
       "      <td>1.000000</td>\n",
       "      <td>2.025000e+03</td>\n",
       "      <td>1215.000000</td>\n",
       "      <td>0.000000</td>\n",
       "      <td>NaN</td>\n",
       "      <td>0.000000</td>\n",
       "      <td>0.000000e+00</td>\n",
       "      <td>0.000000e+00</td>\n",
       "      <td>20.000000</td>\n",
       "      <td>20.000000</td>\n",
       "      <td>2.500000e+03</td>\n",
       "      <td>1.000000</td>\n",
       "      <td>2.000000</td>\n",
       "      <td>1.016008e+09</td>\n",
       "      <td>NaN</td>\n",
       "      <td>0.000000</td>\n",
       "      <td>1.927000e+03</td>\n",
       "      <td>3.194100e+05</td>\n",
       "      <td>NaN</td>\n",
       "      <td>1.000000</td>\n",
       "      <td>0.000000</td>\n",
       "      <td>10065.000000</td>\n",
       "      <td>1.016001e+09</td>\n",
       "      <td>48.000000</td>\n",
       "      <td>0.000000</td>\n",
       "      <td>26.000000</td>\n",
       "    </tr>\n",
       "    <tr>\n",
       "      <th>50%</th>\n",
       "      <td>7.483900e+04</td>\n",
       "      <td>5.531220e+05</td>\n",
       "      <td>2453.000000</td>\n",
       "      <td>3.000000</td>\n",
       "      <td>1.093600e+04</td>\n",
       "      <td>2453.000000</td>\n",
       "      <td>0.000000</td>\n",
       "      <td>NaN</td>\n",
       "      <td>0.000000</td>\n",
       "      <td>0.000000e+00</td>\n",
       "      <td>0.000000e+00</td>\n",
       "      <td>47.000000</td>\n",
       "      <td>47.000000</td>\n",
       "      <td>5.021000e+03</td>\n",
       "      <td>1.000000</td>\n",
       "      <td>4.000000</td>\n",
       "      <td>3.046500e+09</td>\n",
       "      <td>NaN</td>\n",
       "      <td>1.000000</td>\n",
       "      <td>9.695000e+03</td>\n",
       "      <td>5.140000e+05</td>\n",
       "      <td>NaN</td>\n",
       "      <td>2.000000</td>\n",
       "      <td>1.000000</td>\n",
       "      <td>11206.000000</td>\n",
       "      <td>3.046500e+09</td>\n",
       "      <td>71.000000</td>\n",
       "      <td>0.000000</td>\n",
       "      <td>56.000000</td>\n",
       "    </tr>\n",
       "    <tr>\n",
       "      <th>75%</th>\n",
       "      <td>1.062000e+06</td>\n",
       "      <td>7.027189e+06</td>\n",
       "      <td>5906.000000</td>\n",
       "      <td>4.000000</td>\n",
       "      <td>1.210720e+05</td>\n",
       "      <td>5906.000000</td>\n",
       "      <td>0.000000</td>\n",
       "      <td>NaN</td>\n",
       "      <td>0.000000</td>\n",
       "      <td>1.998000e+03</td>\n",
       "      <td>2.500000e+03</td>\n",
       "      <td>350.000000</td>\n",
       "      <td>353.000000</td>\n",
       "      <td>1.998200e+04</td>\n",
       "      <td>1.000000</td>\n",
       "      <td>9.000000</td>\n",
       "      <td>4.050230e+09</td>\n",
       "      <td>NaN</td>\n",
       "      <td>2.000000</td>\n",
       "      <td>1.146000e+05</td>\n",
       "      <td>8.604210e+05</td>\n",
       "      <td>NaN</td>\n",
       "      <td>2.000000</td>\n",
       "      <td>2.000000</td>\n",
       "      <td>11356.000000</td>\n",
       "      <td>4.050230e+09</td>\n",
       "      <td>91.000000</td>\n",
       "      <td>0.000000</td>\n",
       "      <td>86.000000</td>\n",
       "    </tr>\n",
       "    <tr>\n",
       "      <th>max</th>\n",
       "      <td>1.345064e+08</td>\n",
       "      <td>9.069332e+08</td>\n",
       "      <td>16322.000000</td>\n",
       "      <td>5.000000</td>\n",
       "      <td>4.954783e+07</td>\n",
       "      <td>16322.000000</td>\n",
       "      <td>46.000000</td>\n",
       "      <td>1621.000000</td>\n",
       "      <td>9566.000000</td>\n",
       "      <td>8.942176e+06</td>\n",
       "      <td>2.675000e+06</td>\n",
       "      <td>9112.000000</td>\n",
       "      <td>9008.000000</td>\n",
       "      <td>4.231466e+06</td>\n",
       "      <td>417.000000</td>\n",
       "      <td>119.000000</td>\n",
       "      <td>5.080500e+09</td>\n",
       "      <td>123.000000</td>\n",
       "      <td>8759.000000</td>\n",
       "      <td>8.367942e+06</td>\n",
       "      <td>4.111112e+09</td>\n",
       "      <td>32.000000</td>\n",
       "      <td>2.000000</td>\n",
       "      <td>8805.000000</td>\n",
       "      <td>11694.000000</td>\n",
       "      <td>5.080500e+09</td>\n",
       "      <td>218.000000</td>\n",
       "      <td>2.000000</td>\n",
       "      <td>216.000000</td>\n",
       "    </tr>\n",
       "  </tbody>\n",
       "</table>\n",
       "</div>"
      ],
      "text/plain": [
       "         AssessLand     AssessTot          BLOCK        BOROUGH      BldgArea  \\\n",
       "count  2.412780e+05  2.412780e+05  241278.000000  241278.000000  2.412780e+05   \n",
       "mean   1.654901e+06  8.698415e+06    3904.019098       2.806012  1.358958e+05   \n",
       "std    6.309005e+06  2.262752e+07    3487.897723       1.342294  1.050162e+06   \n",
       "min    0.000000e+00  0.000000e+00       1.000000       1.000000  0.000000e+00   \n",
       "25%    9.649000e+03  2.794500e+04    1215.000000       1.000000  2.025000e+03   \n",
       "50%    7.483900e+04  5.531220e+05    2453.000000       3.000000  1.093600e+04   \n",
       "75%    1.062000e+06  7.027189e+06    5906.000000       4.000000  1.210720e+05   \n",
       "max    1.345064e+08  9.069332e+08   16322.000000       5.000000  4.954783e+07   \n",
       "\n",
       "               Block  COMMERCIAL UNITS         CT2010        CondoNo  \\\n",
       "count  241278.000000     241278.000000  241277.000000  241278.000000   \n",
       "mean     3904.019098          0.047584     379.884969     317.420018   \n",
       "std      3487.897723          0.382697     365.493791     740.993471   \n",
       "min         1.000000          0.000000       1.000000       0.000000   \n",
       "25%      1215.000000          0.000000            NaN       0.000000   \n",
       "50%      2453.000000          0.000000            NaN       0.000000   \n",
       "75%      5906.000000          0.000000            NaN       0.000000   \n",
       "max     16322.000000         46.000000    1621.000000    9566.000000   \n",
       "\n",
       "       GROSS SQUARE FEET  LAND SQUARE FEET            LOT            Lot  \\\n",
       "count       2.412780e+05      2.412780e+05  241278.000000  241278.000000   \n",
       "mean        1.953244e+03      1.608034e+03     358.735430    1799.654701   \n",
       "std         2.819449e+04      9.074748e+03     660.729767    3154.394349   \n",
       "min         0.000000e+00      0.000000e+00       1.000000       1.000000   \n",
       "25%         0.000000e+00      0.000000e+00      20.000000      20.000000   \n",
       "50%         0.000000e+00      0.000000e+00      47.000000      47.000000   \n",
       "75%         1.998000e+03      2.500000e+03     350.000000     353.000000   \n",
       "max         8.942176e+06      2.675000e+06    9112.000000    9008.000000   \n",
       "\n",
       "            LotArea       NumBldgs      NumFloors     Pluto_BBL  \\\n",
       "count  2.412780e+05  241278.000000  241278.000000  2.412780e+05   \n",
       "mean   4.196367e+04       3.431627       8.083114  2.845054e+09   \n",
       "std    2.443311e+05      14.456552       9.969581  1.359532e+09   \n",
       "min    1.000000e+00       0.000000       0.000000  1.000078e+09   \n",
       "25%    2.500000e+03       1.000000       2.000000  1.016008e+09   \n",
       "50%    5.021000e+03       1.000000       4.000000  3.046500e+09   \n",
       "75%    1.998200e+04       1.000000       9.000000  4.050230e+09   \n",
       "max    4.231466e+06     417.000000     119.000000  5.080500e+09   \n",
       "\n",
       "          PolicePrct  RESIDENTIAL UNITS       ResArea    SALE PRICE  \\\n",
       "count  241241.000000      241278.000000  2.412780e+05  2.412780e+05   \n",
       "mean       69.388425           2.085627  1.019788e+05  1.068565e+06   \n",
       "std        39.538028          32.236754  2.474517e+05  1.151212e+07   \n",
       "min         1.000000           0.000000  0.000000e+00  4.550000e+04   \n",
       "25%              NaN           0.000000  1.927000e+03  3.194100e+05   \n",
       "50%              NaN           1.000000  9.695000e+03  5.140000e+05   \n",
       "75%              NaN           2.000000  1.146000e+05  8.604210e+05   \n",
       "max       123.000000        8759.000000  8.367942e+06  4.111112e+09   \n",
       "\n",
       "          SchoolDist  TAX CLASS AT TIME OF SALE    TOTAL UNITS       ZIP CODE  \\\n",
       "count  241241.000000              241278.000000  241278.000000  241278.000000   \n",
       "mean       16.714236                   1.561531       2.132739   10798.686059   \n",
       "std        10.775055                   0.496201      32.374365     589.638925   \n",
       "min         1.000000                   1.000000       0.000000       0.000000   \n",
       "25%              NaN                   1.000000       0.000000   10065.000000   \n",
       "50%              NaN                   2.000000       1.000000   11206.000000   \n",
       "75%              NaN                   2.000000       2.000000   11356.000000   \n",
       "max        32.000000                   2.000000    8805.000000   11694.000000   \n",
       "\n",
       "           unit_BBL    BuildingAge  NumRecordedAltered  \\\n",
       "count  2.412780e+05  241278.000000       241278.000000   \n",
       "mean   2.845053e+09      66.878505            0.222826   \n",
       "std    1.359533e+09      33.260419            0.466562   \n",
       "min    1.000071e+09       0.000000            0.000000   \n",
       "25%    1.016001e+09      48.000000            0.000000   \n",
       "50%    3.046500e+09      71.000000            0.000000   \n",
       "75%    4.050230e+09      91.000000            0.000000   \n",
       "max    5.080500e+09     218.000000            2.000000   \n",
       "\n",
       "       YearsSinceLastRecordedAlter  \n",
       "count                241278.000000  \n",
       "mean                     54.932327  \n",
       "std                      35.148949  \n",
       "min                       0.000000  \n",
       "25%                      26.000000  \n",
       "50%                      56.000000  \n",
       "75%                      86.000000  \n",
       "max                     216.000000  "
      ]
     },
     "execution_count": 36,
     "metadata": {},
     "output_type": "execute_result"
    }
   ],
   "source": [
    "df.describe()"
   ]
  },
  {
   "cell_type": "markdown",
   "metadata": {},
   "source": [
    "First thing I notice is zip code = 0. This indicates a misentered value:"
   ]
  },
  {
   "cell_type": "code",
   "execution_count": 37,
   "metadata": {
    "collapsed": false
   },
   "outputs": [
    {
     "data": {
      "text/plain": [
       "(2, 40)"
      ]
     },
     "execution_count": 37,
     "metadata": {},
     "output_type": "execute_result"
    }
   ],
   "source": [
    "df.loc[df['ZIP CODE']==0,:].shape"
   ]
  },
  {
   "cell_type": "markdown",
   "metadata": {},
   "source": [
    "It looks like this only occurs twice- let's drop those rows."
   ]
  },
  {
   "cell_type": "code",
   "execution_count": 38,
   "metadata": {
    "collapsed": false,
    "scrolled": true
   },
   "outputs": [
    {
     "data": {
      "text/plain": [
       "(241276, 40)"
      ]
     },
     "execution_count": 38,
     "metadata": {},
     "output_type": "execute_result"
    }
   ],
   "source": [
    "df = df.loc[~(df['ZIP CODE']==0),:]\n",
    "df.shape"
   ]
  },
  {
   "cell_type": "markdown",
   "metadata": {},
   "source": [
    "Let's continue this cleaning:"
   ]
  },
  {
   "cell_type": "code",
   "execution_count": 39,
   "metadata": {
    "collapsed": false,
    "scrolled": true
   },
   "outputs": [
    {
     "name": "stdout",
     "output_type": "stream",
     "text": [
      "<class 'pandas.core.frame.DataFrame'>\n",
      "Int64Index: 241276 entries, 0 to 256196\n",
      "Data columns (total 40 columns):\n",
      "ADDRESS                           241276 non-null object\n",
      "APARTMENT NUMBER                  241276 non-null object\n",
      "Address                           241276 non-null object\n",
      "AssessLand                        241276 non-null float64\n",
      "AssessTot                         241276 non-null float64\n",
      "BLOCK                             241276 non-null int64\n",
      "BOROUGH                           241276 non-null int64\n",
      "BUILDING CLASS AT PRESENT         241276 non-null object\n",
      "BUILDING CLASS AT TIME OF SALE    241276 non-null object\n",
      "BUILDING CLASS CATEGORY           241276 non-null object\n",
      "BldgArea                          241276 non-null float64\n",
      "Block                             241276 non-null float64\n",
      "Borough                           241276 non-null object\n",
      "COMMERCIAL UNITS                  241276 non-null int64\n",
      "CT2010                            241275 non-null float64\n",
      "CondoNo                           241276 non-null float64\n",
      "EASE-MENT                         241276 non-null object\n",
      "GROSS SQUARE FEET                 241276 non-null int64\n",
      "LAND SQUARE FEET                  241276 non-null int64\n",
      "LOT                               241276 non-null int64\n",
      "Lot                               241276 non-null float64\n",
      "LotArea                           241276 non-null float64\n",
      "NEIGHBORHOOD                      241276 non-null object\n",
      "NumBldgs                          241276 non-null float64\n",
      "NumFloors                         241276 non-null float64\n",
      "Pluto_BBL                         241276 non-null float64\n",
      "PolicePrct                        241239 non-null float64\n",
      "RESIDENTIAL UNITS                 241276 non-null int64\n",
      "ResArea                           241276 non-null float64\n",
      "SALE DATE                         241276 non-null object\n",
      "SALE PRICE                        241276 non-null int64\n",
      "SchoolDist                        241239 non-null float64\n",
      "TAX CLASS AT PRESENT              241276 non-null object\n",
      "TAX CLASS AT TIME OF SALE         241276 non-null int64\n",
      "TOTAL UNITS                       241276 non-null int64\n",
      "ZIP CODE                          241276 non-null int64\n",
      "unit_BBL                          241276 non-null float64\n",
      "BuildingAge                       241276 non-null float64\n",
      "NumRecordedAltered                241276 non-null int64\n",
      "YearsSinceLastRecordedAlter       241276 non-null float64\n",
      "dtypes: float64(17), int64(12), object(11)\n",
      "memory usage: 75.5+ MB\n"
     ]
    }
   ],
   "source": [
    "df.info()"
   ]
  },
  {
   "cell_type": "markdown",
   "metadata": {},
   "source": [
    "Note at this point there are only 38 records with missing values, out of 241k records- these records are dropped since they represent a trivial subset of the data."
   ]
  },
  {
   "cell_type": "code",
   "execution_count": 40,
   "metadata": {
    "collapsed": false,
    "scrolled": true
   },
   "outputs": [
    {
     "name": "stdout",
     "output_type": "stream",
     "text": [
      "<class 'pandas.core.frame.DataFrame'>\n",
      "Int64Index: 241238 entries, 0 to 256196\n",
      "Data columns (total 40 columns):\n",
      "ADDRESS                           241238 non-null object\n",
      "APARTMENT NUMBER                  241238 non-null object\n",
      "Address                           241238 non-null object\n",
      "AssessLand                        241238 non-null float64\n",
      "AssessTot                         241238 non-null float64\n",
      "BLOCK                             241238 non-null int64\n",
      "BOROUGH                           241238 non-null int64\n",
      "BUILDING CLASS AT PRESENT         241238 non-null object\n",
      "BUILDING CLASS AT TIME OF SALE    241238 non-null object\n",
      "BUILDING CLASS CATEGORY           241238 non-null object\n",
      "BldgArea                          241238 non-null float64\n",
      "Block                             241238 non-null float64\n",
      "Borough                           241238 non-null object\n",
      "COMMERCIAL UNITS                  241238 non-null int64\n",
      "CT2010                            241238 non-null float64\n",
      "CondoNo                           241238 non-null float64\n",
      "EASE-MENT                         241238 non-null object\n",
      "GROSS SQUARE FEET                 241238 non-null int64\n",
      "LAND SQUARE FEET                  241238 non-null int64\n",
      "LOT                               241238 non-null int64\n",
      "Lot                               241238 non-null float64\n",
      "LotArea                           241238 non-null float64\n",
      "NEIGHBORHOOD                      241238 non-null object\n",
      "NumBldgs                          241238 non-null float64\n",
      "NumFloors                         241238 non-null float64\n",
      "Pluto_BBL                         241238 non-null float64\n",
      "PolicePrct                        241238 non-null float64\n",
      "RESIDENTIAL UNITS                 241238 non-null int64\n",
      "ResArea                           241238 non-null float64\n",
      "SALE DATE                         241238 non-null object\n",
      "SALE PRICE                        241238 non-null int64\n",
      "SchoolDist                        241238 non-null float64\n",
      "TAX CLASS AT PRESENT              241238 non-null object\n",
      "TAX CLASS AT TIME OF SALE         241238 non-null int64\n",
      "TOTAL UNITS                       241238 non-null int64\n",
      "ZIP CODE                          241238 non-null int64\n",
      "unit_BBL                          241238 non-null float64\n",
      "BuildingAge                       241238 non-null float64\n",
      "NumRecordedAltered                241238 non-null int64\n",
      "YearsSinceLastRecordedAlter       241238 non-null float64\n",
      "dtypes: float64(17), int64(12), object(11)\n",
      "memory usage: 75.5+ MB\n"
     ]
    }
   ],
   "source": [
    "df = df.dropna(axis=0, how='any')\n",
    "df.info()"
   ]
  },
  {
   "cell_type": "markdown",
   "metadata": {},
   "source": [
    "Next, we drop the feature \"EASEMENT\" and 'CondoNo':"
   ]
  },
  {
   "cell_type": "code",
   "execution_count": 41,
   "metadata": {
    "collapsed": false
   },
   "outputs": [],
   "source": [
    "df.drop(['EASE-MENT','CondoNo'], axis=1, inplace=True)"
   ]
  },
  {
   "cell_type": "code",
   "execution_count": 42,
   "metadata": {
    "collapsed": false
   },
   "outputs": [
    {
     "data": {
      "text/html": [
       "<div>\n",
       "<table border=\"1\" class=\"dataframe\">\n",
       "  <thead>\n",
       "    <tr style=\"text-align: right;\">\n",
       "      <th></th>\n",
       "      <th>AssessLand</th>\n",
       "      <th>AssessTot</th>\n",
       "      <th>BLOCK</th>\n",
       "      <th>BOROUGH</th>\n",
       "      <th>BldgArea</th>\n",
       "      <th>Block</th>\n",
       "      <th>COMMERCIAL UNITS</th>\n",
       "      <th>CT2010</th>\n",
       "      <th>GROSS SQUARE FEET</th>\n",
       "      <th>LAND SQUARE FEET</th>\n",
       "      <th>LOT</th>\n",
       "      <th>Lot</th>\n",
       "      <th>LotArea</th>\n",
       "      <th>NumBldgs</th>\n",
       "      <th>NumFloors</th>\n",
       "      <th>Pluto_BBL</th>\n",
       "      <th>PolicePrct</th>\n",
       "      <th>RESIDENTIAL UNITS</th>\n",
       "      <th>ResArea</th>\n",
       "      <th>SALE PRICE</th>\n",
       "      <th>SchoolDist</th>\n",
       "      <th>TAX CLASS AT TIME OF SALE</th>\n",
       "      <th>TOTAL UNITS</th>\n",
       "      <th>ZIP CODE</th>\n",
       "      <th>unit_BBL</th>\n",
       "      <th>BuildingAge</th>\n",
       "      <th>NumRecordedAltered</th>\n",
       "      <th>YearsSinceLastRecordedAlter</th>\n",
       "    </tr>\n",
       "  </thead>\n",
       "  <tbody>\n",
       "    <tr>\n",
       "      <th>count</th>\n",
       "      <td>2.412380e+05</td>\n",
       "      <td>2.412380e+05</td>\n",
       "      <td>241238.000000</td>\n",
       "      <td>241238.000000</td>\n",
       "      <td>2.412380e+05</td>\n",
       "      <td>241238.000000</td>\n",
       "      <td>241238.000000</td>\n",
       "      <td>241238.000000</td>\n",
       "      <td>2.412380e+05</td>\n",
       "      <td>2.412380e+05</td>\n",
       "      <td>241238.000000</td>\n",
       "      <td>241238.000000</td>\n",
       "      <td>2.412380e+05</td>\n",
       "      <td>241238.000000</td>\n",
       "      <td>241238.000000</td>\n",
       "      <td>2.412380e+05</td>\n",
       "      <td>241238.000000</td>\n",
       "      <td>241238.000000</td>\n",
       "      <td>2.412380e+05</td>\n",
       "      <td>2.412380e+05</td>\n",
       "      <td>241238.000000</td>\n",
       "      <td>241238.000000</td>\n",
       "      <td>241238.000000</td>\n",
       "      <td>241238.000000</td>\n",
       "      <td>2.412380e+05</td>\n",
       "      <td>241238.000000</td>\n",
       "      <td>241238.000000</td>\n",
       "      <td>241238.000000</td>\n",
       "    </tr>\n",
       "    <tr>\n",
       "      <th>mean</th>\n",
       "      <td>1.655144e+06</td>\n",
       "      <td>8.699634e+06</td>\n",
       "      <td>3903.536963</td>\n",
       "      <td>2.805665</td>\n",
       "      <td>1.359029e+05</td>\n",
       "      <td>3903.536963</td>\n",
       "      <td>0.047592</td>\n",
       "      <td>379.913049</td>\n",
       "      <td>1.953558e+03</td>\n",
       "      <td>1.608265e+03</td>\n",
       "      <td>358.631882</td>\n",
       "      <td>1798.801412</td>\n",
       "      <td>4.193631e+04</td>\n",
       "      <td>3.415619</td>\n",
       "      <td>8.084127</td>\n",
       "      <td>2.844702e+09</td>\n",
       "      <td>69.388144</td>\n",
       "      <td>2.085807</td>\n",
       "      <td>1.019803e+05</td>\n",
       "      <td>1.068696e+06</td>\n",
       "      <td>16.714174</td>\n",
       "      <td>1.561624</td>\n",
       "      <td>2.132927</td>\n",
       "      <td>10798.848361</td>\n",
       "      <td>2.844701e+09</td>\n",
       "      <td>66.884322</td>\n",
       "      <td>0.222863</td>\n",
       "      <td>54.936163</td>\n",
       "    </tr>\n",
       "    <tr>\n",
       "      <th>std</th>\n",
       "      <td>6.309500e+06</td>\n",
       "      <td>2.262920e+07</td>\n",
       "      <td>3487.958464</td>\n",
       "      <td>1.342119</td>\n",
       "      <td>1.050249e+06</td>\n",
       "      <td>3487.958464</td>\n",
       "      <td>0.382728</td>\n",
       "      <td>365.516642</td>\n",
       "      <td>2.819681e+04</td>\n",
       "      <td>9.075478e+03</td>\n",
       "      <td>660.727511</td>\n",
       "      <td>3153.859744</td>\n",
       "      <td>2.443409e+05</td>\n",
       "      <td>14.399623</td>\n",
       "      <td>9.970096</td>\n",
       "      <td>1.359355e+09</td>\n",
       "      <td>39.538018</td>\n",
       "      <td>32.239423</td>\n",
       "      <td>2.474719e+05</td>\n",
       "      <td>1.151307e+07</td>\n",
       "      <td>10.775051</td>\n",
       "      <td>0.496189</td>\n",
       "      <td>32.377045</td>\n",
       "      <td>588.835133</td>\n",
       "      <td>1.359356e+09</td>\n",
       "      <td>33.260020</td>\n",
       "      <td>0.466592</td>\n",
       "      <td>35.150517</td>\n",
       "    </tr>\n",
       "    <tr>\n",
       "      <th>min</th>\n",
       "      <td>0.000000e+00</td>\n",
       "      <td>0.000000e+00</td>\n",
       "      <td>1.000000</td>\n",
       "      <td>1.000000</td>\n",
       "      <td>0.000000e+00</td>\n",
       "      <td>1.000000</td>\n",
       "      <td>0.000000</td>\n",
       "      <td>1.000000</td>\n",
       "      <td>0.000000e+00</td>\n",
       "      <td>0.000000e+00</td>\n",
       "      <td>1.000000</td>\n",
       "      <td>1.000000</td>\n",
       "      <td>1.000000e+00</td>\n",
       "      <td>0.000000</td>\n",
       "      <td>0.000000</td>\n",
       "      <td>1.000078e+09</td>\n",
       "      <td>1.000000</td>\n",
       "      <td>0.000000</td>\n",
       "      <td>0.000000e+00</td>\n",
       "      <td>4.550000e+04</td>\n",
       "      <td>1.000000</td>\n",
       "      <td>1.000000</td>\n",
       "      <td>0.000000</td>\n",
       "      <td>10001.000000</td>\n",
       "      <td>1.000071e+09</td>\n",
       "      <td>0.000000</td>\n",
       "      <td>0.000000</td>\n",
       "      <td>0.000000</td>\n",
       "    </tr>\n",
       "    <tr>\n",
       "      <th>25%</th>\n",
       "      <td>9.648000e+03</td>\n",
       "      <td>2.794500e+04</td>\n",
       "      <td>1215.000000</td>\n",
       "      <td>1.000000</td>\n",
       "      <td>2.025000e+03</td>\n",
       "      <td>1215.000000</td>\n",
       "      <td>0.000000</td>\n",
       "      <td>126.000000</td>\n",
       "      <td>0.000000e+00</td>\n",
       "      <td>0.000000e+00</td>\n",
       "      <td>20.000000</td>\n",
       "      <td>20.000000</td>\n",
       "      <td>2.500000e+03</td>\n",
       "      <td>1.000000</td>\n",
       "      <td>2.000000</td>\n",
       "      <td>1.016008e+09</td>\n",
       "      <td>24.000000</td>\n",
       "      <td>0.000000</td>\n",
       "      <td>1.926000e+03</td>\n",
       "      <td>3.197652e+05</td>\n",
       "      <td>3.000000</td>\n",
       "      <td>1.000000</td>\n",
       "      <td>0.000000</td>\n",
       "      <td>10065.000000</td>\n",
       "      <td>1.016001e+09</td>\n",
       "      <td>48.000000</td>\n",
       "      <td>0.000000</td>\n",
       "      <td>26.000000</td>\n",
       "    </tr>\n",
       "    <tr>\n",
       "      <th>50%</th>\n",
       "      <td>7.470000e+04</td>\n",
       "      <td>5.525000e+05</td>\n",
       "      <td>2452.000000</td>\n",
       "      <td>3.000000</td>\n",
       "      <td>1.091700e+04</td>\n",
       "      <td>2452.000000</td>\n",
       "      <td>0.000000</td>\n",
       "      <td>232.000000</td>\n",
       "      <td>0.000000e+00</td>\n",
       "      <td>0.000000e+00</td>\n",
       "      <td>47.000000</td>\n",
       "      <td>47.000000</td>\n",
       "      <td>5.020000e+03</td>\n",
       "      <td>1.000000</td>\n",
       "      <td>4.000000</td>\n",
       "      <td>3.046450e+09</td>\n",
       "      <td>75.000000</td>\n",
       "      <td>1.000000</td>\n",
       "      <td>9.682000e+03</td>\n",
       "      <td>5.140000e+05</td>\n",
       "      <td>19.000000</td>\n",
       "      <td>2.000000</td>\n",
       "      <td>1.000000</td>\n",
       "      <td>11206.000000</td>\n",
       "      <td>3.046450e+09</td>\n",
       "      <td>71.000000</td>\n",
       "      <td>0.000000</td>\n",
       "      <td>56.000000</td>\n",
       "    </tr>\n",
       "    <tr>\n",
       "      <th>75%</th>\n",
       "      <td>1.062000e+06</td>\n",
       "      <td>7.027650e+06</td>\n",
       "      <td>5906.000000</td>\n",
       "      <td>4.000000</td>\n",
       "      <td>1.210720e+05</td>\n",
       "      <td>5906.000000</td>\n",
       "      <td>0.000000</td>\n",
       "      <td>548.000000</td>\n",
       "      <td>1.998000e+03</td>\n",
       "      <td>2.500000e+03</td>\n",
       "      <td>350.000000</td>\n",
       "      <td>350.000000</td>\n",
       "      <td>1.998000e+04</td>\n",
       "      <td>1.000000</td>\n",
       "      <td>9.000000</td>\n",
       "      <td>4.050230e+09</td>\n",
       "      <td>108.000000</td>\n",
       "      <td>2.000000</td>\n",
       "      <td>1.146000e+05</td>\n",
       "      <td>8.608750e+05</td>\n",
       "      <td>27.000000</td>\n",
       "      <td>2.000000</td>\n",
       "      <td>2.000000</td>\n",
       "      <td>11356.000000</td>\n",
       "      <td>4.050230e+09</td>\n",
       "      <td>91.000000</td>\n",
       "      <td>0.000000</td>\n",
       "      <td>86.000000</td>\n",
       "    </tr>\n",
       "    <tr>\n",
       "      <th>max</th>\n",
       "      <td>1.345064e+08</td>\n",
       "      <td>9.069332e+08</td>\n",
       "      <td>16322.000000</td>\n",
       "      <td>5.000000</td>\n",
       "      <td>4.954783e+07</td>\n",
       "      <td>16322.000000</td>\n",
       "      <td>46.000000</td>\n",
       "      <td>1621.000000</td>\n",
       "      <td>8.942176e+06</td>\n",
       "      <td>2.675000e+06</td>\n",
       "      <td>9112.000000</td>\n",
       "      <td>9008.000000</td>\n",
       "      <td>4.231466e+06</td>\n",
       "      <td>417.000000</td>\n",
       "      <td>119.000000</td>\n",
       "      <td>5.080500e+09</td>\n",
       "      <td>123.000000</td>\n",
       "      <td>8759.000000</td>\n",
       "      <td>8.367942e+06</td>\n",
       "      <td>4.111112e+09</td>\n",
       "      <td>32.000000</td>\n",
       "      <td>2.000000</td>\n",
       "      <td>8805.000000</td>\n",
       "      <td>11694.000000</td>\n",
       "      <td>5.080500e+09</td>\n",
       "      <td>218.000000</td>\n",
       "      <td>2.000000</td>\n",
       "      <td>216.000000</td>\n",
       "    </tr>\n",
       "  </tbody>\n",
       "</table>\n",
       "</div>"
      ],
      "text/plain": [
       "         AssessLand     AssessTot          BLOCK        BOROUGH      BldgArea  \\\n",
       "count  2.412380e+05  2.412380e+05  241238.000000  241238.000000  2.412380e+05   \n",
       "mean   1.655144e+06  8.699634e+06    3903.536963       2.805665  1.359029e+05   \n",
       "std    6.309500e+06  2.262920e+07    3487.958464       1.342119  1.050249e+06   \n",
       "min    0.000000e+00  0.000000e+00       1.000000       1.000000  0.000000e+00   \n",
       "25%    9.648000e+03  2.794500e+04    1215.000000       1.000000  2.025000e+03   \n",
       "50%    7.470000e+04  5.525000e+05    2452.000000       3.000000  1.091700e+04   \n",
       "75%    1.062000e+06  7.027650e+06    5906.000000       4.000000  1.210720e+05   \n",
       "max    1.345064e+08  9.069332e+08   16322.000000       5.000000  4.954783e+07   \n",
       "\n",
       "               Block  COMMERCIAL UNITS         CT2010  GROSS SQUARE FEET  \\\n",
       "count  241238.000000     241238.000000  241238.000000       2.412380e+05   \n",
       "mean     3903.536963          0.047592     379.913049       1.953558e+03   \n",
       "std      3487.958464          0.382728     365.516642       2.819681e+04   \n",
       "min         1.000000          0.000000       1.000000       0.000000e+00   \n",
       "25%      1215.000000          0.000000     126.000000       0.000000e+00   \n",
       "50%      2452.000000          0.000000     232.000000       0.000000e+00   \n",
       "75%      5906.000000          0.000000     548.000000       1.998000e+03   \n",
       "max     16322.000000         46.000000    1621.000000       8.942176e+06   \n",
       "\n",
       "       LAND SQUARE FEET            LOT            Lot       LotArea  \\\n",
       "count      2.412380e+05  241238.000000  241238.000000  2.412380e+05   \n",
       "mean       1.608265e+03     358.631882    1798.801412  4.193631e+04   \n",
       "std        9.075478e+03     660.727511    3153.859744  2.443409e+05   \n",
       "min        0.000000e+00       1.000000       1.000000  1.000000e+00   \n",
       "25%        0.000000e+00      20.000000      20.000000  2.500000e+03   \n",
       "50%        0.000000e+00      47.000000      47.000000  5.020000e+03   \n",
       "75%        2.500000e+03     350.000000     350.000000  1.998000e+04   \n",
       "max        2.675000e+06    9112.000000    9008.000000  4.231466e+06   \n",
       "\n",
       "            NumBldgs      NumFloors     Pluto_BBL     PolicePrct  \\\n",
       "count  241238.000000  241238.000000  2.412380e+05  241238.000000   \n",
       "mean        3.415619       8.084127  2.844702e+09      69.388144   \n",
       "std        14.399623       9.970096  1.359355e+09      39.538018   \n",
       "min         0.000000       0.000000  1.000078e+09       1.000000   \n",
       "25%         1.000000       2.000000  1.016008e+09      24.000000   \n",
       "50%         1.000000       4.000000  3.046450e+09      75.000000   \n",
       "75%         1.000000       9.000000  4.050230e+09     108.000000   \n",
       "max       417.000000     119.000000  5.080500e+09     123.000000   \n",
       "\n",
       "       RESIDENTIAL UNITS       ResArea    SALE PRICE     SchoolDist  \\\n",
       "count      241238.000000  2.412380e+05  2.412380e+05  241238.000000   \n",
       "mean            2.085807  1.019803e+05  1.068696e+06      16.714174   \n",
       "std            32.239423  2.474719e+05  1.151307e+07      10.775051   \n",
       "min             0.000000  0.000000e+00  4.550000e+04       1.000000   \n",
       "25%             0.000000  1.926000e+03  3.197652e+05       3.000000   \n",
       "50%             1.000000  9.682000e+03  5.140000e+05      19.000000   \n",
       "75%             2.000000  1.146000e+05  8.608750e+05      27.000000   \n",
       "max          8759.000000  8.367942e+06  4.111112e+09      32.000000   \n",
       "\n",
       "       TAX CLASS AT TIME OF SALE    TOTAL UNITS       ZIP CODE      unit_BBL  \\\n",
       "count              241238.000000  241238.000000  241238.000000  2.412380e+05   \n",
       "mean                    1.561624       2.132927   10798.848361  2.844701e+09   \n",
       "std                     0.496189      32.377045     588.835133  1.359356e+09   \n",
       "min                     1.000000       0.000000   10001.000000  1.000071e+09   \n",
       "25%                     1.000000       0.000000   10065.000000  1.016001e+09   \n",
       "50%                     2.000000       1.000000   11206.000000  3.046450e+09   \n",
       "75%                     2.000000       2.000000   11356.000000  4.050230e+09   \n",
       "max                     2.000000    8805.000000   11694.000000  5.080500e+09   \n",
       "\n",
       "         BuildingAge  NumRecordedAltered  YearsSinceLastRecordedAlter  \n",
       "count  241238.000000       241238.000000                241238.000000  \n",
       "mean       66.884322            0.222863                    54.936163  \n",
       "std        33.260020            0.466592                    35.150517  \n",
       "min         0.000000            0.000000                     0.000000  \n",
       "25%        48.000000            0.000000                    26.000000  \n",
       "50%        71.000000            0.000000                    56.000000  \n",
       "75%        91.000000            0.000000                    86.000000  \n",
       "max       218.000000            2.000000                   216.000000  "
      ]
     },
     "execution_count": 42,
     "metadata": {},
     "output_type": "execute_result"
    }
   ],
   "source": [
    "df.describe()"
   ]
  },
  {
   "cell_type": "code",
   "execution_count": 43,
   "metadata": {
    "collapsed": false
   },
   "outputs": [],
   "source": [
    "summ = df.describe()"
   ]
  },
  {
   "cell_type": "code",
   "execution_count": 44,
   "metadata": {
    "collapsed": false
   },
   "outputs": [
    {
     "data": {
      "image/png": "[encoded data removed]",
      "text/plain": [
       "<matplotlib.figure.Figure at 0x10b598d10>"
      ]
     },
     "metadata": {},
     "output_type": "display_data"
    },
    {
     "data": {
      "image/png": "[encoded data removed]",
      "text/plain": [
       "<matplotlib.figure.Figure at 0x10cb33890>"
      ]
     },
     "metadata": {},
     "output_type": "display_data"
    },
    {
     "data": {
      "image/png": "[encoded data removed]",
      "text/plain": [
       "<matplotlib.figure.Figure at 0x10c130410>"
      ]
     },
     "metadata": {},
     "output_type": "display_data"
    },
    {
     "data": {
      "image/png": "[encoded data removed]",
      "text/plain": [
       "<matplotlib.figure.Figure at 0x10bc49550>"
      ]
     },
     "metadata": {},
     "output_type": "display_data"
    },
    {
     "data": {
      "image/png": "[encoded data removed]",
      "text/plain": [
       "<matplotlib.figure.Figure at 0x10c0940d0>"
      ]
     },
     "metadata": {},
     "output_type": "display_data"
    },
    {
     "data": {
      "image/png": "[encoded data removed]",
      "text/plain": [
       "<matplotlib.figure.Figure at 0x10b66c710>"
      ]
     },
     "metadata": {},
     "output_type": "display_data"
    },
    {
     "data": {
      "image/png": "[encoded data removed]",
      "text/plain": [
       "<matplotlib.figure.Figure at 0x10aff7f10>"
      ]
     },
     "metadata": {},
     "output_type": "display_data"
    },
    {
     "data": {
      "image/png": "[encoded data removed]",
      "text/plain": [
       "<matplotlib.figure.Figure at 0x10a927dd0>"
      ]
     },
     "metadata": {},
     "output_type": "display_data"
    },
    {
     "data": {
      "image/png": "[encoded data removed]",
      "text/plain": [
       "<matplotlib.figure.Figure at 0x10b517610>"
      ]
     },
     "metadata": {},
     "output_type": "display_data"
    },
    {
     "data": {
      "image/png": "[encoded data removed]",
      "text/plain": [
       "<matplotlib.figure.Figure at 0x10aeb7950>"
      ]
     },
     "metadata": {},
     "output_type": "display_data"
    },
    {
     "data": {
      "image/png": "[encoded data removed]",
      "text/plain": [
       "<matplotlib.figure.Figure at 0x10c1b4290>"
      ]
     },
     "metadata": {},
     "output_type": "display_data"
    },
    {
     "data": {
      "image/png": "[encoded data removed]",
      "text/plain": [
       "<matplotlib.figure.Figure at 0x10c16bb90>"
      ]
     },
     "metadata": {},
     "output_type": "display_data"
    },
    {
     "data": {
      "image/png": "[encoded data removed]",
      "text/plain": [
       "<matplotlib.figure.Figure at 0x10bc6ab10>"
      ]
     },
     "metadata": {},
     "output_type": "display_data"
    },
    {
     "data": {
      "image/png": "[encoded data removed]",
      "text/plain": [
       "<matplotlib.figure.Figure at 0x10b048310>"
      ]
     },
     "metadata": {},
     "output_type": "display_data"
    },
    {
     "data": {
      "image/png": "[encoded data removed]",
      "text/plain": [
       "<matplotlib.figure.Figure at 0x10b058150>"
      ]
     },
     "metadata": {},
     "output_type": "display_data"
    },
    {
     "data": {
      "image/png": "[encoded data removed]",
      "text/plain": [
       "<matplotlib.figure.Figure at 0x10b0cfbd0>"
      ]
     },
     "metadata": {},
     "output_type": "display_data"
    },
    {
     "data": {
      "image/png": "[encoded data removed]",
      "text/plain": [
       "<matplotlib.figure.Figure at 0x10c498d10>"
      ]
     },
     "metadata": {},
     "output_type": "display_data"
    },
    {
     "data": {
      "image/png": "[encoded data removed]",
      "text/plain": [
       "<matplotlib.figure.Figure at 0x10c4a5c50>"
      ]
     },
     "metadata": {},
     "output_type": "display_data"
    },
    {
     "data": {
      "image/png": "[encoded data removed]",
      "text/plain": [
       "<matplotlib.figure.Figure at 0x10c143050>"
      ]
     },
     "metadata": {},
     "output_type": "display_data"
    },
    {
     "data": {
      "image/png": "[encoded data removed]",
      "text/plain": [
       "<matplotlib.figure.Figure at 0x10b518750>"
      ]
     },
     "metadata": {},
     "output_type": "display_data"
    },
    {
     "data": {
      "image/png": "[encoded data removed]",
      "text/plain": [
       "<matplotlib.figure.Figure at 0x10b624b90>"
      ]
     },
     "metadata": {},
     "output_type": "display_data"
    },
    {
     "data": {
      "image/png": "[encoded data removed]",
      "text/plain": [
       "<matplotlib.figure.Figure at 0x10b5d1ed0>"
      ]
     },
     "metadata": {},
     "output_type": "display_data"
    },
    {
     "data": {
      "image/png": "[encoded data removed]",
      "text/plain": [
       "<matplotlib.figure.Figure at 0x10c41dcd0>"
      ]
     },
     "metadata": {},
     "output_type": "display_data"
    },
    {
     "data": {
      "image/png": "[encoded data removed]",
      "text/plain": [
       "<matplotlib.figure.Figure at 0x10c0b7f90>"
      ]
     },
     "metadata": {},
     "output_type": "display_data"
    },
    {
     "data": {
      "image/png": "[encoded data removed]",
      "text/plain": [
       "<matplotlib.figure.Figure at 0x10bb74950>"
      ]
     },
     "metadata": {},
     "output_type": "display_data"
    },
    {
     "data": {
      "image/png": "[encoded data removed]",
      "text/plain": [
       "<matplotlib.figure.Figure at 0x10c130b10>"
      ]
     },
     "metadata": {},
     "output_type": "display_data"
    },
    {
     "data": {
      "image/png": "[encoded data removed]",
      "text/plain": [
       "<matplotlib.figure.Figure at 0x10bb77150>"
      ]
     },
     "metadata": {},
     "output_type": "display_data"
    },
    {
     "data": {
      "image/png": "[encoded data removed]",
      "text/plain": [
       "<matplotlib.figure.Figure at 0x10bfe8750>"
      ]
     },
     "metadata": {},
     "output_type": "display_data"
    }
   ],
   "source": [
    "for column in summ.columns:\n",
    "    if summ.loc['75%',column] > 0: #handle commercial units\n",
    "        diff = summ.loc['max',column] / summ.loc['75%',column]\n",
    "    else:\n",
    "        diff = 1\n",
    "    if diff > 10:\n",
    "        plt.hist(df.loc[df[column] < summ.loc['75%',column],column].values,bins=50)\n",
    "    else:\n",
    "        plt.hist(df[column],bins=50)\n",
    "    plt.title(column)\n",
    "    plt.show()"
   ]
  },
  {
   "cell_type": "code",
   "execution_count": 45,
   "metadata": {
    "collapsed": false
   },
   "outputs": [
    {
     "name": "stderr",
     "output_type": "stream",
     "text": [
      "/Users/benjaminjakubowski/anaconda/lib/python2.7/site-packages/fuzzywuzzy/fuzz.py:35: UserWarning: Using slow pure-python SequenceMatcher. Install python-Levenshtein to remove this warning\n",
      "  warnings.warn('Using slow pure-python SequenceMatcher. Install python-Levenshtein to remove this warning')\n"
     ]
    },
    {
     "data": {
      "text/plain": [
       "63"
      ]
     },
     "execution_count": 45,
     "metadata": {},
     "output_type": "execute_result"
    }
   ],
   "source": [
    "from fuzzywuzzy import fuzz\n",
    "from fuzzywuzzy import process\n",
    "\n",
    "fuzz.ratio(df.loc[0,'ADDRESS'], df.loc[0,'Address'])"
   ]
  },
  {
   "cell_type": "code",
   "execution_count": 46,
   "metadata": {
    "collapsed": false
   },
   "outputs": [
    {
     "data": {
      "text/plain": [
       "'350 BEACH 40TH STREET                    '"
      ]
     },
     "execution_count": 46,
     "metadata": {},
     "output_type": "execute_result"
    }
   ],
   "source": [
    "df.loc[0,'ADDRESS']"
   ]
  },
  {
   "cell_type": "code",
   "execution_count": 47,
   "metadata": {
    "collapsed": false
   },
   "outputs": [
    {
     "data": {
      "text/plain": [
       "'350 BEACH 40 STREET'"
      ]
     },
     "execution_count": 47,
     "metadata": {},
     "output_type": "execute_result"
    }
   ],
   "source": [
    "df.loc[0,'Address']"
   ]
  },
  {
   "cell_type": "code",
   "execution_count": 48,
   "metadata": {
    "collapsed": false
   },
   "outputs": [],
   "source": [
    "df['ADDRESS'] = df['ADDRESS'].str.replace(r'\\s+',' ').str.lower()"
   ]
  },
  {
   "cell_type": "code",
   "execution_count": 49,
   "metadata": {
    "collapsed": false
   },
   "outputs": [],
   "source": [
    "df['Address'] = df['Address'].str.replace(r'\\s+',' ').str.lower()"
   ]
  },
  {
   "cell_type": "code",
   "execution_count": 50,
   "metadata": {
    "collapsed": false
   },
   "outputs": [
    {
     "data": {
      "text/plain": [
       "93"
      ]
     },
     "execution_count": 50,
     "metadata": {},
     "output_type": "execute_result"
    }
   ],
   "source": [
    "fuzz.ratio(df.loc[0,'ADDRESS'], df.loc[0,'Address'])"
   ]
  },
  {
   "cell_type": "code",
   "execution_count": 51,
   "metadata": {
    "collapsed": false
   },
   "outputs": [
    {
     "data": {
      "text/plain": [
       "'350 beach 40th street '"
      ]
     },
     "execution_count": 51,
     "metadata": {},
     "output_type": "execute_result"
    }
   ],
   "source": [
    "df.loc[0,'ADDRESS']"
   ]
  },
  {
   "cell_type": "code",
   "execution_count": 52,
   "metadata": {
    "collapsed": false
   },
   "outputs": [
    {
     "data": {
      "text/plain": [
       "'350 beach 40 street'"
      ]
     },
     "execution_count": 52,
     "metadata": {},
     "output_type": "execute_result"
    }
   ],
   "source": [
    "df.loc[0,'Address']"
   ]
  },
  {
   "cell_type": "code",
   "execution_count": 53,
   "metadata": {
    "collapsed": false,
    "scrolled": true
   },
   "outputs": [],
   "source": [
    "df['Address_match'] = df.apply(lambda row: fuzz.ratio(row['ADDRESS'], row['Address']), axis=1)"
   ]
  },
  {
   "cell_type": "code",
   "execution_count": 54,
   "metadata": {
    "collapsed": false
   },
   "outputs": [
    {
     "data": {
      "image/png": "[encoded data removed]",
      "text/plain": [
       "<matplotlib.figure.Figure at 0x10ffb5910>"
      ]
     },
     "metadata": {},
     "output_type": "display_data"
    }
   ],
   "source": [
    "plt.figure(figsize=(12,8))\n",
    "plt.hist(df['Address_match'], bins=100)\n",
    "plt.title('Similarity between Sales.Address and PLUTO.Address')\n",
    "plt.ylabel('Count')\n",
    "plt.xlabel(\"Similary (using edit distance)\")\n",
    "plt.show()"
   ]
  },
  {
   "cell_type": "code",
   "execution_count": 55,
   "metadata": {
    "collapsed": true
   },
   "outputs": [],
   "source": [
    "sample = np.random.choice(df.index, 10)"
   ]
  },
  {
   "cell_type": "code",
   "execution_count": 56,
   "metadata": {
    "collapsed": false
   },
   "outputs": [
    {
     "data": {
      "text/html": [
       "<div>\n",
       "<table border=\"1\" class=\"dataframe\">\n",
       "  <thead>\n",
       "    <tr style=\"text-align: right;\">\n",
       "      <th></th>\n",
       "      <th>Address_match</th>\n",
       "      <th>ADDRESS</th>\n",
       "      <th>Address</th>\n",
       "    </tr>\n",
       "  </thead>\n",
       "  <tbody>\n",
       "    <tr>\n",
       "      <th>217810</th>\n",
       "      <td>21</td>\n",
       "      <td>1585 odell street</td>\n",
       "      <td>14 metropolitan oval</td>\n",
       "    </tr>\n",
       "    <tr>\n",
       "      <th>50236</th>\n",
       "      <td>22</td>\n",
       "      <td>245 east 54 street, 24p</td>\n",
       "      <td>1035 2 avenue</td>\n",
       "    </tr>\n",
       "    <tr>\n",
       "      <th>153868</th>\n",
       "      <td>91</td>\n",
       "      <td>162-25 96th street</td>\n",
       "      <td>162-25 96 street</td>\n",
       "    </tr>\n",
       "    <tr>\n",
       "      <th>106708</th>\n",
       "      <td>96</td>\n",
       "      <td>117 noel road</td>\n",
       "      <td>117 noel road</td>\n",
       "    </tr>\n",
       "    <tr>\n",
       "      <th>56647</th>\n",
       "      <td>97</td>\n",
       "      <td>2128 70 street</td>\n",
       "      <td>2128 70 street</td>\n",
       "    </tr>\n",
       "    <tr>\n",
       "      <th>112518</th>\n",
       "      <td>97</td>\n",
       "      <td>70-50 broadway</td>\n",
       "      <td>70-50 broadway</td>\n",
       "    </tr>\n",
       "    <tr>\n",
       "      <th>186644</th>\n",
       "      <td>97</td>\n",
       "      <td>2622 mill avenue</td>\n",
       "      <td>2622 mill avenue</td>\n",
       "    </tr>\n",
       "    <tr>\n",
       "      <th>199287</th>\n",
       "      <td>97</td>\n",
       "      <td>58 strong place</td>\n",
       "      <td>58 strong place</td>\n",
       "    </tr>\n",
       "    <tr>\n",
       "      <th>143558</th>\n",
       "      <td>97</td>\n",
       "      <td>50 clear water road</td>\n",
       "      <td>50 clear water road</td>\n",
       "    </tr>\n",
       "    <tr>\n",
       "      <th>164741</th>\n",
       "      <td>98</td>\n",
       "      <td>1364 bronx river avenue</td>\n",
       "      <td>1364 bronx river avenue</td>\n",
       "    </tr>\n",
       "  </tbody>\n",
       "</table>\n",
       "</div>"
      ],
      "text/plain": [
       "        Address_match                   ADDRESS                  Address\n",
       "217810             21        1585 odell street      14 metropolitan oval\n",
       "50236              22  245 east 54 street, 24p             1035 2 avenue\n",
       "153868             91       162-25 96th street          162-25 96 street\n",
       "106708             96            117 noel road             117 noel road\n",
       "56647              97           2128 70 street            2128 70 street\n",
       "112518             97           70-50 broadway            70-50 broadway\n",
       "186644             97         2622 mill avenue          2622 mill avenue\n",
       "199287             97          58 strong place           58 strong place\n",
       "143558             97      50 clear water road       50 clear water road\n",
       "164741             98  1364 bronx river avenue   1364 bronx river avenue"
      ]
     },
     "execution_count": 56,
     "metadata": {},
     "output_type": "execute_result"
    }
   ],
   "source": [
    "df.loc[sample, ['Address_match','ADDRESS','Address']].sort_values('Address_match')"
   ]
  },
  {
   "cell_type": "code",
   "execution_count": 396,
   "metadata": {
    "collapsed": true
   },
   "outputs": [],
   "source": [
    "def address_to_list(address):\n",
    "    return filter(None, str(address).strip().split(' '))\n",
    "\n",
    "def is_int(s):\n",
    "    try:\n",
    "        int(s)\n",
    "        return True\n",
    "    except ValueError:\n",
    "        return False\n",
    "    \n",
    "def street_num_and_name(address):\n",
    "    address_list = address_to_list(address)\n",
    "    if len(address_list)==0:\n",
    "        return np.nan\n",
    "    else: #Some info in address field\n",
    "        if is_int(address_list[0].split('-')[0]): #note need to split on '-' for queens addresses\n",
    "            street_name = ' '.join(address_list[1:])\n",
    "            street_name_list = street_name.split(',')\n",
    "            if len(street_name_list) == 1:\n",
    "                unit_nums = np.nan\n",
    "            elif len(street_name_list) >= 2:\n",
    "                street_name = street_name_list[0]\n",
    "                unit_nums = street_name_list[1:]\n",
    "            else:\n",
    "                print address\n",
    "                raise ValueError\n",
    "            return address_list[0], street_name, unit_nums\n",
    "        else:\n",
    "            return np.nan, ' '.join(address_list), np.nan\n",
    "        \n",
    "def split_df_address(df, colname):\n",
    "    features = ['Street number','Street name', 'Unit number']\n",
    "    if colname.isupper():\n",
    "        features = [x.upper() for x in features]\n",
    "    df[colname] = df[colname].apply(street_num_and_name)\n",
    "    df[features] = df[colname].apply(pd.Series)"
   ]
  },
  {
   "cell_type": "code",
   "execution_count": null,
   "metadata": {
    "collapsed": true
   },
   "outputs": [],
   "source": []
  }
 ],
 "metadata": {
  "kernelspec": {
   "display_name": "Python 2",
   "language": "python",
   "name": "python2"
  },
  "language_info": {
   "codemirror_mode": {
    "name": "ipython",
    "version": 2
   },
   "file_extension": ".py",
   "mimetype": "text/x-python",
   "name": "python",
   "nbconvert_exporter": "python",
   "pygments_lexer": "ipython2",
   "version": "2.7.10"
  }
 },
 "nbformat": 4,
 "nbformat_minor": 0
}
