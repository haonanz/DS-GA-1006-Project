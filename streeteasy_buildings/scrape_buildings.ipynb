{
 "cells": [
  {
   "cell_type": "markdown",
   "metadata": {},
   "source": [
    "# Getting all historic sales off streeteasy\n",
    "\n",
    "In this notebook, we present an alternate webscraping approach to getting historic sales data off streeteasy. Our previous approach involved paging through current sale pages. Unfortunately this does not allow us to construct a training set.\n",
    "\n",
    "In this notebook, we present an alternate approach (that unfortunately may not scale). Specifically, we\n",
    "1. Page through NYC buildings (approximately 10.3k pages of buildings) to get the urls for each building.\n",
    "2. Parse the building page in order to construct the url that will give us access to all historic sales in that building.\n",
    "3. Scrape these historic sale tables to get:\n",
    "    - Sale price\n",
    "    - Sale date\n",
    "    - Unit number\n",
    "    - URL corresponding to the sale (page gives granular features about the unit).\n",
    "\n",
    "Unfortunately, this approach is not particular efficient, since it requires approximately:\n",
    "- 10.3k calls to get the building urls\n",
    "- 126k calls to get the building pages (approximately 126k buildings in the streeteasy NYC dataset)\n",
    "- 126k calls to get the historic sale tables from the building pages\n",
    "- An unknown number of sale pages (some multiplicative factor of 126k).\n",
    "\n",
    "A (potentially) more efficient approach is to:\n",
    "- Randomly sample from the building pages (i.e. random draw from 1 to 10.3k)\n",
    "- Scrap the historic sale tables for these buildings to determine an approximate range of identifiers for sales (sale pages are indexed integers over an unknown range).\n",
    "- Try fetching all pages corresponding to sales in this range, ignoring 404 return codes.\n"
   ]
  },
  {
   "cell_type": "markdown",
   "metadata": {},
   "source": [
    "# Step 1: Page through NYC buildings"
   ]
  },
  {
   "cell_type": "code",
   "execution_count": 78,
   "metadata": {
    "collapsed": true
   },
   "outputs": [],
   "source": [
    "import urllib2\n",
    "from BeautifulSoup import BeautifulSoup\n",
    "import re\n",
    "import numpy as np\n",
    "import pandas as pd\n",
    "\n",
    "def get_all_building_urls(test=True, test_num=15):\n",
    "    #Get first page\n",
    "    base_url = 'http://streeteasy.com/buildings/nyc'\n",
    "    page = urllib2.urlopen(base_url)\n",
    "    soup = BeautifulSoup(page.read())\n",
    "    urls = soup.findAll(\"div\", {\"class\": \"details-title\"})\n",
    "    hrefs = [x.find('a', href=True)['href'] for x in urls]\n",
    "    \n",
    "    #Get number of pages\n",
    "    num_pages = soup.findAll('span', {'class':'page'})[-1]\n",
    "    num_pages = int(num_pages.find('a').contents[0])\n",
    "    \n",
    "    if test:\n",
    "        pagelimit = test_num\n",
    "    else:\n",
    "        pagelimit = num_pages\n",
    "        \n",
    "    #get rest of pages:\n",
    "    for page in range(2,pagelimit):\n",
    "        if page % 10 == 0:\n",
    "            print page\n",
    "        page_url = base_url + \"?page={}\".format(page)\n",
    "        page = urllib2.urlopen(page_url)\n",
    "        soup = BeautifulSoup(page.read())\n",
    "        urls = soup.findAll(\"div\", {\"class\": \"details-title\"})\n",
    "        new_hrefs = [x.find('a', href=True)['href'] for x in urls]\n",
    "        hrefs.extend(new_hrefs)\n",
    "    return hrefs"
   ]
  },
  {
   "cell_type": "code",
   "execution_count": 82,
   "metadata": {
    "collapsed": true
   },
   "outputs": [],
   "source": [
    "def get_all_building_urls_regex(test=True, test_num=15):\n",
    "    #Alternate approach just pattern matching\n",
    "    \n",
    "    #Get first page using beautiful soup (to find num pages)\n",
    "    base_url = 'http://streeteasy.com/buildings/nyc'\n",
    "    page = urllib2.urlopen(base_url)\n",
    "    soup = BeautifulSoup(page.read())\n",
    "    urls = soup.findAll(\"div\", {\"class\": \"details-title\"})\n",
    "    hrefs = [x.find('a', href=True)['href'] for x in urls]\n",
    "    \n",
    "    #Get number of pages\n",
    "    num_pages = soup.findAll('span', {'class':'page'})[-1]\n",
    "    num_pages = int(num_pages.find('a').contents[0])\n",
    "    \n",
    "    if test:\n",
    "        pagelimit = test_num\n",
    "    else:\n",
    "        pagelimit = num_pages\n",
    "        \n",
    "    #get rest of pages using regex match:\n",
    "    for page in range(2,pagelimit):\n",
    "        if page % 10 == 0:\n",
    "            print page\n",
    "        page_url = base_url + \"?page={}\".format(page)\n",
    "        page = urllib2.urlopen(page_url)\n",
    "        text = page.read()\n",
    "        new_hrefs = list(set(re.findall('/building/[^\\s/\"]*', text)))\n",
    "        hrefs.extend(new_hrefs)\n",
    "    return hrefs"
   ]
  },
  {
   "cell_type": "code",
   "execution_count": 83,
   "metadata": {
    "collapsed": false,
    "scrolled": false
   },
   "outputs": [
    {
     "name": "stdout",
     "output_type": "stream",
     "text": [
      "10\n",
      "CPU times: user 12.9 s, sys: 286 ms, total: 13.2 s\n",
      "Wall time: 39.6 s\n",
      "10\n",
      "CPU times: user 999 ms, sys: 82.7 ms, total: 1.08 s\n",
      "Wall time: 26.1 s\n",
      "True\n"
     ]
    }
   ],
   "source": [
    "%time get_all_building_urls()\n",
    "%time first_15 = get_all_building_urls_regex()\n",
    "\n",
    "#time magic doesn't suppress output\n",
    "done = True\n",
    "print done"
   ]
  },
  {
   "cell_type": "markdown",
   "metadata": {},
   "source": [
    "### Time estimate:\n",
    "\n",
    "Assuming linear runtime with number of pages, this implies it'll take about\n",
    "\n",
    "$$11.8s *(10300/15 pages) * 1/60 (min/sec)$$\n",
    "\n",
    "or approximately 2 hours to get all buildings."
   ]
  },
  {
   "cell_type": "markdown",
   "metadata": {},
   "source": [
    "# Step 2: Get past sale tables"
   ]
  },
  {
   "cell_type": "code",
   "execution_count": 74,
   "metadata": {
    "collapsed": true
   },
   "outputs": [],
   "source": [
    "#Get past sales for a building:\n",
    "def parse_row(row):\n",
    "    '''\n",
    "    Helper function to parse table of past sales for buildings.\n",
    "    '''\n",
    "    try:\n",
    "        cols = row.findAll('td')\n",
    "        date = cols[0].contents[0].strip()\n",
    "        sale_url = re.search(r'/sale/[0-9]*', str(cols[0].contents[1])).group(0)\n",
    "        unit = cols[1].find('a').contents[0]\n",
    "        sale_price = cols[2].find('span', {'class':'price'}).contents[0].replace('$','').replace(',','').strip()\n",
    "        return {'Date':date, 'URL':sale_url, 'Unit':unit, 'Price': sale_price}\n",
    "    except:\n",
    "        return {'Date':np.nan, 'URL':np.nan, 'Unit':np.nan, 'Price': np.nan}\n",
    "\n",
    "def get_all_building_sales(building_url):\n",
    "    build_url = 'http://streeteasy.com/{}#tab_building_detail=2'.format(building_url)\n",
    "    build_page = urllib2.urlopen(build_url)\n",
    "    soup = BeautifulSoup(build_page.read())\n",
    "    visible_url = soup.findAll(\"div\", {\"class\": \"tabset-content\",  'se:behavior':\"loadable\"})\n",
    "    \n",
    "    #Note after some digging into the source code, it appears that all the sales are found\n",
    "    #using a modification of this visible url:\n",
    "    #ex: http://streeteasy.com/nyc/property_activity/past_transactions_body/8612508?all_activity=true&show_sales=true\n",
    "    building_number = re.search('[0-9]+',visible_url[0]['se:url'])\n",
    "    \n",
    "    #Get all past sales\n",
    "    sales_url = 'http://streeteasy.com/nyc/property_activity/past_transactions_body/{}?all_activity=true&show_sales=true'.format(building_number.group(0))\n",
    "    sales_page = urllib2.urlopen(sales_url)\n",
    "    soup = BeautifulSoup(sales_page.read())\n",
    "    \n",
    "    #Many rows in the table are not recorded sales- only those recorded as sold sold.\n",
    "    rows = soup.findAll('tr')\n",
    "    sold_rows = [row for row in soup.findAll('tr') if re.search('Sold', str(row))]\n",
    "    if len(sold_rows)>0:\n",
    "        parsed = pd.DataFrame([parse_row(row) for row in sold_rows])\n",
    "        parsed['Date'] = pd.to_datetime(parsed['Date'],infer_datetime_format=True)\n",
    "        parsed = parsed.loc[parsed['Date'].dt.year>=2010,:]\n",
    "        parsed.dropna(axis=0, how='any', inplace=True)\n",
    "        return parsed\n",
    "    else:\n",
    "        return None"
   ]
  },
  {
   "cell_type": "code",
   "execution_count": 94,
   "metadata": {
    "collapsed": true
   },
   "outputs": [],
   "source": [
    "def get_all_building_sales_regex(building_url):\n",
    "    \n",
    "    #Read in building page\n",
    "    build_url = 'http://streeteasy.com/{}#tab_building_detail=2'.format(building_url)\n",
    "    build_page = urllib2.urlopen(build_url).read()\n",
    "    \n",
    "    #Find building number using regex\n",
    "    visible_url = re.search('/nyc/property_activity/past_transactions_component/([0-9]*)', build_page)   \n",
    "    \n",
    "    if visible_url:\n",
    "        building_number = visible_url.group(1)\n",
    "\n",
    "        #Get all past sales for building\n",
    "        sales_table_url = 'http://streeteasy.com/nyc/property_activity/past_transactions_body/{}?all_activity=true&show_sales=true'.format(building_number)\n",
    "        sales_table_page = urllib2.urlopen(sales_table_url).read()\n",
    "        sales_urls = re.findall('/sale/[0-9]+', sales_table_page)\n",
    "        return sales_urls\n",
    "    \n",
    "    else:\n",
    "        return []\n",
    "    "
   ]
  },
  {
   "cell_type": "code",
   "execution_count": 79,
   "metadata": {
    "collapsed": false,
    "scrolled": false
   },
   "outputs": [
    {
     "name": "stdout",
     "output_type": "stream",
     "text": [
      "CPU times: user 7.83 s, sys: 119 ms, total: 7.95 s\n",
      "Wall time: 14.8 s\n",
      "CPU times: user 14.6 ms, sys: 8.65 ms, total: 23.2 ms\n",
      "Wall time: 5.01 s\n"
     ]
    },
    {
     "data": {
      "text/plain": [
       "['/sale/1095961',\n",
       " '/sale/1095961',\n",
       " '/sale/1219516',\n",
       " '/sale/1219516',\n",
       " '/sale/1211096',\n",
       " '/sale/1211096',\n",
       " '/sale/1230062',\n",
       " '/sale/1230062',\n",
       " '/sale/1168412',\n",
       " '/sale/1168412',\n",
       " '/sale/1178689',\n",
       " '/sale/1178689',\n",
       " '/sale/1214803',\n",
       " '/sale/1214803',\n",
       " '/sale/1206140',\n",
       " '/sale/1206140',\n",
       " '/sale/1123425',\n",
       " '/sale/1123425',\n",
       " '/sale/1108140',\n",
       " '/sale/1108140',\n",
       " '/sale/1131447',\n",
       " '/sale/1131447',\n",
       " '/sale/1130825',\n",
       " '/sale/1130825',\n",
       " '/sale/1188140',\n",
       " '/sale/1188140',\n",
       " '/sale/1174632',\n",
       " '/sale/1174632',\n",
       " '/sale/1138282',\n",
       " '/sale/1138282',\n",
       " '/sale/1218622',\n",
       " '/sale/1218622',\n",
       " '/sale/1146153',\n",
       " '/sale/1146153',\n",
       " '/sale/1192570',\n",
       " '/sale/1192570',\n",
       " '/sale/1100209',\n",
       " '/sale/1100209',\n",
       " '/sale/1114684',\n",
       " '/sale/1114684',\n",
       " '/sale/1178687',\n",
       " '/sale/1178687',\n",
       " '/sale/1205603',\n",
       " '/sale/1205603',\n",
       " '/sale/1178691',\n",
       " '/sale/1178691',\n",
       " '/sale/1206994',\n",
       " '/sale/1206994',\n",
       " '/sale/1206995',\n",
       " '/sale/1206995',\n",
       " '/sale/1114677',\n",
       " '/sale/1114677',\n",
       " '/sale/1136369',\n",
       " '/sale/1136369',\n",
       " '/sale/1210107',\n",
       " '/sale/1210107',\n",
       " '/sale/1126174',\n",
       " '/sale/1126174',\n",
       " '/sale/1203554',\n",
       " '/sale/1203554',\n",
       " '/sale/1206155',\n",
       " '/sale/1206155',\n",
       " '/sale/1143619',\n",
       " '/sale/1143619',\n",
       " '/sale/1123427',\n",
       " '/sale/1123427',\n",
       " '/sale/1190794',\n",
       " '/sale/1190794',\n",
       " '/sale/1138063',\n",
       " '/sale/1138063',\n",
       " '/sale/1100693',\n",
       " '/sale/1100693',\n",
       " '/sale/1187760',\n",
       " '/sale/1187760',\n",
       " '/sale/1175190',\n",
       " '/sale/1175190',\n",
       " '/sale/1190795',\n",
       " '/sale/1190795',\n",
       " '/sale/1178688',\n",
       " '/sale/1178688',\n",
       " '/sale/1174633',\n",
       " '/sale/1174633',\n",
       " '/sale/1178690',\n",
       " '/sale/1178690',\n",
       " '/sale/1123428',\n",
       " '/sale/1123428',\n",
       " '/sale/1126178',\n",
       " '/sale/1126178',\n",
       " '/sale/1100694',\n",
       " '/sale/1100694',\n",
       " '/sale/1176174',\n",
       " '/sale/1176174',\n",
       " '/sale/1176175',\n",
       " '/sale/1176175',\n",
       " '/sale/1158482',\n",
       " '/sale/1158482',\n",
       " '/sale/1146150',\n",
       " '/sale/1146150',\n",
       " '/sale/1138283',\n",
       " '/sale/1138283',\n",
       " '/sale/1108487',\n",
       " '/sale/1108487',\n",
       " '/sale/1176134',\n",
       " '/sale/1176134',\n",
       " '/sale/1138018',\n",
       " '/sale/1138018',\n",
       " '/sale/1133340',\n",
       " '/sale/1133340',\n",
       " '/sale/1114678',\n",
       " '/sale/1114678',\n",
       " '/sale/1138017',\n",
       " '/sale/1138017',\n",
       " '/sale/1126180',\n",
       " '/sale/1126180',\n",
       " '/sale/1146151',\n",
       " '/sale/1146151',\n",
       " '/sale/1147111',\n",
       " '/sale/1147111',\n",
       " '/sale/1146152',\n",
       " '/sale/1146152',\n",
       " '/sale/1135035',\n",
       " '/sale/1135035',\n",
       " '/sale/1127550',\n",
       " '/sale/1127550',\n",
       " '/sale/1154087',\n",
       " '/sale/1154087',\n",
       " '/sale/1141608',\n",
       " '/sale/1141608',\n",
       " '/sale/1141610',\n",
       " '/sale/1141610',\n",
       " '/sale/1105491',\n",
       " '/sale/1105491',\n",
       " '/sale/1100466',\n",
       " '/sale/1100466',\n",
       " '/sale/1154086',\n",
       " '/sale/1154086',\n",
       " '/sale/1126181',\n",
       " '/sale/1126181',\n",
       " '/sale/1130821',\n",
       " '/sale/1130821',\n",
       " '/sale/1123426',\n",
       " '/sale/1123426',\n",
       " '/sale/1127585',\n",
       " '/sale/1127585',\n",
       " '/sale/1126175',\n",
       " '/sale/1126175',\n",
       " '/sale/1110545',\n",
       " '/sale/1110545',\n",
       " '/sale/1141607',\n",
       " '/sale/1141607',\n",
       " '/sale/1141609',\n",
       " '/sale/1141609',\n",
       " '/sale/1138285',\n",
       " '/sale/1138285',\n",
       " '/sale/1141632',\n",
       " '/sale/1141632',\n",
       " '/sale/1136647',\n",
       " '/sale/1136647',\n",
       " '/sale/1160163',\n",
       " '/sale/1160163',\n",
       " '/sale/1106292',\n",
       " '/sale/1106292',\n",
       " '/sale/1095962',\n",
       " '/sale/1095962',\n",
       " '/sale/1145182',\n",
       " '/sale/1145182',\n",
       " '/sale/1143618',\n",
       " '/sale/1143618',\n",
       " '/sale/1145191',\n",
       " '/sale/1145191',\n",
       " '/sale/1145209',\n",
       " '/sale/1145209',\n",
       " '/sale/1127583',\n",
       " '/sale/1127583',\n",
       " '/sale/1117425',\n",
       " '/sale/1117425',\n",
       " '/sale/1106294',\n",
       " '/sale/1106294',\n",
       " '/sale/1131967',\n",
       " '/sale/1131967',\n",
       " '/sale/1106296',\n",
       " '/sale/1106296',\n",
       " '/sale/1124779',\n",
       " '/sale/1124779',\n",
       " '/sale/1113171',\n",
       " '/sale/1113171',\n",
       " '/sale/1105395',\n",
       " '/sale/1105395',\n",
       " '/sale/1098005',\n",
       " '/sale/1098005',\n",
       " '/sale/1096910',\n",
       " '/sale/1096910',\n",
       " '/sale/1105492',\n",
       " '/sale/1105492',\n",
       " '/sale/1131966',\n",
       " '/sale/1131966',\n",
       " '/sale/1096914',\n",
       " '/sale/1096914',\n",
       " '/sale/1130822',\n",
       " '/sale/1130822',\n",
       " '/sale/1135036',\n",
       " '/sale/1135036',\n",
       " '/sale/1134201',\n",
       " '/sale/1134201',\n",
       " '/sale/1138284',\n",
       " '/sale/1138284',\n",
       " '/sale/1130826',\n",
       " '/sale/1130826',\n",
       " '/sale/1100695',\n",
       " '/sale/1100695',\n",
       " '/sale/1106289',\n",
       " '/sale/1106289',\n",
       " '/sale/1127551',\n",
       " '/sale/1127551',\n",
       " '/sale/1141631',\n",
       " '/sale/1141631',\n",
       " '/sale/1141612',\n",
       " '/sale/1141612',\n",
       " '/sale/1095868',\n",
       " '/sale/1095868',\n",
       " '/sale/1141611',\n",
       " '/sale/1141611',\n",
       " '/sale/1145192',\n",
       " '/sale/1145192',\n",
       " '/sale/1126177',\n",
       " '/sale/1126177',\n",
       " '/sale/1145210',\n",
       " '/sale/1145210',\n",
       " '/sale/1108488',\n",
       " '/sale/1108488',\n",
       " '/sale/1145193',\n",
       " '/sale/1145193',\n",
       " '/sale/1101508',\n",
       " '/sale/1101508',\n",
       " '/sale/1117424',\n",
       " '/sale/1117424',\n",
       " '/sale/1095960',\n",
       " '/sale/1095960',\n",
       " '/sale/1100465',\n",
       " '/sale/1100465',\n",
       " '/sale/1121821',\n",
       " '/sale/1121821',\n",
       " '/sale/1121826',\n",
       " '/sale/1121826',\n",
       " '/sale/1098001',\n",
       " '/sale/1098001',\n",
       " '/sale/1100476',\n",
       " '/sale/1100476',\n",
       " '/sale/1100479',\n",
       " '/sale/1100479',\n",
       " '/sale/1135037',\n",
       " '/sale/1135037',\n",
       " '/sale/1113173',\n",
       " '/sale/1113173',\n",
       " '/sale/1106293',\n",
       " '/sale/1106293',\n",
       " '/sale/1098003',\n",
       " '/sale/1098003',\n",
       " '/sale/1100463',\n",
       " '/sale/1100463',\n",
       " '/sale/1100474',\n",
       " '/sale/1100474',\n",
       " '/sale/1110883',\n",
       " '/sale/1110883',\n",
       " '/sale/1097999',\n",
       " '/sale/1097999',\n",
       " '/sale/1100468',\n",
       " '/sale/1100468',\n",
       " '/sale/1127582',\n",
       " '/sale/1127582',\n",
       " '/sale/1095866',\n",
       " '/sale/1095866',\n",
       " '/sale/1095867',\n",
       " '/sale/1095867',\n",
       " '/sale/1127584',\n",
       " '/sale/1127584',\n",
       " '/sale/1098000',\n",
       " '/sale/1098000',\n",
       " '/sale/1098004',\n",
       " '/sale/1098004',\n",
       " '/sale/1098007',\n",
       " '/sale/1098007',\n",
       " '/sale/1097996',\n",
       " '/sale/1097996',\n",
       " '/sale/1097997',\n",
       " '/sale/1097997',\n",
       " '/sale/1110544',\n",
       " '/sale/1110544',\n",
       " '/sale/1097994',\n",
       " '/sale/1097994',\n",
       " '/sale/1097998',\n",
       " '/sale/1097998',\n",
       " '/sale/1098002',\n",
       " '/sale/1098002',\n",
       " '/sale/1108139',\n",
       " '/sale/1108139',\n",
       " '/sale/1098006',\n",
       " '/sale/1098006',\n",
       " '/sale/1097993',\n",
       " '/sale/1097993',\n",
       " '/sale/1096912',\n",
       " '/sale/1096912',\n",
       " '/sale/1106291',\n",
       " '/sale/1106291',\n",
       " '/sale/1106295',\n",
       " '/sale/1106295',\n",
       " '/sale/1100462',\n",
       " '/sale/1100462',\n",
       " '/sale/1100478',\n",
       " '/sale/1100478',\n",
       " '/sale/1100469',\n",
       " '/sale/1100469',\n",
       " '/sale/1101506',\n",
       " '/sale/1101506',\n",
       " '/sale/1110884',\n",
       " '/sale/1110884']"
      ]
     },
     "execution_count": 79,
     "metadata": {},
     "output_type": "execute_result"
    }
   ],
   "source": [
    "%time get_all_building_sales(building_url)\n",
    "%time get_all_building_sales_regex(building_url)"
   ]
  },
  {
   "cell_type": "code",
   "execution_count": 92,
   "metadata": {
    "collapsed": true
   },
   "outputs": [],
   "source": [
    "def get_all_sales_for_time_test(first_15):\n",
    "    sales = []\n",
    "    for building in first_15:\n",
    "        sales.extend(get_all_building_sales_regex(building))\n",
    "    return sales"
   ]
  },
  {
   "cell_type": "code",
   "execution_count": 95,
   "metadata": {
    "collapsed": false
   },
   "outputs": [
    {
     "name": "stdout",
     "output_type": "stream",
     "text": [
      "CPU times: user 3.61 s, sys: 2.43 s, total: 6.04 s\n",
      "Wall time: 20min 31s\n"
     ]
    }
   ],
   "source": [
    "%time sales = get_all_sales_for_time_test(list(set(first_15)))"
   ]
  },
  {
   "cell_type": "code",
   "execution_count": 97,
   "metadata": {
    "collapsed": false
   },
   "outputs": [
    {
     "data": {
      "text/plain": [
       "26889"
      ]
     },
     "execution_count": 97,
     "metadata": {},
     "output_type": "execute_result"
    }
   ],
   "source": [
    "len(list(set(sales)))"
   ]
  },
  {
   "cell_type": "code",
   "execution_count": 100,
   "metadata": {
    "collapsed": false
   },
   "outputs": [
    {
     "data": {
      "text/plain": [
       "['/sale/1198913',\n",
       " '/sale/927342',\n",
       " '/sale/840286',\n",
       " '/sale/880849',\n",
       " '/sale/1144747',\n",
       " '/sale/95681']"
      ]
     },
     "execution_count": 100,
     "metadata": {},
     "output_type": "execute_result"
    }
   ],
   "source": [
    "list(set(sales))[0:6]"
   ]
  },
  {
   "cell_type": "code",
   "execution_count": 103,
   "metadata": {
    "collapsed": true
   },
   "outputs": [],
   "source": [
    "sale_nums = [int(x.split('/')[-1]) for x in list(set(sales))]"
   ]
  },
  {
   "cell_type": "code",
   "execution_count": 104,
   "metadata": {
    "collapsed": false
   },
   "outputs": [
    {
     "data": {
      "text/plain": [
       "1249694"
      ]
     },
     "execution_count": 104,
     "metadata": {},
     "output_type": "execute_result"
    }
   ],
   "source": [
    "import numpy as np\n",
    "np.max(sale_nums)"
   ]
  },
  {
   "cell_type": "code",
   "execution_count": 105,
   "metadata": {
    "collapsed": false
   },
   "outputs": [
    {
     "data": {
      "text/plain": [
       "5231"
      ]
     },
     "execution_count": 105,
     "metadata": {},
     "output_type": "execute_result"
    }
   ],
   "source": [
    "np.min(sale_nums)"
   ]
  },
  {
   "cell_type": "markdown",
   "metadata": {},
   "source": [
    "# Step 3- not implemented\n",
    "\n",
    "Note step 3 (scraping sale page) is not implemented here since it was previously implemented to scrape current sales."
   ]
  }
 ],
 "metadata": {
  "kernelspec": {
   "display_name": "Python 2",
   "language": "python",
   "name": "python2"
  },
  "language_info": {
   "codemirror_mode": {
    "name": "ipython",
    "version": 2
   },
   "file_extension": ".py",
   "mimetype": "text/x-python",
   "name": "python",
   "nbconvert_exporter": "python",
   "pygments_lexer": "ipython2",
   "version": "2.7.10"
  }
 },
 "nbformat": 4,
 "nbformat_minor": 0
}
